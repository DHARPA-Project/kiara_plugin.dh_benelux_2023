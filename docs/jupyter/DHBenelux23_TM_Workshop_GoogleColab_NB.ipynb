{
  "cells": [
    {
      "attachments": {},
      "cell_type": "markdown",
      "metadata": {
        "id": "QgW9WDue2E2s"
      },
      "source": [
        "# **Topic modelling with *kiara***\n",
        "In this tutorial, you will learn how to use the state-of-the-art data orchestration sofware *kiara* to perform topic modelling on a large-scale corpus."
      ]
    },
    {
      "attachments": {},
      "cell_type": "markdown",
      "metadata": {
        "id": "OITKgMOLxhWL"
      },
      "source": [
        "#**Digital research** \n",
        "As digital methods are more and more used in research, the need for transparency and critical reflection is ever more pressing. Regardless of the type of digital analysis that is performed or even the software that is used, documenting the *process* and not just the product becomes integral to the validity of the research findings. \n",
        "\n",
        "Despite a fast changing technological landscape, however, there is a frustrating lack of tools that allow you to document the process of digital knowledge production. In other words, how can we keep track of our methodological decisions and interventations?"
      ]
    },
    {
      "attachments": {},
      "cell_type": "markdown",
      "metadata": {
        "id": "NtsNvS7G8MrO"
      },
      "source": [
        "# **Introducing *kiara***\n",
        "*kiara* is a state-of-the-art sofware that allows researchers to document and critically reflect not solely on the digital methods and approaches they use, but perhaps more importantly also on how those methods and choices impact on the sources. When you begin using *kiara*, your research choices and changes to the data are recorded so that you will be able to visualise and examine the individual steps you took and how your data changed accordingly. This is important for the researcher, but also for reproducibility and replicability purposes.\n",
        "\n",
        "*kiara* currently features several digital research approaches such as textual analysis and network analysis. In this tutorial, we will cover **Natural Language Processing** (NLP). \n",
        "\n",
        "For more information and updates on *kiara*, please check the [project's repository](https://github.com/DHARPA-Project/kiara)."
      ]
    },
    {
      "attachments": {},
      "cell_type": "markdown",
      "metadata": {
        "id": "O6ByKvfJE9Bu"
      },
      "source": [
        "# **Why NLP?**\n",
        "\n",
        "Natural language processing technology allows researchers to sort through unstructured data such as plain text. In other words, by adding numerical value to text, computers can 'understand' language and perform advanced operations such as text categorisation, labelling, summarisation and so on. There are two main stages in NLP: pre-processing and analysis (aka, algorithm development and/or implementation). Here we will cover both stages; for the pre-processing part, we will use as an example some of the most common pre-processing operations such as tokenisation, lowercasing, removing stopwords, etc. For the analysis, we will use the example of another widely used text analysis method called **Topic Modelling**. For more information about the pre-processing operations and topic modelling and a more in-depth discussion particularly for humanities research, please refer to this repository [here](https://github.com/DHARPA-Project/TopicModelling-)."
      ]
    },
    {
      "attachments": {},
      "cell_type": "markdown",
      "metadata": {
        "id": "5aDcTFiy6sPf"
      },
      "source": [
        "# **The case study: narratives of migration by Italian Americans, 1898-1936**\n",
        "This tutorial uses *kiara* to examine how the changing experience of migration, identity construction, and assimilation is reflected over time in the accounts of migrants themselves. Using a corpus of Italian American newspapers, the analysis will allow us to address the fundamental question whether ethnic media facilitate assimilation and integration, or rather isolate immigrants from their new society by keeping them in the cultural sphere of their homeland (Parks, 2014).\n",
        "The case study used for this tutorial is partially based on [Viola and Verheul (2019)](https://academic.oup.com/dsh/article/35/4/921/5601610#209907403)."
      ]
    },
    {
      "attachments": {},
      "cell_type": "markdown",
      "metadata": {
        "id": "l8LZpodn8tmc"
      },
      "source": [
        "# **Before starting**\n",
        "For this tutorial, you will need a basic understanding of Python and how to run Python code, whether that be via Jupyter Notebooks or using a text editor and the command line. You will also need to install *kiara*. Please refer to the installation procedure [here](http://dharpa.org/kiara.documentation/latest/workshop/workshop/)."
      ]
    },
    {
      "cell_type": "code",
      "execution_count": null,
      "metadata": {
        "id": "Z8Jslt5M6v_i"
      },
      "outputs": [],
      "source": [
        "%%capture\n",
        "! pip install git+https://github.com/DHARPA-Project/kiara_plugin.dh_benelux_2023"
      ]
    },
    {
      "attachments": {},
      "cell_type": "markdown",
      "metadata": {
        "id": "rLCL6xxr5th-"
      },
      "source": [
        "# **Preparing the environment**\n",
        "In order to use *kiara*, we first need to create a KiaraAPI instance. An API allows us to control and interact with *kiara* and its functions. In *kiara* this also allows us to obtain information on the available operations and on how these operations impact on the sources. For more information about the KiaraAPI, see the *kiara* API documentation [here](https://dharpa.org/kiara/latest/reference/kiara/interfaces/python_api/__init__/#kiara.interfaces.python_api.KiaraAPI)."
      ]
    },
    {
      "cell_type": "code",
      "execution_count": null,
      "metadata": {
        "id": "tYpxBzEp7wO4"
      },
      "outputs": [],
      "source": [
        "from kiara.api import KiaraAPI\n",
        "\n",
        "kiara = KiaraAPI.instance()"
      ]
    },
    {
      "attachments": {},
      "cell_type": "markdown",
      "metadata": {
        "id": "YRIJW_FS6SqV"
      },
      "source": [
        "We can now ask *kiara* to list all the operations that are included with the plugins we installed in the previous step."
      ]
    },
    {
      "cell_type": "code",
      "execution_count": null,
      "metadata": {
        "colab": {
          "base_uri": "https://localhost:8080/"
        },
        "id": "_9r5zxTl7_qM",
        "outputId": "65db78fa-2a47-4331-b4ed-0ab8dc495e5c"
      },
      "outputs": [
        {
          "data": {
            "text/plain": [
              "['assemble.network_data.from.files',\n",
              " 'assemble.network_data.from.tables',\n",
              " 'create.database.from.file',\n",
              " 'create.database.from.file_bundle',\n",
              " 'create.database.from.table',\n",
              " 'create.network_data.from.file',\n",
              " 'create.stopwords_list',\n",
              " 'create.table.from.file',\n",
              " 'create.table.from.file_bundle',\n",
              " 'date.check_range',\n",
              " 'date.extract_from_string',\n",
              " 'download.file',\n",
              " 'download.file_bundle',\n",
              " 'export.file.as.file',\n",
              " 'export.network_data.as.csv_files',\n",
              " 'export.network_data.as.graphml_file',\n",
              " 'export.network_data.as.sql_dump',\n",
              " 'export.network_data.as.sqlite_db',\n",
              " 'export.table.as.csv_file',\n",
              " 'extract.date_array.from.table',\n",
              " 'file_bundle.pick.file',\n",
              " 'file_bundle.pick.sub_folder',\n",
              " 'generate.LDA.for.tokens_array',\n",
              " 'import.database.from.local_file_path',\n",
              " 'import.file',\n",
              " 'import.file_bundle',\n",
              " 'import.local.file',\n",
              " 'import.local.file_bundle',\n",
              " 'import.network_data.from.local_file_paths',\n",
              " 'import.table.from.local_file_path',\n",
              " 'import.table.from.local_folder_path',\n",
              " 'list.contains',\n",
              " 'logic.and',\n",
              " 'logic.nand',\n",
              " 'logic.nor',\n",
              " 'logic.not',\n",
              " 'logic.or',\n",
              " 'logic.xor',\n",
              " 'network_data.extract_largest_component',\n",
              " 'onboard.zenodo_record',\n",
              " 'parse.date_array',\n",
              " 'preprocess.tokens_array',\n",
              " 'query.database',\n",
              " 'query.table',\n",
              " 'render.markdown.to.html',\n",
              " 'string_filter.tokens',\n",
              " 'table.pick.column',\n",
              " 'table_filter.drop_columns',\n",
              " 'table_filter.select_columns',\n",
              " 'table_filter.select_rows',\n",
              " 'tokenize.string',\n",
              " 'tokenize.texts_array']"
            ]
          },
          "execution_count": 15,
          "metadata": {},
          "output_type": "execute_result"
        }
      ],
      "source": [
        "kiara.list_operation_ids()"
      ]
    },
    {
      "attachments": {},
      "cell_type": "markdown",
      "metadata": {
        "id": "cnMxL_gaqLAd"
      },
      "source": [
        "# **Data onboarding**\n",
        "In this tutorial, we will be using a sample from [*ChroniclItaly 3.0*](https://zenodo.org/record/4596345#.ZFJaGnZBw2w) (Viola and Fiscarelli 2021, Viola 2021), an open access digital heritage collection of Italian immigrant newspapers published in the United States from 1898 to 1936. This corpus includes the digitized (OCRed) front pages of ten Italian American newspapers as collected from [*Chronicling America*](https://chroniclingamerica.loc.gov/), an Internet-based, searchable database of U.S. newspapers published in the United States from 1789 to 1963 made available by the Library of Congress. The corpus is also a good example of how we can use metadata for historical research. The filenames of the files in *ChroniclItaly 3.0* already contain important metadata information such as the publication date and the publication reference number. The file name structure is:\n",
        "\n",
        "LCCNnumber_date_pageNumber_ocr.txt\n",
        "\n",
        "Therefore, the file name ‘sn84037025_1917-04-14_ed-1_seq-1_ocr.txt ’ refers to the OCR text file of the first page of the first edition of the title *La Rassegna* published on 14 April 1917. If your files also contain metadata information, *kiara* allows you to retrieve both the files and the metadata in the filenames. This is very useful for historical research, but also to keep track of how we are intervening on our sources. Let's see how this works."
      ]
    },
    {
      "cell_type": "code",
      "execution_count": null,
      "metadata": {
        "colab": {
          "base_uri": "https://localhost:8080/",
          "height": 1000
        },
        "id": "p3aPDJo38DGN",
        "outputId": "22eccecc-153c-46a2-fd56-83e0072cba9e"
      },
      "outputs": [
        {
          "name": "stdout",
          "output_type": "stream",
          "text": [
            "patool: Extracting /tmp/tmpq42o27ez ...\n",
            "patool: running /usr/bin/7z x -o/tmp/tmpg701j27e -- /tmp/tmpq42o27ez\n",
            "patool: ... /tmp/tmpq42o27ez extracted to `/tmp/tmpg701j27e'.\n"
          ]
        },
        {
          "data": {
            "text/html": [
              "<pre style=\"white-space:pre;overflow-x:auto;line-height:normal;font-family:Menlo,'DejaVu Sans Mono',consolas,'Courier New',monospace\">╭──────────────────────────────────────────────────────────────────────────────────────────────────────────────────────────────────────────╮\n",
              "│                                                                                                                                          │\n",
              "│  <span style=\"font-weight: bold\"> field             </span> <span style=\"font-weight: bold\"> value                                                                                                            </span>  │\n",
              "│  ──────────────────────────────────────────────────────────────────────────────────────────────────────────────────────────────────────  │\n",
              "│  <span style=\"font-weight: bold\"> download_metadata </span> <span style=\"font-style: italic\">                                                                                                                  </span>  │\n",
              "│  <span style=\"font-weight: bold\">                   </span> <span style=\"font-style: italic\">   dict data     </span><span style=\"color: #f8f8f2; text-decoration-color: #f8f8f2; background-color: #ffffff\">{</span><span style=\"font-style: italic\">                                                                                                </span>  │\n",
              "│  <span style=\"font-weight: bold\">                   </span> <span style=\"font-style: italic\">                 </span><span style=\"color: #f8f8f2; text-decoration-color: #f8f8f2; background-color: #ffffff\">  </span><span style=\"color: #f92672; text-decoration-color: #f92672; background-color: #ffffff\">\"response_headers\"</span><span style=\"color: #f8f8f2; text-decoration-color: #f8f8f2; background-color: #ffffff\">: [</span><span style=\"font-style: italic\">                                                                          </span>  │\n",
              "│  <span style=\"font-weight: bold\">                   </span> <span style=\"font-style: italic\">                 </span><span style=\"color: #f8f8f2; text-decoration-color: #f8f8f2; background-color: #ffffff\">    {</span><span style=\"font-style: italic\">                                                                                            </span>  │\n",
              "│  <span style=\"font-weight: bold\">                   </span> <span style=\"font-style: italic\">                 </span><span style=\"color: #f8f8f2; text-decoration-color: #f8f8f2; background-color: #ffffff\">      </span><span style=\"color: #f92672; text-decoration-color: #f92672; background-color: #ffffff\">\"access-control-allow-origin\"</span><span style=\"color: #f8f8f2; text-decoration-color: #f8f8f2; background-color: #ffffff\">: </span><span style=\"color: #e6db74; text-decoration-color: #e6db74; background-color: #ffffff\">\"https://render.githubusercontent.com\"</span><span style=\"color: #f8f8f2; text-decoration-color: #f8f8f2; background-color: #ffffff\">,</span><span style=\"font-style: italic\">                     </span>  │\n",
              "│  <span style=\"font-weight: bold\">                   </span> <span style=\"font-style: italic\">                 </span><span style=\"color: #f8f8f2; text-decoration-color: #f8f8f2; background-color: #ffffff\">      </span><span style=\"color: #f92672; text-decoration-color: #f92672; background-color: #ffffff\">\"content-disposition\"</span><span style=\"color: #f8f8f2; text-decoration-color: #f8f8f2; background-color: #ffffff\">: </span><span style=\"color: #e6db74; text-decoration-color: #e6db74; background-color: #ffffff\">\"attachment; filename=kiara.examples-main.zip\"</span><span style=\"color: #f8f8f2; text-decoration-color: #f8f8f2; background-color: #ffffff\">,</span><span style=\"font-style: italic\">                     </span>  │\n",
              "│  <span style=\"font-weight: bold\">                   </span> <span style=\"font-style: italic\">                 </span><span style=\"color: #f8f8f2; text-decoration-color: #f8f8f2; background-color: #ffffff\">      </span><span style=\"color: #f92672; text-decoration-color: #f92672; background-color: #ffffff\">\"content-security-policy\"</span><span style=\"color: #f8f8f2; text-decoration-color: #f8f8f2; background-color: #ffffff\">: </span><span style=\"color: #e6db74; text-decoration-color: #e6db74; background-color: #ffffff\">\"default-src 'none'; style-src 'unsafe-inline'; sandbox\"</span><span style=\"color: #f8f8f2; text-decoration-color: #f8f8f2; background-color: #ffffff\">,</span><span style=\"font-style: italic\">       </span>  │\n",
              "│  <span style=\"font-weight: bold\">                   </span> <span style=\"font-style: italic\">                 </span><span style=\"color: #f8f8f2; text-decoration-color: #f8f8f2; background-color: #ffffff\">      </span><span style=\"color: #f92672; text-decoration-color: #f92672; background-color: #ffffff\">\"content-type\"</span><span style=\"color: #f8f8f2; text-decoration-color: #f8f8f2; background-color: #ffffff\">: </span><span style=\"color: #e6db74; text-decoration-color: #e6db74; background-color: #ffffff\">\"application/zip\"</span><span style=\"color: #f8f8f2; text-decoration-color: #f8f8f2; background-color: #ffffff\">,</span><span style=\"font-style: italic\">                                                         </span>  │\n",
              "│  <span style=\"font-weight: bold\">                   </span> <span style=\"font-style: italic\">                 </span><span style=\"color: #f8f8f2; text-decoration-color: #f8f8f2; background-color: #ffffff\">      </span><span style=\"color: #f92672; text-decoration-color: #f92672; background-color: #ffffff\">\"etag\"</span><span style=\"color: #f8f8f2; text-decoration-color: #f8f8f2; background-color: #ffffff\">: </span><span style=\"color: #e6db74; text-decoration-color: #e6db74; background-color: #ffffff\">\"W/\\\"cb5ee0548e9c974c1e2900590d33b78768ed5042927451560d7d028a945a9b02\\\"\"</span><span style=\"color: #f8f8f2; text-decoration-color: #f8f8f2; background-color: #ffffff\">,</span><span style=\"font-style: italic\">          </span>  │\n",
              "│  <span style=\"font-weight: bold\">                   </span> <span style=\"font-style: italic\">                 </span><span style=\"color: #f8f8f2; text-decoration-color: #f8f8f2; background-color: #ffffff\">      </span><span style=\"color: #f92672; text-decoration-color: #f92672; background-color: #ffffff\">\"strict-transport-security\"</span><span style=\"color: #f8f8f2; text-decoration-color: #f8f8f2; background-color: #ffffff\">: </span><span style=\"color: #e6db74; text-decoration-color: #e6db74; background-color: #ffffff\">\"max-age=31536000\"</span><span style=\"color: #f8f8f2; text-decoration-color: #f8f8f2; background-color: #ffffff\">,</span><span style=\"font-style: italic\">                                           </span>  │\n",
              "│  <span style=\"font-weight: bold\">                   </span> <span style=\"font-style: italic\">                 </span><span style=\"color: #f8f8f2; text-decoration-color: #f8f8f2; background-color: #ffffff\">      </span><span style=\"color: #f92672; text-decoration-color: #f92672; background-color: #ffffff\">\"vary\"</span><span style=\"color: #f8f8f2; text-decoration-color: #f8f8f2; background-color: #ffffff\">: </span><span style=\"color: #e6db74; text-decoration-color: #e6db74; background-color: #ffffff\">\"Authorization,Accept-Encoding,Origin\"</span><span style=\"color: #f8f8f2; text-decoration-color: #f8f8f2; background-color: #ffffff\">,</span><span style=\"font-style: italic\">                                            </span>  │\n",
              "│  <span style=\"font-weight: bold\">                   </span> <span style=\"font-style: italic\">                 </span><span style=\"color: #f8f8f2; text-decoration-color: #f8f8f2; background-color: #ffffff\">      </span><span style=\"color: #f92672; text-decoration-color: #f92672; background-color: #ffffff\">\"x-content-type-options\"</span><span style=\"color: #f8f8f2; text-decoration-color: #f8f8f2; background-color: #ffffff\">: </span><span style=\"color: #e6db74; text-decoration-color: #e6db74; background-color: #ffffff\">\"nosniff\"</span><span style=\"color: #f8f8f2; text-decoration-color: #f8f8f2; background-color: #ffffff\">,</span><span style=\"font-style: italic\">                                                       </span>  │\n",
              "│  <span style=\"font-weight: bold\">                   </span> <span style=\"font-style: italic\">                 </span><span style=\"color: #f8f8f2; text-decoration-color: #f8f8f2; background-color: #ffffff\">      </span><span style=\"color: #f92672; text-decoration-color: #f92672; background-color: #ffffff\">\"x-frame-options\"</span><span style=\"color: #f8f8f2; text-decoration-color: #f8f8f2; background-color: #ffffff\">: </span><span style=\"color: #e6db74; text-decoration-color: #e6db74; background-color: #ffffff\">\"deny\"</span><span style=\"color: #f8f8f2; text-decoration-color: #f8f8f2; background-color: #ffffff\">,</span><span style=\"font-style: italic\">                                                                 </span>  │\n",
              "│  <span style=\"font-weight: bold\">                   </span> <span style=\"font-style: italic\">                 </span><span style=\"color: #f8f8f2; text-decoration-color: #f8f8f2; background-color: #ffffff\">      </span><span style=\"color: #f92672; text-decoration-color: #f92672; background-color: #ffffff\">\"x-xss-protection\"</span><span style=\"color: #f8f8f2; text-decoration-color: #f8f8f2; background-color: #ffffff\">: </span><span style=\"color: #e6db74; text-decoration-color: #e6db74; background-color: #ffffff\">\"1; mode=block\"</span><span style=\"color: #f8f8f2; text-decoration-color: #f8f8f2; background-color: #ffffff\">,</span><span style=\"font-style: italic\">                                                       </span>  │\n",
              "│  <span style=\"font-weight: bold\">                   </span> <span style=\"font-style: italic\">                 </span><span style=\"color: #f8f8f2; text-decoration-color: #f8f8f2; background-color: #ffffff\">      </span><span style=\"color: #f92672; text-decoration-color: #f92672; background-color: #ffffff\">\"date\"</span><span style=\"color: #f8f8f2; text-decoration-color: #f8f8f2; background-color: #ffffff\">: </span><span style=\"color: #e6db74; text-decoration-color: #e6db74; background-color: #ffffff\">\"Thu, 04 May 2023 10:31:36 GMT\"</span><span style=\"color: #f8f8f2; text-decoration-color: #f8f8f2; background-color: #ffffff\">,</span><span style=\"font-style: italic\">                                                   </span>  │\n",
              "│  <span style=\"font-weight: bold\">                   </span> <span style=\"font-style: italic\">                 </span><span style=\"color: #f8f8f2; text-decoration-color: #f8f8f2; background-color: #ffffff\">      </span><span style=\"color: #f92672; text-decoration-color: #f92672; background-color: #ffffff\">\"transfer-encoding\"</span><span style=\"color: #f8f8f2; text-decoration-color: #f8f8f2; background-color: #ffffff\">: </span><span style=\"color: #e6db74; text-decoration-color: #e6db74; background-color: #ffffff\">\"chunked\"</span><span style=\"color: #f8f8f2; text-decoration-color: #f8f8f2; background-color: #ffffff\">,</span><span style=\"font-style: italic\">                                                            </span>  │\n",
              "│  <span style=\"font-weight: bold\">                   </span> <span style=\"font-style: italic\">                 </span><span style=\"color: #f8f8f2; text-decoration-color: #f8f8f2; background-color: #ffffff\">      </span><span style=\"color: #f92672; text-decoration-color: #f92672; background-color: #ffffff\">\"x-github-request-id\"</span><span style=\"color: #f8f8f2; text-decoration-color: #f8f8f2; background-color: #ffffff\">: </span><span style=\"color: #e6db74; text-decoration-color: #e6db74; background-color: #ffffff\">\"D20C:450D:10D5AC:137170:64538988\"</span><span style=\"font-style: italic\">                                  </span>  │\n",
              "│  <span style=\"font-weight: bold\">                   </span> <span style=\"font-style: italic\">                 </span><span style=\"color: #f8f8f2; text-decoration-color: #f8f8f2; background-color: #ffffff\">    },</span><span style=\"font-style: italic\">                                                                                           </span>  │\n",
              "│  <span style=\"font-weight: bold\">                   </span> <span style=\"font-style: italic\">                 </span><span style=\"color: #f8f8f2; text-decoration-color: #f8f8f2; background-color: #ffffff\">    {</span><span style=\"font-style: italic\">                                                                                            </span>  │\n",
              "│  <span style=\"font-weight: bold\">                   </span> <span style=\"font-style: italic\">                 </span><span style=\"color: #f8f8f2; text-decoration-color: #f8f8f2; background-color: #ffffff\">      </span><span style=\"color: #f92672; text-decoration-color: #f92672; background-color: #ffffff\">\"server\"</span><span style=\"color: #f8f8f2; text-decoration-color: #f8f8f2; background-color: #ffffff\">: </span><span style=\"color: #e6db74; text-decoration-color: #e6db74; background-color: #ffffff\">\"GitHub.com\"</span><span style=\"color: #f8f8f2; text-decoration-color: #f8f8f2; background-color: #ffffff\">,</span><span style=\"font-style: italic\">                                                                    </span>  │\n",
              "│  <span style=\"font-weight: bold\">                   </span> <span style=\"font-style: italic\">                 </span><span style=\"color: #f8f8f2; text-decoration-color: #f8f8f2; background-color: #ffffff\">      </span><span style=\"color: #f92672; text-decoration-color: #f92672; background-color: #ffffff\">\"date\"</span><span style=\"color: #f8f8f2; text-decoration-color: #f8f8f2; background-color: #ffffff\">: </span><span style=\"color: #e6db74; text-decoration-color: #e6db74; background-color: #ffffff\">\"Thu, 04 May 2023 10:31:35 GMT\"</span><span style=\"color: #f8f8f2; text-decoration-color: #f8f8f2; background-color: #ffffff\">,</span><span style=\"font-style: italic\">                                                   </span>  │\n",
              "│  <span style=\"font-weight: bold\">                   </span> <span style=\"font-style: italic\">                 </span><span style=\"color: #f8f8f2; text-decoration-color: #f8f8f2; background-color: #ffffff\">      </span><span style=\"color: #f92672; text-decoration-color: #f92672; background-color: #ffffff\">\"content-type\"</span><span style=\"color: #f8f8f2; text-decoration-color: #f8f8f2; background-color: #ffffff\">: </span><span style=\"color: #e6db74; text-decoration-color: #e6db74; background-color: #ffffff\">\"text/html; charset=utf-8\"</span><span style=\"color: #f8f8f2; text-decoration-color: #f8f8f2; background-color: #ffffff\">,</span><span style=\"font-style: italic\">                                                </span>  │\n",
              "│  <span style=\"font-weight: bold\">                   </span> <span style=\"font-style: italic\">                 </span><span style=\"color: #f8f8f2; text-decoration-color: #f8f8f2; background-color: #ffffff\">      </span><span style=\"color: #f92672; text-decoration-color: #f92672; background-color: #ffffff\">\"vary\"</span><span style=\"color: #f8f8f2; text-decoration-color: #f8f8f2; background-color: #ffffff\">: </span><span style=\"color: #e6db74; text-decoration-color: #e6db74; background-color: #ffffff\">\"X-PJAX, X-PJAX-Container, Turbo-Visit, Turbo-Frame, Accept-Encoding, Accept, X…</span><span style=\"font-style: italic\">   </span>  │\n",
              "│  <span style=\"font-weight: bold\">                   </span> <span style=\"font-style: italic\">                 </span><span style=\"color: #f8f8f2; text-decoration-color: #f8f8f2; background-color: #ffffff\">      </span><span style=\"color: #f92672; text-decoration-color: #f92672; background-color: #ffffff\">\"location\"</span><span style=\"color: #f8f8f2; text-decoration-color: #f8f8f2; background-color: #ffffff\">: </span><span style=\"color: #e6db74; text-decoration-color: #e6db74; background-color: #ffffff\">\"https://codeload.github.com/DHARPA-Project/kiara.examples/zip/refs/heads/m…</span><span style=\"font-style: italic\">   </span>  │\n",
              "│  <span style=\"font-weight: bold\">                   </span> <span style=\"font-style: italic\">                 </span><span style=\"color: #f8f8f2; text-decoration-color: #f8f8f2; background-color: #ffffff\">      </span><span style=\"color: #f92672; text-decoration-color: #f92672; background-color: #ffffff\">\"cache-control\"</span><span style=\"color: #f8f8f2; text-decoration-color: #f8f8f2; background-color: #ffffff\">: </span><span style=\"color: #e6db74; text-decoration-color: #e6db74; background-color: #ffffff\">\"max-age=0, private\"</span><span style=\"color: #f8f8f2; text-decoration-color: #f8f8f2; background-color: #ffffff\">,</span><span style=\"font-style: italic\">                                                     </span>  │\n",
              "│  <span style=\"font-weight: bold\">                   </span> <span style=\"font-style: italic\">                 </span><span style=\"color: #f8f8f2; text-decoration-color: #f8f8f2; background-color: #ffffff\">      </span><span style=\"color: #f92672; text-decoration-color: #f92672; background-color: #ffffff\">\"strict-transport-security\"</span><span style=\"color: #f8f8f2; text-decoration-color: #f8f8f2; background-color: #ffffff\">: </span><span style=\"color: #e6db74; text-decoration-color: #e6db74; background-color: #ffffff\">\"max-age=31536000; includeSubdomains; preload\"</span><span style=\"color: #f8f8f2; text-decoration-color: #f8f8f2; background-color: #ffffff\">,</span><span style=\"font-style: italic\">               </span>  │\n",
              "│  <span style=\"font-weight: bold\">                   </span> <span style=\"font-style: italic\">                 </span><span style=\"color: #f8f8f2; text-decoration-color: #f8f8f2; background-color: #ffffff\">      </span><span style=\"color: #f92672; text-decoration-color: #f92672; background-color: #ffffff\">\"x-frame-options\"</span><span style=\"color: #f8f8f2; text-decoration-color: #f8f8f2; background-color: #ffffff\">: </span><span style=\"color: #e6db74; text-decoration-color: #e6db74; background-color: #ffffff\">\"deny\"</span><span style=\"color: #f8f8f2; text-decoration-color: #f8f8f2; background-color: #ffffff\">,</span><span style=\"font-style: italic\">                                                                 </span>  │\n",
              "│  <span style=\"font-weight: bold\">                   </span> <span style=\"font-style: italic\">                 </span><span style=\"color: #f8f8f2; text-decoration-color: #f8f8f2; background-color: #ffffff\">      </span><span style=\"color: #f92672; text-decoration-color: #f92672; background-color: #ffffff\">\"x-content-type-options\"</span><span style=\"color: #f8f8f2; text-decoration-color: #f8f8f2; background-color: #ffffff\">: </span><span style=\"color: #e6db74; text-decoration-color: #e6db74; background-color: #ffffff\">\"nosniff\"</span><span style=\"color: #f8f8f2; text-decoration-color: #f8f8f2; background-color: #ffffff\">,</span><span style=\"font-style: italic\">                                                       </span>  │\n",
              "│  <span style=\"font-weight: bold\">                   </span> <span style=\"font-style: italic\">                 </span><span style=\"color: #f8f8f2; text-decoration-color: #f8f8f2; background-color: #ffffff\">      </span><span style=\"color: #f92672; text-decoration-color: #f92672; background-color: #ffffff\">\"x-xss-protection\"</span><span style=\"color: #f8f8f2; text-decoration-color: #f8f8f2; background-color: #ffffff\">: </span><span style=\"color: #e6db74; text-decoration-color: #e6db74; background-color: #ffffff\">\"0\"</span><span style=\"color: #f8f8f2; text-decoration-color: #f8f8f2; background-color: #ffffff\">,</span><span style=\"font-style: italic\">                                                                   </span>  │\n",
              "│  <span style=\"font-weight: bold\">                   </span> <span style=\"font-style: italic\">                 </span><span style=\"color: #f8f8f2; text-decoration-color: #f8f8f2; background-color: #ffffff\">      </span><span style=\"color: #f92672; text-decoration-color: #f92672; background-color: #ffffff\">\"referrer-policy\"</span><span style=\"color: #f8f8f2; text-decoration-color: #f8f8f2; background-color: #ffffff\">: </span><span style=\"color: #e6db74; text-decoration-color: #e6db74; background-color: #ffffff\">\"no-referrer-when-downgrade\"</span><span style=\"color: #f8f8f2; text-decoration-color: #f8f8f2; background-color: #ffffff\">,</span><span style=\"font-style: italic\">                                           </span>  │\n",
              "│  <span style=\"font-weight: bold\">                   </span> <span style=\"font-style: italic\">                 </span><span style=\"color: #f8f8f2; text-decoration-color: #f8f8f2; background-color: #ffffff\">      </span><span style=\"color: #f92672; text-decoration-color: #f92672; background-color: #ffffff\">\"content-security-policy\"</span><span style=\"color: #f8f8f2; text-decoration-color: #f8f8f2; background-color: #ffffff\">: </span><span style=\"color: #e6db74; text-decoration-color: #e6db74; background-color: #ffffff\">\"default-src 'none'; base-uri 'self'; block-all-mixed-conten…</span><span style=\"font-style: italic\">   </span>  │\n",
              "│  <span style=\"font-weight: bold\">                   </span> <span style=\"font-style: italic\">                 </span><span style=\"color: #f8f8f2; text-decoration-color: #f8f8f2; background-color: #ffffff\">      </span><span style=\"color: #f92672; text-decoration-color: #f92672; background-color: #ffffff\">\"content-length\"</span><span style=\"color: #f8f8f2; text-decoration-color: #f8f8f2; background-color: #ffffff\">: </span><span style=\"color: #e6db74; text-decoration-color: #e6db74; background-color: #ffffff\">\"0\"</span><span style=\"color: #f8f8f2; text-decoration-color: #f8f8f2; background-color: #ffffff\">,</span><span style=\"font-style: italic\">                                                                     </span>  │\n",
              "│  <span style=\"font-weight: bold\">                   </span> <span style=\"font-style: italic\">                 </span><span style=\"color: #f8f8f2; text-decoration-color: #f8f8f2; background-color: #ffffff\">      </span><span style=\"color: #f92672; text-decoration-color: #f92672; background-color: #ffffff\">\"x-github-request-id\"</span><span style=\"color: #f8f8f2; text-decoration-color: #f8f8f2; background-color: #ffffff\">: </span><span style=\"color: #e6db74; text-decoration-color: #e6db74; background-color: #ffffff\">\"B3AC:941E:243F72D:24D5859:64538987\"</span><span style=\"font-style: italic\">                                </span>  │\n",
              "│  <span style=\"font-weight: bold\">                   </span> <span style=\"font-style: italic\">                 </span><span style=\"color: #f8f8f2; text-decoration-color: #f8f8f2; background-color: #ffffff\">    }</span><span style=\"font-style: italic\">                                                                                            </span>  │\n",
              "│  <span style=\"font-weight: bold\">                   </span> <span style=\"font-style: italic\">                 </span><span style=\"color: #f8f8f2; text-decoration-color: #f8f8f2; background-color: #ffffff\">  ],</span><span style=\"font-style: italic\">                                                                                             </span>  │\n",
              "│  <span style=\"font-weight: bold\">                   </span> <span style=\"font-style: italic\">                 </span><span style=\"color: #f8f8f2; text-decoration-color: #f8f8f2; background-color: #ffffff\">  </span><span style=\"color: #f92672; text-decoration-color: #f92672; background-color: #ffffff\">\"request_time\"</span><span style=\"color: #f8f8f2; text-decoration-color: #f8f8f2; background-color: #ffffff\">: </span><span style=\"color: #e6db74; text-decoration-color: #e6db74; background-color: #ffffff\">\"2023-05-04T10:31:36.887642+00:00\"</span><span style=\"font-style: italic\">                                             </span>  │\n",
              "│  <span style=\"font-weight: bold\">                   </span> <span style=\"font-style: italic\">                 </span><span style=\"color: #f8f8f2; text-decoration-color: #f8f8f2; background-color: #ffffff\">}</span><span style=\"font-style: italic\">                                                                                                </span>  │\n",
              "│  <span style=\"font-weight: bold\">                   </span> <span style=\"font-style: italic\">   dict schema   </span><span style=\"color: #f8f8f2; text-decoration-color: #f8f8f2; background-color: #ffffff\">{</span><span style=\"font-style: italic\">                                                                                                </span>  │\n",
              "│  <span style=\"font-weight: bold\">                   </span> <span style=\"font-style: italic\">                 </span><span style=\"color: #f8f8f2; text-decoration-color: #f8f8f2; background-color: #ffffff\">  </span><span style=\"color: #f92672; text-decoration-color: #f92672; background-color: #ffffff\">\"title\"</span><span style=\"color: #f8f8f2; text-decoration-color: #f8f8f2; background-color: #ffffff\">: </span><span style=\"color: #e6db74; text-decoration-color: #e6db74; background-color: #ffffff\">\"dict\"</span><span style=\"color: #f8f8f2; text-decoration-color: #f8f8f2; background-color: #ffffff\">,</span><span style=\"font-style: italic\">                                                                               </span>  │\n",
              "│  <span style=\"font-weight: bold\">                   </span> <span style=\"font-style: italic\">                 </span><span style=\"color: #f8f8f2; text-decoration-color: #f8f8f2; background-color: #ffffff\">  </span><span style=\"color: #f92672; text-decoration-color: #f92672; background-color: #ffffff\">\"type\"</span><span style=\"color: #f8f8f2; text-decoration-color: #f8f8f2; background-color: #ffffff\">: </span><span style=\"color: #e6db74; text-decoration-color: #e6db74; background-color: #ffffff\">\"object\"</span><span style=\"font-style: italic\">                                                                               </span>  │\n",
              "│  <span style=\"font-weight: bold\">                   </span> <span style=\"font-style: italic\">                 </span><span style=\"color: #f8f8f2; text-decoration-color: #f8f8f2; background-color: #ffffff\">}</span><span style=\"font-style: italic\">                                                                                                </span>  │\n",
              "│  <span style=\"font-weight: bold\">                   </span> <span style=\"font-style: italic\">                                                                                                                  </span>  │\n",
              "│  <span style=\"font-weight: bold\"> file_bundle       </span> <span style=\"font-style: italic\">                                                                                                                  </span>  │\n",
              "│  <span style=\"font-weight: bold\">                   </span> <span style=\"font-style: italic\">   bundle name       data                                                                                         </span>  │\n",
              "│  <span style=\"font-weight: bold\">                   </span> <span style=\"font-style: italic\">   number_of_files   16                                                                                           </span>  │\n",
              "│  <span style=\"font-weight: bold\">                   </span> <span style=\"font-style: italic\">   size              298452                                                                                       </span>  │\n",
              "│  <span style=\"font-weight: bold\">                   </span> <span style=\"font-style: italic\">   included files                                                                                                 </span>  │\n",
              "│  <span style=\"font-weight: bold\">                   </span> <span style=\"font-style: italic\">                      </span><span style=\"font-weight: bold; font-style: italic\"> (relative) path                                      </span><span style=\"font-style: italic\"> </span><span style=\"font-weight: bold; font-style: italic\"> size  </span><span style=\"font-style: italic\">                              </span>  │\n",
              "│  <span style=\"font-weight: bold\">                   </span> <span style=\"font-style: italic\">                      ──────────────────────────────────────────────────────────────                              </span>  │\n",
              "│  <span style=\"font-weight: bold\">                   </span> <span style=\"font-style: italic\">                       La_Rassegna/sn84037025_1917-04-21_ed-1_seq-1_ocr.txt   21017                               </span>  │\n",
              "│  <span style=\"font-weight: bold\">                   </span> <span style=\"font-style: italic\">                       La_Rassegna/sn84037025_1917-04-14_ed-1_seq-1_ocr.txt   20647                               </span>  │\n",
              "│  <span style=\"font-weight: bold\">                   </span> <span style=\"font-style: italic\">                       La_Rassegna/sn84037025_1917-04-14_ed-2_seq-1_ocr.txt   20650                               </span>  │\n",
              "│  <span style=\"font-weight: bold\">                   </span> <span style=\"font-style: italic\">                       La_Rassegna/sn84037025_1917-04-07_ed-1_seq-1_ocr.txt   19397                               </span>  │\n",
              "│  <span style=\"font-weight: bold\">                   </span> <span style=\"font-style: italic\">                       La_Rassegna/sn84037025_1917-04-21_ed-2_seq-1_ocr.txt   20982                               </span>  │\n",
              "│  <span style=\"font-weight: bold\">                   </span> <span style=\"font-style: italic\">                       La_Ragione/sn84037024_1917-05-05_ed-3_seq-1_ocr.txt    18280                               </span>  │\n",
              "│  <span style=\"font-weight: bold\">                   </span> <span style=\"font-style: italic\">                       La_Ragione/sn84037024_1917-05-05_ed-1_seq-1_ocr.txt    18346                               </span>  │\n",
              "│  <span style=\"font-weight: bold\">                   </span> <span style=\"font-style: italic\">                       La_Ragione/sn84037024_1917-05-05_ed-2_seq-1_ocr.txt    18474                               </span>  │\n",
              "│  <span style=\"font-weight: bold\">                   </span> <span style=\"font-style: italic\">                       La_Ragione/sn84037024_1917-05-16_ed-2_seq-1_ocr.txt    18698                               </span>  │\n",
              "│  <span style=\"font-weight: bold\">                   </span> <span style=\"font-style: italic\">                       La_Ragione/sn84037024_1917-05-05_ed-4_seq-1_ocr.txt    18481                               </span>  │\n",
              "│  <span style=\"font-weight: bold\">                   </span> <span style=\"font-style: italic\">                       La_Ragione/sn84037024_1917-05-16_ed-3_seq-1_ocr.txt    18540                               </span>  │\n",
              "│  <span style=\"font-weight: bold\">                   </span> <span style=\"font-style: italic\">                       La_Ragione/sn84037024_1917-04-25_ed-3_seq-1_ocr.txt    16793                               </span>  │\n",
              "│  <span style=\"font-weight: bold\">                   </span> <span style=\"font-style: italic\">                       La_Ragione/sn84037024_1917-04-25_ed-1_seq-1_ocr.txt    16613                               </span>  │\n",
              "│  <span style=\"font-weight: bold\">                   </span> <span style=\"font-style: italic\">                       La_Ragione/sn84037024_1917-04-25_ed-2_seq-1_ocr.txt    16679                               </span>  │\n",
              "│  <span style=\"font-weight: bold\">                   </span> <span style=\"font-style: italic\">                       La_Ragione/sn84037024_1917-04-25_ed-4_seq-1_ocr.txt    16235                               </span>  │\n",
              "│  <span style=\"font-weight: bold\">                   </span> <span style=\"font-style: italic\">                       La_Ragione/sn84037024_1917-05-16_ed-1_seq-1_ocr.txt    18620                               </span>  │\n",
              "│  <span style=\"font-weight: bold\">                   </span> <span style=\"font-style: italic\">                                                                                                                  </span>  │\n",
              "│  <span style=\"font-weight: bold\">                   </span> <span style=\"font-style: italic\">                                                                                                                  </span>  │\n",
              "│                                                                                                                                          │\n",
              "╰──────────────────────────────────────────────────────────────────────────────────────────────────────────────────────────────────────────╯\n",
              "</pre>\n"
            ],
            "text/plain": [
              "╭──────────────────────────────────────────────────────────────────────────────────────────────────────────────────────────────────────────╮\n",
              "│                                                                                                                                          │\n",
              "│  \u001b[1m \u001b[0m\u001b[1mfield            \u001b[0m\u001b[1m \u001b[0m \u001b[1m \u001b[0m\u001b[1mvalue                                                                                                           \u001b[0m\u001b[1m \u001b[0m  │\n",
              "│  ──────────────────────────────────────────────────────────────────────────────────────────────────────────────────────────────────────  │\n",
              "│  \u001b[1m \u001b[0m\u001b[1mdownload_metadata\u001b[0m\u001b[1m \u001b[0m \u001b[3m \u001b[0m\u001b[3m                                                                                                                \u001b[0m\u001b[3m \u001b[0m  │\n",
              "│  \u001b[1m                   \u001b[0m \u001b[3m \u001b[0m\u001b[3m \u001b[0m\u001b[3m \u001b[0m\u001b[3mdict data  \u001b[0m\u001b[3m \u001b[0m\u001b[3m \u001b[0m\u001b[3m \u001b[0m\u001b[38;2;248;248;242;49m{\u001b[0m\u001b[3m                                                                                             \u001b[0m\u001b[3m \u001b[0m\u001b[3m \u001b[0m\u001b[3m \u001b[0m  │\n",
              "│  \u001b[1m                   \u001b[0m \u001b[3m \u001b[0m\u001b[3m \u001b[0m\u001b[3m             \u001b[0m\u001b[3m \u001b[0m\u001b[3m \u001b[0m\u001b[38;2;248;248;242;49m  \u001b[0m\u001b[38;2;249;38;114;49m\"response_headers\"\u001b[0m\u001b[38;2;248;248;242;49m:\u001b[0m\u001b[38;2;248;248;242;49m \u001b[0m\u001b[38;2;248;248;242;49m[\u001b[0m\u001b[3m                                                                       \u001b[0m\u001b[3m \u001b[0m\u001b[3m \u001b[0m\u001b[3m \u001b[0m  │\n",
              "│  \u001b[1m                   \u001b[0m \u001b[3m \u001b[0m\u001b[3m \u001b[0m\u001b[3m             \u001b[0m\u001b[3m \u001b[0m\u001b[3m \u001b[0m\u001b[38;2;248;248;242;49m    \u001b[0m\u001b[38;2;248;248;242;49m{\u001b[0m\u001b[3m                                                                                         \u001b[0m\u001b[3m \u001b[0m\u001b[3m \u001b[0m\u001b[3m \u001b[0m  │\n",
              "│  \u001b[1m                   \u001b[0m \u001b[3m \u001b[0m\u001b[3m \u001b[0m\u001b[3m             \u001b[0m\u001b[3m \u001b[0m\u001b[3m \u001b[0m\u001b[38;2;248;248;242;49m      \u001b[0m\u001b[38;2;249;38;114;49m\"access-control-allow-origin\"\u001b[0m\u001b[38;2;248;248;242;49m:\u001b[0m\u001b[38;2;248;248;242;49m \u001b[0m\u001b[38;2;230;219;116;49m\"https://render.githubusercontent.com\"\u001b[0m\u001b[38;2;248;248;242;49m,\u001b[0m\u001b[3m                  \u001b[0m\u001b[3m \u001b[0m\u001b[3m \u001b[0m\u001b[3m \u001b[0m  │\n",
              "│  \u001b[1m                   \u001b[0m \u001b[3m \u001b[0m\u001b[3m \u001b[0m\u001b[3m             \u001b[0m\u001b[3m \u001b[0m\u001b[3m \u001b[0m\u001b[38;2;248;248;242;49m      \u001b[0m\u001b[38;2;249;38;114;49m\"content-disposition\"\u001b[0m\u001b[38;2;248;248;242;49m:\u001b[0m\u001b[38;2;248;248;242;49m \u001b[0m\u001b[38;2;230;219;116;49m\"attachment; filename=kiara.examples-main.zip\"\u001b[0m\u001b[38;2;248;248;242;49m,\u001b[0m\u001b[3m                  \u001b[0m\u001b[3m \u001b[0m\u001b[3m \u001b[0m\u001b[3m \u001b[0m  │\n",
              "│  \u001b[1m                   \u001b[0m \u001b[3m \u001b[0m\u001b[3m \u001b[0m\u001b[3m             \u001b[0m\u001b[3m \u001b[0m\u001b[3m \u001b[0m\u001b[38;2;248;248;242;49m      \u001b[0m\u001b[38;2;249;38;114;49m\"content-security-policy\"\u001b[0m\u001b[38;2;248;248;242;49m:\u001b[0m\u001b[38;2;248;248;242;49m \u001b[0m\u001b[38;2;230;219;116;49m\"default-src 'none'; style-src 'unsafe-inline'; sandbox\"\u001b[0m\u001b[38;2;248;248;242;49m,\u001b[0m\u001b[3m    \u001b[0m\u001b[3m \u001b[0m\u001b[3m \u001b[0m\u001b[3m \u001b[0m  │\n",
              "│  \u001b[1m                   \u001b[0m \u001b[3m \u001b[0m\u001b[3m \u001b[0m\u001b[3m             \u001b[0m\u001b[3m \u001b[0m\u001b[3m \u001b[0m\u001b[38;2;248;248;242;49m      \u001b[0m\u001b[38;2;249;38;114;49m\"content-type\"\u001b[0m\u001b[38;2;248;248;242;49m:\u001b[0m\u001b[38;2;248;248;242;49m \u001b[0m\u001b[38;2;230;219;116;49m\"application/zip\"\u001b[0m\u001b[38;2;248;248;242;49m,\u001b[0m\u001b[3m                                                      \u001b[0m\u001b[3m \u001b[0m\u001b[3m \u001b[0m\u001b[3m \u001b[0m  │\n",
              "│  \u001b[1m                   \u001b[0m \u001b[3m \u001b[0m\u001b[3m \u001b[0m\u001b[3m             \u001b[0m\u001b[3m \u001b[0m\u001b[3m \u001b[0m\u001b[38;2;248;248;242;49m      \u001b[0m\u001b[38;2;249;38;114;49m\"etag\"\u001b[0m\u001b[38;2;248;248;242;49m:\u001b[0m\u001b[38;2;248;248;242;49m \u001b[0m\u001b[38;2;230;219;116;49m\"W/\\\"cb5ee0548e9c974c1e2900590d33b78768ed5042927451560d7d028a945a9b02\\\"\"\u001b[0m\u001b[38;2;248;248;242;49m,\u001b[0m\u001b[3m       \u001b[0m\u001b[3m \u001b[0m\u001b[3m \u001b[0m\u001b[3m \u001b[0m  │\n",
              "│  \u001b[1m                   \u001b[0m \u001b[3m \u001b[0m\u001b[3m \u001b[0m\u001b[3m             \u001b[0m\u001b[3m \u001b[0m\u001b[3m \u001b[0m\u001b[38;2;248;248;242;49m      \u001b[0m\u001b[38;2;249;38;114;49m\"strict-transport-security\"\u001b[0m\u001b[38;2;248;248;242;49m:\u001b[0m\u001b[38;2;248;248;242;49m \u001b[0m\u001b[38;2;230;219;116;49m\"max-age=31536000\"\u001b[0m\u001b[38;2;248;248;242;49m,\u001b[0m\u001b[3m                                        \u001b[0m\u001b[3m \u001b[0m\u001b[3m \u001b[0m\u001b[3m \u001b[0m  │\n",
              "│  \u001b[1m                   \u001b[0m \u001b[3m \u001b[0m\u001b[3m \u001b[0m\u001b[3m             \u001b[0m\u001b[3m \u001b[0m\u001b[3m \u001b[0m\u001b[38;2;248;248;242;49m      \u001b[0m\u001b[38;2;249;38;114;49m\"vary\"\u001b[0m\u001b[38;2;248;248;242;49m:\u001b[0m\u001b[38;2;248;248;242;49m \u001b[0m\u001b[38;2;230;219;116;49m\"Authorization,Accept-Encoding,Origin\"\u001b[0m\u001b[38;2;248;248;242;49m,\u001b[0m\u001b[3m                                         \u001b[0m\u001b[3m \u001b[0m\u001b[3m \u001b[0m\u001b[3m \u001b[0m  │\n",
              "│  \u001b[1m                   \u001b[0m \u001b[3m \u001b[0m\u001b[3m \u001b[0m\u001b[3m             \u001b[0m\u001b[3m \u001b[0m\u001b[3m \u001b[0m\u001b[38;2;248;248;242;49m      \u001b[0m\u001b[38;2;249;38;114;49m\"x-content-type-options\"\u001b[0m\u001b[38;2;248;248;242;49m:\u001b[0m\u001b[38;2;248;248;242;49m \u001b[0m\u001b[38;2;230;219;116;49m\"nosniff\"\u001b[0m\u001b[38;2;248;248;242;49m,\u001b[0m\u001b[3m                                                    \u001b[0m\u001b[3m \u001b[0m\u001b[3m \u001b[0m\u001b[3m \u001b[0m  │\n",
              "│  \u001b[1m                   \u001b[0m \u001b[3m \u001b[0m\u001b[3m \u001b[0m\u001b[3m             \u001b[0m\u001b[3m \u001b[0m\u001b[3m \u001b[0m\u001b[38;2;248;248;242;49m      \u001b[0m\u001b[38;2;249;38;114;49m\"x-frame-options\"\u001b[0m\u001b[38;2;248;248;242;49m:\u001b[0m\u001b[38;2;248;248;242;49m \u001b[0m\u001b[38;2;230;219;116;49m\"deny\"\u001b[0m\u001b[38;2;248;248;242;49m,\u001b[0m\u001b[3m                                                              \u001b[0m\u001b[3m \u001b[0m\u001b[3m \u001b[0m\u001b[3m \u001b[0m  │\n",
              "│  \u001b[1m                   \u001b[0m \u001b[3m \u001b[0m\u001b[3m \u001b[0m\u001b[3m             \u001b[0m\u001b[3m \u001b[0m\u001b[3m \u001b[0m\u001b[38;2;248;248;242;49m      \u001b[0m\u001b[38;2;249;38;114;49m\"x-xss-protection\"\u001b[0m\u001b[38;2;248;248;242;49m:\u001b[0m\u001b[38;2;248;248;242;49m \u001b[0m\u001b[38;2;230;219;116;49m\"1; mode=block\"\u001b[0m\u001b[38;2;248;248;242;49m,\u001b[0m\u001b[3m                                                    \u001b[0m\u001b[3m \u001b[0m\u001b[3m \u001b[0m\u001b[3m \u001b[0m  │\n",
              "│  \u001b[1m                   \u001b[0m \u001b[3m \u001b[0m\u001b[3m \u001b[0m\u001b[3m             \u001b[0m\u001b[3m \u001b[0m\u001b[3m \u001b[0m\u001b[38;2;248;248;242;49m      \u001b[0m\u001b[38;2;249;38;114;49m\"date\"\u001b[0m\u001b[38;2;248;248;242;49m:\u001b[0m\u001b[38;2;248;248;242;49m \u001b[0m\u001b[38;2;230;219;116;49m\"Thu, 04 May 2023 10:31:36 GMT\"\u001b[0m\u001b[38;2;248;248;242;49m,\u001b[0m\u001b[3m                                                \u001b[0m\u001b[3m \u001b[0m\u001b[3m \u001b[0m\u001b[3m \u001b[0m  │\n",
              "│  \u001b[1m                   \u001b[0m \u001b[3m \u001b[0m\u001b[3m \u001b[0m\u001b[3m             \u001b[0m\u001b[3m \u001b[0m\u001b[3m \u001b[0m\u001b[38;2;248;248;242;49m      \u001b[0m\u001b[38;2;249;38;114;49m\"transfer-encoding\"\u001b[0m\u001b[38;2;248;248;242;49m:\u001b[0m\u001b[38;2;248;248;242;49m \u001b[0m\u001b[38;2;230;219;116;49m\"chunked\"\u001b[0m\u001b[38;2;248;248;242;49m,\u001b[0m\u001b[3m                                                         \u001b[0m\u001b[3m \u001b[0m\u001b[3m \u001b[0m\u001b[3m \u001b[0m  │\n",
              "│  \u001b[1m                   \u001b[0m \u001b[3m \u001b[0m\u001b[3m \u001b[0m\u001b[3m             \u001b[0m\u001b[3m \u001b[0m\u001b[3m \u001b[0m\u001b[38;2;248;248;242;49m      \u001b[0m\u001b[38;2;249;38;114;49m\"x-github-request-id\"\u001b[0m\u001b[38;2;248;248;242;49m:\u001b[0m\u001b[38;2;248;248;242;49m \u001b[0m\u001b[38;2;230;219;116;49m\"D20C:450D:10D5AC:137170:64538988\"\u001b[0m\u001b[3m                               \u001b[0m\u001b[3m \u001b[0m\u001b[3m \u001b[0m\u001b[3m \u001b[0m  │\n",
              "│  \u001b[1m                   \u001b[0m \u001b[3m \u001b[0m\u001b[3m \u001b[0m\u001b[3m             \u001b[0m\u001b[3m \u001b[0m\u001b[3m \u001b[0m\u001b[38;2;248;248;242;49m    \u001b[0m\u001b[38;2;248;248;242;49m},\u001b[0m\u001b[3m                                                                                        \u001b[0m\u001b[3m \u001b[0m\u001b[3m \u001b[0m\u001b[3m \u001b[0m  │\n",
              "│  \u001b[1m                   \u001b[0m \u001b[3m \u001b[0m\u001b[3m \u001b[0m\u001b[3m             \u001b[0m\u001b[3m \u001b[0m\u001b[3m \u001b[0m\u001b[38;2;248;248;242;49m    \u001b[0m\u001b[38;2;248;248;242;49m{\u001b[0m\u001b[3m                                                                                         \u001b[0m\u001b[3m \u001b[0m\u001b[3m \u001b[0m\u001b[3m \u001b[0m  │\n",
              "│  \u001b[1m                   \u001b[0m \u001b[3m \u001b[0m\u001b[3m \u001b[0m\u001b[3m             \u001b[0m\u001b[3m \u001b[0m\u001b[3m \u001b[0m\u001b[38;2;248;248;242;49m      \u001b[0m\u001b[38;2;249;38;114;49m\"server\"\u001b[0m\u001b[38;2;248;248;242;49m:\u001b[0m\u001b[38;2;248;248;242;49m \u001b[0m\u001b[38;2;230;219;116;49m\"GitHub.com\"\u001b[0m\u001b[38;2;248;248;242;49m,\u001b[0m\u001b[3m                                                                 \u001b[0m\u001b[3m \u001b[0m\u001b[3m \u001b[0m\u001b[3m \u001b[0m  │\n",
              "│  \u001b[1m                   \u001b[0m \u001b[3m \u001b[0m\u001b[3m \u001b[0m\u001b[3m             \u001b[0m\u001b[3m \u001b[0m\u001b[3m \u001b[0m\u001b[38;2;248;248;242;49m      \u001b[0m\u001b[38;2;249;38;114;49m\"date\"\u001b[0m\u001b[38;2;248;248;242;49m:\u001b[0m\u001b[38;2;248;248;242;49m \u001b[0m\u001b[38;2;230;219;116;49m\"Thu, 04 May 2023 10:31:35 GMT\"\u001b[0m\u001b[38;2;248;248;242;49m,\u001b[0m\u001b[3m                                                \u001b[0m\u001b[3m \u001b[0m\u001b[3m \u001b[0m\u001b[3m \u001b[0m  │\n",
              "│  \u001b[1m                   \u001b[0m \u001b[3m \u001b[0m\u001b[3m \u001b[0m\u001b[3m             \u001b[0m\u001b[3m \u001b[0m\u001b[3m \u001b[0m\u001b[38;2;248;248;242;49m      \u001b[0m\u001b[38;2;249;38;114;49m\"content-type\"\u001b[0m\u001b[38;2;248;248;242;49m:\u001b[0m\u001b[38;2;248;248;242;49m \u001b[0m\u001b[38;2;230;219;116;49m\"text/html; charset=utf-8\"\u001b[0m\u001b[38;2;248;248;242;49m,\u001b[0m\u001b[3m                                             \u001b[0m\u001b[3m \u001b[0m\u001b[3m \u001b[0m\u001b[3m \u001b[0m  │\n",
              "│  \u001b[1m                   \u001b[0m \u001b[3m \u001b[0m\u001b[3m \u001b[0m\u001b[3m             \u001b[0m\u001b[3m \u001b[0m\u001b[3m \u001b[0m\u001b[38;2;248;248;242;49m      \u001b[0m\u001b[38;2;249;38;114;49m\"vary\"\u001b[0m\u001b[38;2;248;248;242;49m:\u001b[0m\u001b[38;2;248;248;242;49m \u001b[0m\u001b[38;2;230;219;116;49m\"X-PJAX, X-PJAX-Container, Turbo-Visit, Turbo-Frame, Accept-Encoding, Accept, X…\u001b[0m\u001b[3m \u001b[0m\u001b[3m \u001b[0m\u001b[3m \u001b[0m  │\n",
              "│  \u001b[1m                   \u001b[0m \u001b[3m \u001b[0m\u001b[3m \u001b[0m\u001b[3m             \u001b[0m\u001b[3m \u001b[0m\u001b[3m \u001b[0m\u001b[38;2;248;248;242;49m      \u001b[0m\u001b[38;2;249;38;114;49m\"location\"\u001b[0m\u001b[38;2;248;248;242;49m:\u001b[0m\u001b[38;2;248;248;242;49m \u001b[0m\u001b[38;2;230;219;116;49m\"https://codeload.github.com/DHARPA-Project/kiara.examples/zip/refs/heads/m…\u001b[0m\u001b[3m \u001b[0m\u001b[3m \u001b[0m\u001b[3m \u001b[0m  │\n",
              "│  \u001b[1m                   \u001b[0m \u001b[3m \u001b[0m\u001b[3m \u001b[0m\u001b[3m             \u001b[0m\u001b[3m \u001b[0m\u001b[3m \u001b[0m\u001b[38;2;248;248;242;49m      \u001b[0m\u001b[38;2;249;38;114;49m\"cache-control\"\u001b[0m\u001b[38;2;248;248;242;49m:\u001b[0m\u001b[38;2;248;248;242;49m \u001b[0m\u001b[38;2;230;219;116;49m\"max-age=0, private\"\u001b[0m\u001b[38;2;248;248;242;49m,\u001b[0m\u001b[3m                                                  \u001b[0m\u001b[3m \u001b[0m\u001b[3m \u001b[0m\u001b[3m \u001b[0m  │\n",
              "│  \u001b[1m                   \u001b[0m \u001b[3m \u001b[0m\u001b[3m \u001b[0m\u001b[3m             \u001b[0m\u001b[3m \u001b[0m\u001b[3m \u001b[0m\u001b[38;2;248;248;242;49m      \u001b[0m\u001b[38;2;249;38;114;49m\"strict-transport-security\"\u001b[0m\u001b[38;2;248;248;242;49m:\u001b[0m\u001b[38;2;248;248;242;49m \u001b[0m\u001b[38;2;230;219;116;49m\"max-age=31536000; includeSubdomains; preload\"\u001b[0m\u001b[38;2;248;248;242;49m,\u001b[0m\u001b[3m            \u001b[0m\u001b[3m \u001b[0m\u001b[3m \u001b[0m\u001b[3m \u001b[0m  │\n",
              "│  \u001b[1m                   \u001b[0m \u001b[3m \u001b[0m\u001b[3m \u001b[0m\u001b[3m             \u001b[0m\u001b[3m \u001b[0m\u001b[3m \u001b[0m\u001b[38;2;248;248;242;49m      \u001b[0m\u001b[38;2;249;38;114;49m\"x-frame-options\"\u001b[0m\u001b[38;2;248;248;242;49m:\u001b[0m\u001b[38;2;248;248;242;49m \u001b[0m\u001b[38;2;230;219;116;49m\"deny\"\u001b[0m\u001b[38;2;248;248;242;49m,\u001b[0m\u001b[3m                                                              \u001b[0m\u001b[3m \u001b[0m\u001b[3m \u001b[0m\u001b[3m \u001b[0m  │\n",
              "│  \u001b[1m                   \u001b[0m \u001b[3m \u001b[0m\u001b[3m \u001b[0m\u001b[3m             \u001b[0m\u001b[3m \u001b[0m\u001b[3m \u001b[0m\u001b[38;2;248;248;242;49m      \u001b[0m\u001b[38;2;249;38;114;49m\"x-content-type-options\"\u001b[0m\u001b[38;2;248;248;242;49m:\u001b[0m\u001b[38;2;248;248;242;49m \u001b[0m\u001b[38;2;230;219;116;49m\"nosniff\"\u001b[0m\u001b[38;2;248;248;242;49m,\u001b[0m\u001b[3m                                                    \u001b[0m\u001b[3m \u001b[0m\u001b[3m \u001b[0m\u001b[3m \u001b[0m  │\n",
              "│  \u001b[1m                   \u001b[0m \u001b[3m \u001b[0m\u001b[3m \u001b[0m\u001b[3m             \u001b[0m\u001b[3m \u001b[0m\u001b[3m \u001b[0m\u001b[38;2;248;248;242;49m      \u001b[0m\u001b[38;2;249;38;114;49m\"x-xss-protection\"\u001b[0m\u001b[38;2;248;248;242;49m:\u001b[0m\u001b[38;2;248;248;242;49m \u001b[0m\u001b[38;2;230;219;116;49m\"0\"\u001b[0m\u001b[38;2;248;248;242;49m,\u001b[0m\u001b[3m                                                                \u001b[0m\u001b[3m \u001b[0m\u001b[3m \u001b[0m\u001b[3m \u001b[0m  │\n",
              "│  \u001b[1m                   \u001b[0m \u001b[3m \u001b[0m\u001b[3m \u001b[0m\u001b[3m             \u001b[0m\u001b[3m \u001b[0m\u001b[3m \u001b[0m\u001b[38;2;248;248;242;49m      \u001b[0m\u001b[38;2;249;38;114;49m\"referrer-policy\"\u001b[0m\u001b[38;2;248;248;242;49m:\u001b[0m\u001b[38;2;248;248;242;49m \u001b[0m\u001b[38;2;230;219;116;49m\"no-referrer-when-downgrade\"\u001b[0m\u001b[38;2;248;248;242;49m,\u001b[0m\u001b[3m                                        \u001b[0m\u001b[3m \u001b[0m\u001b[3m \u001b[0m\u001b[3m \u001b[0m  │\n",
              "│  \u001b[1m                   \u001b[0m \u001b[3m \u001b[0m\u001b[3m \u001b[0m\u001b[3m             \u001b[0m\u001b[3m \u001b[0m\u001b[3m \u001b[0m\u001b[38;2;248;248;242;49m      \u001b[0m\u001b[38;2;249;38;114;49m\"content-security-policy\"\u001b[0m\u001b[38;2;248;248;242;49m:\u001b[0m\u001b[38;2;248;248;242;49m \u001b[0m\u001b[38;2;230;219;116;49m\"default-src 'none'; base-uri 'self'; block-all-mixed-conten…\u001b[0m\u001b[3m \u001b[0m\u001b[3m \u001b[0m\u001b[3m \u001b[0m  │\n",
              "│  \u001b[1m                   \u001b[0m \u001b[3m \u001b[0m\u001b[3m \u001b[0m\u001b[3m             \u001b[0m\u001b[3m \u001b[0m\u001b[3m \u001b[0m\u001b[38;2;248;248;242;49m      \u001b[0m\u001b[38;2;249;38;114;49m\"content-length\"\u001b[0m\u001b[38;2;248;248;242;49m:\u001b[0m\u001b[38;2;248;248;242;49m \u001b[0m\u001b[38;2;230;219;116;49m\"0\"\u001b[0m\u001b[38;2;248;248;242;49m,\u001b[0m\u001b[3m                                                                  \u001b[0m\u001b[3m \u001b[0m\u001b[3m \u001b[0m\u001b[3m \u001b[0m  │\n",
              "│  \u001b[1m                   \u001b[0m \u001b[3m \u001b[0m\u001b[3m \u001b[0m\u001b[3m             \u001b[0m\u001b[3m \u001b[0m\u001b[3m \u001b[0m\u001b[38;2;248;248;242;49m      \u001b[0m\u001b[38;2;249;38;114;49m\"x-github-request-id\"\u001b[0m\u001b[38;2;248;248;242;49m:\u001b[0m\u001b[38;2;248;248;242;49m \u001b[0m\u001b[38;2;230;219;116;49m\"B3AC:941E:243F72D:24D5859:64538987\"\u001b[0m\u001b[3m                             \u001b[0m\u001b[3m \u001b[0m\u001b[3m \u001b[0m\u001b[3m \u001b[0m  │\n",
              "│  \u001b[1m                   \u001b[0m \u001b[3m \u001b[0m\u001b[3m \u001b[0m\u001b[3m             \u001b[0m\u001b[3m \u001b[0m\u001b[3m \u001b[0m\u001b[38;2;248;248;242;49m    \u001b[0m\u001b[38;2;248;248;242;49m}\u001b[0m\u001b[3m                                                                                         \u001b[0m\u001b[3m \u001b[0m\u001b[3m \u001b[0m\u001b[3m \u001b[0m  │\n",
              "│  \u001b[1m                   \u001b[0m \u001b[3m \u001b[0m\u001b[3m \u001b[0m\u001b[3m             \u001b[0m\u001b[3m \u001b[0m\u001b[3m \u001b[0m\u001b[38;2;248;248;242;49m  \u001b[0m\u001b[38;2;248;248;242;49m],\u001b[0m\u001b[3m                                                                                          \u001b[0m\u001b[3m \u001b[0m\u001b[3m \u001b[0m\u001b[3m \u001b[0m  │\n",
              "│  \u001b[1m                   \u001b[0m \u001b[3m \u001b[0m\u001b[3m \u001b[0m\u001b[3m             \u001b[0m\u001b[3m \u001b[0m\u001b[3m \u001b[0m\u001b[38;2;248;248;242;49m  \u001b[0m\u001b[38;2;249;38;114;49m\"request_time\"\u001b[0m\u001b[38;2;248;248;242;49m:\u001b[0m\u001b[38;2;248;248;242;49m \u001b[0m\u001b[38;2;230;219;116;49m\"2023-05-04T10:31:36.887642+00:00\"\u001b[0m\u001b[3m                                          \u001b[0m\u001b[3m \u001b[0m\u001b[3m \u001b[0m\u001b[3m \u001b[0m  │\n",
              "│  \u001b[1m                   \u001b[0m \u001b[3m \u001b[0m\u001b[3m \u001b[0m\u001b[3m             \u001b[0m\u001b[3m \u001b[0m\u001b[3m \u001b[0m\u001b[38;2;248;248;242;49m}\u001b[0m\u001b[3m                                                                                             \u001b[0m\u001b[3m \u001b[0m\u001b[3m \u001b[0m\u001b[3m \u001b[0m  │\n",
              "│  \u001b[1m                   \u001b[0m \u001b[3m \u001b[0m\u001b[3m \u001b[0m\u001b[3m \u001b[0m\u001b[3mdict schema\u001b[0m\u001b[3m \u001b[0m\u001b[3m \u001b[0m\u001b[3m \u001b[0m\u001b[38;2;248;248;242;49m{\u001b[0m\u001b[3m                                                                                             \u001b[0m\u001b[3m \u001b[0m\u001b[3m \u001b[0m\u001b[3m \u001b[0m  │\n",
              "│  \u001b[1m                   \u001b[0m \u001b[3m \u001b[0m\u001b[3m \u001b[0m\u001b[3m             \u001b[0m\u001b[3m \u001b[0m\u001b[3m \u001b[0m\u001b[38;2;248;248;242;49m  \u001b[0m\u001b[38;2;249;38;114;49m\"title\"\u001b[0m\u001b[38;2;248;248;242;49m:\u001b[0m\u001b[38;2;248;248;242;49m \u001b[0m\u001b[38;2;230;219;116;49m\"dict\"\u001b[0m\u001b[38;2;248;248;242;49m,\u001b[0m\u001b[3m                                                                            \u001b[0m\u001b[3m \u001b[0m\u001b[3m \u001b[0m\u001b[3m \u001b[0m  │\n",
              "│  \u001b[1m                   \u001b[0m \u001b[3m \u001b[0m\u001b[3m \u001b[0m\u001b[3m             \u001b[0m\u001b[3m \u001b[0m\u001b[3m \u001b[0m\u001b[38;2;248;248;242;49m  \u001b[0m\u001b[38;2;249;38;114;49m\"type\"\u001b[0m\u001b[38;2;248;248;242;49m:\u001b[0m\u001b[38;2;248;248;242;49m \u001b[0m\u001b[38;2;230;219;116;49m\"object\"\u001b[0m\u001b[3m                                                                            \u001b[0m\u001b[3m \u001b[0m\u001b[3m \u001b[0m\u001b[3m \u001b[0m  │\n",
              "│  \u001b[1m                   \u001b[0m \u001b[3m \u001b[0m\u001b[3m \u001b[0m\u001b[3m             \u001b[0m\u001b[3m \u001b[0m\u001b[3m \u001b[0m\u001b[38;2;248;248;242;49m}\u001b[0m\u001b[3m                                                                                             \u001b[0m\u001b[3m \u001b[0m\u001b[3m \u001b[0m\u001b[3m \u001b[0m  │\n",
              "│  \u001b[1m                   \u001b[0m \u001b[3m \u001b[0m\u001b[3m                                                                                                                \u001b[0m\u001b[3m \u001b[0m  │\n",
              "│  \u001b[1m \u001b[0m\u001b[1mfile_bundle      \u001b[0m\u001b[1m \u001b[0m \u001b[3m \u001b[0m\u001b[3m                                                                                      \u001b[0m\u001b[3m                          \u001b[0m\u001b[3m \u001b[0m  │\n",
              "│  \u001b[1m                   \u001b[0m \u001b[3m \u001b[0m\u001b[3m \u001b[0m\u001b[3m \u001b[0m\u001b[3mbundle name    \u001b[0m\u001b[3m \u001b[0m\u001b[3m \u001b[0m\u001b[3m \u001b[0m\u001b[3mdata                                                            \u001b[0m\u001b[3m \u001b[0m\u001b[3m \u001b[0m\u001b[3m                          \u001b[0m\u001b[3m \u001b[0m  │\n",
              "│  \u001b[1m                   \u001b[0m \u001b[3m \u001b[0m\u001b[3m \u001b[0m\u001b[3m \u001b[0m\u001b[3mnumber_of_files\u001b[0m\u001b[3m \u001b[0m\u001b[3m \u001b[0m\u001b[3m \u001b[0m\u001b[3m16                                                              \u001b[0m\u001b[3m \u001b[0m\u001b[3m \u001b[0m\u001b[3m                          \u001b[0m\u001b[3m \u001b[0m  │\n",
              "│  \u001b[1m                   \u001b[0m \u001b[3m \u001b[0m\u001b[3m \u001b[0m\u001b[3m \u001b[0m\u001b[3msize           \u001b[0m\u001b[3m \u001b[0m\u001b[3m \u001b[0m\u001b[3m \u001b[0m\u001b[3m298452                                                          \u001b[0m\u001b[3m \u001b[0m\u001b[3m \u001b[0m\u001b[3m                          \u001b[0m\u001b[3m \u001b[0m  │\n",
              "│  \u001b[1m                   \u001b[0m \u001b[3m \u001b[0m\u001b[3m \u001b[0m\u001b[3m \u001b[0m\u001b[3mincluded files \u001b[0m\u001b[3m \u001b[0m\u001b[3m \u001b[0m\u001b[3m \u001b[0m\u001b[3m                                                                \u001b[0m\u001b[3m \u001b[0m\u001b[3m \u001b[0m\u001b[3m                          \u001b[0m\u001b[3m \u001b[0m  │\n",
              "│  \u001b[1m                   \u001b[0m \u001b[3m \u001b[0m\u001b[3m \u001b[0m\u001b[3m                 \u001b[0m\u001b[3m \u001b[0m\u001b[3m \u001b[0m\u001b[3m \u001b[0m\u001b[1;3m \u001b[0m\u001b[1;3m(relative) path                                     \u001b[0m\u001b[1;3m \u001b[0m\u001b[3m \u001b[0m\u001b[1;3m \u001b[0m\u001b[1;3msize \u001b[0m\u001b[1;3m \u001b[0m\u001b[3m \u001b[0m\u001b[3m \u001b[0m\u001b[3m \u001b[0m\u001b[3m                          \u001b[0m\u001b[3m \u001b[0m  │\n",
              "│  \u001b[1m                   \u001b[0m \u001b[3m \u001b[0m\u001b[3m \u001b[0m\u001b[3m                 \u001b[0m\u001b[3m \u001b[0m\u001b[3m \u001b[0m\u001b[3m ────────────────────────────────────────────────────────────── \u001b[0m\u001b[3m \u001b[0m\u001b[3m \u001b[0m\u001b[3m                          \u001b[0m\u001b[3m \u001b[0m  │\n",
              "│  \u001b[1m                   \u001b[0m \u001b[3m \u001b[0m\u001b[3m \u001b[0m\u001b[3m                 \u001b[0m\u001b[3m \u001b[0m\u001b[3m \u001b[0m\u001b[3m \u001b[0m\u001b[3m \u001b[0m\u001b[3mLa_Rassegna/sn84037025_1917-04-21_ed-1_seq-1_ocr.txt\u001b[0m\u001b[3m \u001b[0m\u001b[3m \u001b[0m\u001b[3m \u001b[0m\u001b[3m21017\u001b[0m\u001b[3m \u001b[0m\u001b[3m \u001b[0m\u001b[3m \u001b[0m\u001b[3m \u001b[0m\u001b[3m                          \u001b[0m\u001b[3m \u001b[0m  │\n",
              "│  \u001b[1m                   \u001b[0m \u001b[3m \u001b[0m\u001b[3m \u001b[0m\u001b[3m                 \u001b[0m\u001b[3m \u001b[0m\u001b[3m \u001b[0m\u001b[3m \u001b[0m\u001b[3m \u001b[0m\u001b[3mLa_Rassegna/sn84037025_1917-04-14_ed-1_seq-1_ocr.txt\u001b[0m\u001b[3m \u001b[0m\u001b[3m \u001b[0m\u001b[3m \u001b[0m\u001b[3m20647\u001b[0m\u001b[3m \u001b[0m\u001b[3m \u001b[0m\u001b[3m \u001b[0m\u001b[3m \u001b[0m\u001b[3m                          \u001b[0m\u001b[3m \u001b[0m  │\n",
              "│  \u001b[1m                   \u001b[0m \u001b[3m \u001b[0m\u001b[3m \u001b[0m\u001b[3m                 \u001b[0m\u001b[3m \u001b[0m\u001b[3m \u001b[0m\u001b[3m \u001b[0m\u001b[3m \u001b[0m\u001b[3mLa_Rassegna/sn84037025_1917-04-14_ed-2_seq-1_ocr.txt\u001b[0m\u001b[3m \u001b[0m\u001b[3m \u001b[0m\u001b[3m \u001b[0m\u001b[3m20650\u001b[0m\u001b[3m \u001b[0m\u001b[3m \u001b[0m\u001b[3m \u001b[0m\u001b[3m \u001b[0m\u001b[3m                          \u001b[0m\u001b[3m \u001b[0m  │\n",
              "│  \u001b[1m                   \u001b[0m \u001b[3m \u001b[0m\u001b[3m \u001b[0m\u001b[3m                 \u001b[0m\u001b[3m \u001b[0m\u001b[3m \u001b[0m\u001b[3m \u001b[0m\u001b[3m \u001b[0m\u001b[3mLa_Rassegna/sn84037025_1917-04-07_ed-1_seq-1_ocr.txt\u001b[0m\u001b[3m \u001b[0m\u001b[3m \u001b[0m\u001b[3m \u001b[0m\u001b[3m19397\u001b[0m\u001b[3m \u001b[0m\u001b[3m \u001b[0m\u001b[3m \u001b[0m\u001b[3m \u001b[0m\u001b[3m                          \u001b[0m\u001b[3m \u001b[0m  │\n",
              "│  \u001b[1m                   \u001b[0m \u001b[3m \u001b[0m\u001b[3m \u001b[0m\u001b[3m                 \u001b[0m\u001b[3m \u001b[0m\u001b[3m \u001b[0m\u001b[3m \u001b[0m\u001b[3m \u001b[0m\u001b[3mLa_Rassegna/sn84037025_1917-04-21_ed-2_seq-1_ocr.txt\u001b[0m\u001b[3m \u001b[0m\u001b[3m \u001b[0m\u001b[3m \u001b[0m\u001b[3m20982\u001b[0m\u001b[3m \u001b[0m\u001b[3m \u001b[0m\u001b[3m \u001b[0m\u001b[3m \u001b[0m\u001b[3m                          \u001b[0m\u001b[3m \u001b[0m  │\n",
              "│  \u001b[1m                   \u001b[0m \u001b[3m \u001b[0m\u001b[3m \u001b[0m\u001b[3m                 \u001b[0m\u001b[3m \u001b[0m\u001b[3m \u001b[0m\u001b[3m \u001b[0m\u001b[3m \u001b[0m\u001b[3mLa_Ragione/sn84037024_1917-05-05_ed-3_seq-1_ocr.txt \u001b[0m\u001b[3m \u001b[0m\u001b[3m \u001b[0m\u001b[3m \u001b[0m\u001b[3m18280\u001b[0m\u001b[3m \u001b[0m\u001b[3m \u001b[0m\u001b[3m \u001b[0m\u001b[3m \u001b[0m\u001b[3m                          \u001b[0m\u001b[3m \u001b[0m  │\n",
              "│  \u001b[1m                   \u001b[0m \u001b[3m \u001b[0m\u001b[3m \u001b[0m\u001b[3m                 \u001b[0m\u001b[3m \u001b[0m\u001b[3m \u001b[0m\u001b[3m \u001b[0m\u001b[3m \u001b[0m\u001b[3mLa_Ragione/sn84037024_1917-05-05_ed-1_seq-1_ocr.txt \u001b[0m\u001b[3m \u001b[0m\u001b[3m \u001b[0m\u001b[3m \u001b[0m\u001b[3m18346\u001b[0m\u001b[3m \u001b[0m\u001b[3m \u001b[0m\u001b[3m \u001b[0m\u001b[3m \u001b[0m\u001b[3m                          \u001b[0m\u001b[3m \u001b[0m  │\n",
              "│  \u001b[1m                   \u001b[0m \u001b[3m \u001b[0m\u001b[3m \u001b[0m\u001b[3m                 \u001b[0m\u001b[3m \u001b[0m\u001b[3m \u001b[0m\u001b[3m \u001b[0m\u001b[3m \u001b[0m\u001b[3mLa_Ragione/sn84037024_1917-05-05_ed-2_seq-1_ocr.txt \u001b[0m\u001b[3m \u001b[0m\u001b[3m \u001b[0m\u001b[3m \u001b[0m\u001b[3m18474\u001b[0m\u001b[3m \u001b[0m\u001b[3m \u001b[0m\u001b[3m \u001b[0m\u001b[3m \u001b[0m\u001b[3m                          \u001b[0m\u001b[3m \u001b[0m  │\n",
              "│  \u001b[1m                   \u001b[0m \u001b[3m \u001b[0m\u001b[3m \u001b[0m\u001b[3m                 \u001b[0m\u001b[3m \u001b[0m\u001b[3m \u001b[0m\u001b[3m \u001b[0m\u001b[3m \u001b[0m\u001b[3mLa_Ragione/sn84037024_1917-05-16_ed-2_seq-1_ocr.txt \u001b[0m\u001b[3m \u001b[0m\u001b[3m \u001b[0m\u001b[3m \u001b[0m\u001b[3m18698\u001b[0m\u001b[3m \u001b[0m\u001b[3m \u001b[0m\u001b[3m \u001b[0m\u001b[3m \u001b[0m\u001b[3m                          \u001b[0m\u001b[3m \u001b[0m  │\n",
              "│  \u001b[1m                   \u001b[0m \u001b[3m \u001b[0m\u001b[3m \u001b[0m\u001b[3m                 \u001b[0m\u001b[3m \u001b[0m\u001b[3m \u001b[0m\u001b[3m \u001b[0m\u001b[3m \u001b[0m\u001b[3mLa_Ragione/sn84037024_1917-05-05_ed-4_seq-1_ocr.txt \u001b[0m\u001b[3m \u001b[0m\u001b[3m \u001b[0m\u001b[3m \u001b[0m\u001b[3m18481\u001b[0m\u001b[3m \u001b[0m\u001b[3m \u001b[0m\u001b[3m \u001b[0m\u001b[3m \u001b[0m\u001b[3m                          \u001b[0m\u001b[3m \u001b[0m  │\n",
              "│  \u001b[1m                   \u001b[0m \u001b[3m \u001b[0m\u001b[3m \u001b[0m\u001b[3m                 \u001b[0m\u001b[3m \u001b[0m\u001b[3m \u001b[0m\u001b[3m \u001b[0m\u001b[3m \u001b[0m\u001b[3mLa_Ragione/sn84037024_1917-05-16_ed-3_seq-1_ocr.txt \u001b[0m\u001b[3m \u001b[0m\u001b[3m \u001b[0m\u001b[3m \u001b[0m\u001b[3m18540\u001b[0m\u001b[3m \u001b[0m\u001b[3m \u001b[0m\u001b[3m \u001b[0m\u001b[3m \u001b[0m\u001b[3m                          \u001b[0m\u001b[3m \u001b[0m  │\n",
              "│  \u001b[1m                   \u001b[0m \u001b[3m \u001b[0m\u001b[3m \u001b[0m\u001b[3m                 \u001b[0m\u001b[3m \u001b[0m\u001b[3m \u001b[0m\u001b[3m \u001b[0m\u001b[3m \u001b[0m\u001b[3mLa_Ragione/sn84037024_1917-04-25_ed-3_seq-1_ocr.txt \u001b[0m\u001b[3m \u001b[0m\u001b[3m \u001b[0m\u001b[3m \u001b[0m\u001b[3m16793\u001b[0m\u001b[3m \u001b[0m\u001b[3m \u001b[0m\u001b[3m \u001b[0m\u001b[3m \u001b[0m\u001b[3m                          \u001b[0m\u001b[3m \u001b[0m  │\n",
              "│  \u001b[1m                   \u001b[0m \u001b[3m \u001b[0m\u001b[3m \u001b[0m\u001b[3m                 \u001b[0m\u001b[3m \u001b[0m\u001b[3m \u001b[0m\u001b[3m \u001b[0m\u001b[3m \u001b[0m\u001b[3mLa_Ragione/sn84037024_1917-04-25_ed-1_seq-1_ocr.txt \u001b[0m\u001b[3m \u001b[0m\u001b[3m \u001b[0m\u001b[3m \u001b[0m\u001b[3m16613\u001b[0m\u001b[3m \u001b[0m\u001b[3m \u001b[0m\u001b[3m \u001b[0m\u001b[3m \u001b[0m\u001b[3m                          \u001b[0m\u001b[3m \u001b[0m  │\n",
              "│  \u001b[1m                   \u001b[0m \u001b[3m \u001b[0m\u001b[3m \u001b[0m\u001b[3m                 \u001b[0m\u001b[3m \u001b[0m\u001b[3m \u001b[0m\u001b[3m \u001b[0m\u001b[3m \u001b[0m\u001b[3mLa_Ragione/sn84037024_1917-04-25_ed-2_seq-1_ocr.txt \u001b[0m\u001b[3m \u001b[0m\u001b[3m \u001b[0m\u001b[3m \u001b[0m\u001b[3m16679\u001b[0m\u001b[3m \u001b[0m\u001b[3m \u001b[0m\u001b[3m \u001b[0m\u001b[3m \u001b[0m\u001b[3m                          \u001b[0m\u001b[3m \u001b[0m  │\n",
              "│  \u001b[1m                   \u001b[0m \u001b[3m \u001b[0m\u001b[3m \u001b[0m\u001b[3m                 \u001b[0m\u001b[3m \u001b[0m\u001b[3m \u001b[0m\u001b[3m \u001b[0m\u001b[3m \u001b[0m\u001b[3mLa_Ragione/sn84037024_1917-04-25_ed-4_seq-1_ocr.txt \u001b[0m\u001b[3m \u001b[0m\u001b[3m \u001b[0m\u001b[3m \u001b[0m\u001b[3m16235\u001b[0m\u001b[3m \u001b[0m\u001b[3m \u001b[0m\u001b[3m \u001b[0m\u001b[3m \u001b[0m\u001b[3m                          \u001b[0m\u001b[3m \u001b[0m  │\n",
              "│  \u001b[1m                   \u001b[0m \u001b[3m \u001b[0m\u001b[3m \u001b[0m\u001b[3m                 \u001b[0m\u001b[3m \u001b[0m\u001b[3m \u001b[0m\u001b[3m \u001b[0m\u001b[3m \u001b[0m\u001b[3mLa_Ragione/sn84037024_1917-05-16_ed-1_seq-1_ocr.txt \u001b[0m\u001b[3m \u001b[0m\u001b[3m \u001b[0m\u001b[3m \u001b[0m\u001b[3m18620\u001b[0m\u001b[3m \u001b[0m\u001b[3m \u001b[0m\u001b[3m \u001b[0m\u001b[3m \u001b[0m\u001b[3m                          \u001b[0m\u001b[3m \u001b[0m  │\n",
              "│  \u001b[1m                   \u001b[0m \u001b[3m \u001b[0m\u001b[3m \u001b[0m\u001b[3m                 \u001b[0m\u001b[3m \u001b[0m\u001b[3m \u001b[0m\u001b[3m                                                                \u001b[0m\u001b[3m \u001b[0m\u001b[3m \u001b[0m\u001b[3m                          \u001b[0m\u001b[3m \u001b[0m  │\n",
              "│  \u001b[1m                   \u001b[0m \u001b[3m \u001b[0m\u001b[3m                                                                                      \u001b[0m\u001b[3m                          \u001b[0m\u001b[3m \u001b[0m  │\n",
              "│                                                                                                                                          │\n",
              "╰──────────────────────────────────────────────────────────────────────────────────────────────────────────────────────────────────────────╯\n"
            ]
          },
          "execution_count": 4,
          "metadata": {},
          "output_type": "execute_result"
        }
      ],
      "source": [
        "inputs = {\n",
        "    \"url\": \"https://github.com/DHARPA-Project/kiara.examples/archive/refs/heads/main.zip\",\n",
        "    \"sub_path\": \"kiara.examples-main/examples/workshops/dh_benelux_2023/data\"\n",
        " }\n",
        "\n",
        "outputs = kiara.run_job('download.file_bundle', inputs=inputs)\n",
        "outputs"
      ]
    },
    {
      "attachments": {},
      "cell_type": "markdown",
      "metadata": {
        "id": "Nov91jymx5DB"
      },
      "source": [
        "Great, we've successfully imported a bundle of files. This has given us both the metadata for the files, and the files themselves. As you can see, *kiara* also gives us additional information on the composition of the text files, that is the number of tokens. This information will be useful later when we will intervene on these files to keep track of how we have changed them. For now, let's save the files in a separate variable for us to use later."
      ]
    },
    {
      "cell_type": "code",
      "execution_count": null,
      "metadata": {
        "id": "ERPyk2CIzPw1"
      },
      "outputs": [],
      "source": [
        "file_bundle = outputs['file_bundle']"
      ]
    },
    {
      "attachments": {},
      "cell_type": "markdown",
      "metadata": {
        "id": "eG94blC9zW-E"
      },
      "source": [
        "Now that we have imported the files, let's give them some structure. For example, we can create a dataframe to contain our files and metadata. Let's have a look at the `create.table.from.file_bundle` function. "
      ]
    },
    {
      "cell_type": "code",
      "execution_count": null,
      "metadata": {
        "colab": {
          "base_uri": "https://localhost:8080/",
          "height": 529
        },
        "id": "fxHgDNRE0ImO",
        "outputId": "def62591-8369-4813-897c-ae2ad79faa3d"
      },
      "outputs": [
        {
          "data": {
            "text/html": [
              "<pre style=\"white-space:pre;overflow-x:auto;line-height:normal;font-family:Menlo,'DejaVu Sans Mono',consolas,'Courier New',monospace\">                                                                                                                                            \n",
              " <span style=\"font-style: italic\">Author(s)        </span>                                                                                                                          \n",
              " <span style=\"font-style: italic\">                 </span>   Markus Binsteiner  <span style=\"font-style: italic\"> markus@frkl.io </span>                                                                                    \n",
              " <span style=\"font-style: italic\">                 </span>                                                                                                                          \n",
              " <span style=\"font-style: italic\">Context          </span>                                                                                                                          \n",
              " <span style=\"font-style: italic\">                 </span>  <span style=\"font-style: italic\"> Tags       </span>  tabular                                                                                                   \n",
              " <span style=\"font-style: italic\">                 </span>  <span style=\"font-style: italic\"> Labels     </span>  <span style=\"font-style: italic\">package</span>: kiara_plugin.tabular                                                                             \n",
              " <span style=\"font-style: italic\">                 </span>  <span style=\"font-style: italic\"> References </span>  <span style=\"font-style: italic\">source_repo</span>: <a href=\"https://github.com/DHARPA-Project/kiara_plugin.tabular\" target=\"_blank\">https://github.com/DHARPA-Project/kiara_plugin.tabular</a>                                       \n",
              " <span style=\"font-style: italic\">                 </span>  <span style=\"font-style: italic\">            </span>  <span style=\"font-style: italic\">documentation</span>: <a href=\"https://DHARPA-Project.github.io/kiara_plugin.tabular/\" target=\"_blank\">https://DHARPA-Project.github.io/kiara_plugin.tabular/</a>                                     \n",
              " <span style=\"font-style: italic\">                 </span>                                                                                                                          \n",
              " <span style=\"font-style: italic\">Operation details</span>                                                                                                                          \n",
              " <span style=\"font-style: italic\">                 </span>  <span style=\"font-style: italic\"> Documentation </span>  Create a table value from a text file_bundle.                                                          \n",
              " <span style=\"font-style: italic\">                 </span>  <span style=\"font-style: italic\">               </span>                                                                                                         \n",
              " <span style=\"font-style: italic\">                 </span>  <span style=\"font-style: italic\">               </span>  The resulting table will have (at a minimum) the following collumns:                                   \n",
              " <span style=\"font-style: italic\">                 </span>  <span style=\"font-style: italic\">               </span>  - id: an auto-assigned index                                                                           \n",
              " <span style=\"font-style: italic\">                 </span>  <span style=\"font-style: italic\">               </span>  - rel_path: the relative path of the file (from the provided base path)                                \n",
              " <span style=\"font-style: italic\">                 </span>  <span style=\"font-style: italic\">               </span>  - content: the text file content                                                                       \n",
              " <span style=\"font-style: italic\">                 </span>                                                                                                                          \n",
              " <span style=\"font-style: italic\">                 </span>  <span style=\"font-style: italic\"> Inputs        </span>                                                                                                         \n",
              " <span style=\"font-style: italic\">                 </span>  <span style=\"font-style: italic\">               </span>   <span style=\"font-weight: bold\"> field name  </span> <span style=\"font-weight: bold\"> type        </span> <span style=\"font-weight: bold\"> description                            </span> <span style=\"font-weight: bold\"> Required </span> <span style=\"font-weight: bold\"> Default          </span>    \n",
              " <span style=\"font-style: italic\">                 </span>  <span style=\"font-style: italic\">               </span>   ──────────────────────────────────────────────────────────────────────────────────────────────────    \n",
              " <span style=\"font-style: italic\">                 </span>  <span style=\"font-style: italic\">               </span>   <span style=\"font-style: italic\"> file_bundle </span>  file_bundle   The source value (of type                <span style=\"font-weight: bold\">yes</span>        -- no default --     \n",
              " <span style=\"font-style: italic\">                 </span>  <span style=\"font-style: italic\">               </span>   <span style=\"font-style: italic\">             </span>                'file_bundle').                                                          \n",
              " <span style=\"font-style: italic\">                 </span>  <span style=\"font-style: italic\">               </span>                                                                                                         \n",
              " <span style=\"font-style: italic\">                 </span>                                                                                                                          \n",
              " <span style=\"font-style: italic\">                 </span>  <span style=\"font-style: italic\"> Outputs       </span>                                                                                                         \n",
              " <span style=\"font-style: italic\">                 </span>  <span style=\"font-style: italic\">               </span>   <span style=\"font-weight: bold\"> field name </span> <span style=\"font-weight: bold\"> type  </span> <span style=\"font-weight: bold\"> description                                                                 </span>    \n",
              " <span style=\"font-style: italic\">                 </span>  <span style=\"font-style: italic\">               </span>   ──────────────────────────────────────────────────────────────────────────────────────────────────    \n",
              " <span style=\"font-style: italic\">                 </span>  <span style=\"font-style: italic\">               </span>   <span style=\"font-style: italic\"> table      </span>  table   The result value (of type 'table').                                             \n",
              " <span style=\"font-style: italic\">                 </span>  <span style=\"font-style: italic\">               </span>                                                                                                         \n",
              " <span style=\"font-style: italic\">                 </span>                                                                                                                          \n",
              "                                                                                                                                            \n",
              "</pre>\n"
            ],
            "text/plain": [
              "                                                                                                                                            \n",
              " \u001b[3mAuthor(s)        \u001b[0m                                                                                                                          \n",
              " \u001b[3m                 \u001b[0m   Markus Binsteiner  \u001b[3m \u001b[0m\u001b[3mmarkus@frkl.io\u001b[0m\u001b[3m \u001b[0m                                                                                    \n",
              " \u001b[3m                 \u001b[0m                                                                                                                          \n",
              " \u001b[3mContext          \u001b[0m                                                                                                                          \n",
              " \u001b[3m                 \u001b[0m  \u001b[3m \u001b[0m\u001b[3mTags      \u001b[0m\u001b[3m \u001b[0m  tabular                                                                                                   \n",
              " \u001b[3m                 \u001b[0m  \u001b[3m \u001b[0m\u001b[3mLabels    \u001b[0m\u001b[3m \u001b[0m  \u001b[3mpackage\u001b[0m: kiara_plugin.tabular                                                                             \n",
              " \u001b[3m                 \u001b[0m  \u001b[3m \u001b[0m\u001b[3mReferences\u001b[0m\u001b[3m \u001b[0m  \u001b[3msource_repo\u001b[0m: \u001b]8;id=484416;https://github.com/DHARPA-Project/kiara_plugin.tabular\u001b\\https://github.com/DHARPA-Project/kiara_plugin.tabular\u001b]8;;\u001b\\                                       \n",
              " \u001b[3m                 \u001b[0m  \u001b[3m            \u001b[0m  \u001b[3mdocumentation\u001b[0m: \u001b]8;id=533089;https://DHARPA-Project.github.io/kiara_plugin.tabular/\u001b\\https://DHARPA-Project.github.io/kiara_plugin.tabular/\u001b]8;;\u001b\\                                     \n",
              " \u001b[3m                 \u001b[0m                                                                                                                          \n",
              " \u001b[3mOperation details\u001b[0m                                                                                                                          \n",
              " \u001b[3m                 \u001b[0m  \u001b[3m \u001b[0m\u001b[3mDocumentation\u001b[0m\u001b[3m \u001b[0m  Create a table value from a text file_bundle.                                                          \n",
              " \u001b[3m                 \u001b[0m  \u001b[3m               \u001b[0m                                                                                                         \n",
              " \u001b[3m                 \u001b[0m  \u001b[3m               \u001b[0m  The resulting table will have (at a minimum) the following collumns:                                   \n",
              " \u001b[3m                 \u001b[0m  \u001b[3m               \u001b[0m  - id: an auto-assigned index                                                                           \n",
              " \u001b[3m                 \u001b[0m  \u001b[3m               \u001b[0m  - rel_path: the relative path of the file (from the provided base path)                                \n",
              " \u001b[3m                 \u001b[0m  \u001b[3m               \u001b[0m  - content: the text file content                                                                       \n",
              " \u001b[3m                 \u001b[0m                                                                                                                          \n",
              " \u001b[3m                 \u001b[0m  \u001b[3m \u001b[0m\u001b[3mInputs       \u001b[0m\u001b[3m \u001b[0m                                                                                                         \n",
              " \u001b[3m                 \u001b[0m  \u001b[3m               \u001b[0m   \u001b[1m \u001b[0m\u001b[1mfield name \u001b[0m\u001b[1m \u001b[0m \u001b[1m \u001b[0m\u001b[1mtype       \u001b[0m\u001b[1m \u001b[0m \u001b[1m \u001b[0m\u001b[1mdescription                           \u001b[0m\u001b[1m \u001b[0m \u001b[1m \u001b[0m\u001b[1mRequired\u001b[0m\u001b[1m \u001b[0m \u001b[1m \u001b[0m\u001b[1mDefault         \u001b[0m\u001b[1m \u001b[0m    \n",
              " \u001b[3m                 \u001b[0m  \u001b[3m               \u001b[0m   ──────────────────────────────────────────────────────────────────────────────────────────────────    \n",
              " \u001b[3m                 \u001b[0m  \u001b[3m               \u001b[0m   \u001b[3m \u001b[0m\u001b[3mfile_bundle\u001b[0m\u001b[3m \u001b[0m  file_bundle   The source value (of type                \u001b[1myes\u001b[0m        -- no default --     \n",
              " \u001b[3m                 \u001b[0m  \u001b[3m               \u001b[0m   \u001b[3m             \u001b[0m                'file_bundle').                                                          \n",
              " \u001b[3m                 \u001b[0m  \u001b[3m               \u001b[0m                                                                                                         \n",
              " \u001b[3m                 \u001b[0m                                                                                                                          \n",
              " \u001b[3m                 \u001b[0m  \u001b[3m \u001b[0m\u001b[3mOutputs      \u001b[0m\u001b[3m \u001b[0m                                                                                                         \n",
              " \u001b[3m                 \u001b[0m  \u001b[3m               \u001b[0m   \u001b[1m \u001b[0m\u001b[1mfield name\u001b[0m\u001b[1m \u001b[0m \u001b[1m \u001b[0m\u001b[1mtype \u001b[0m\u001b[1m \u001b[0m \u001b[1m \u001b[0m\u001b[1mdescription                                                                \u001b[0m\u001b[1m \u001b[0m    \n",
              " \u001b[3m                 \u001b[0m  \u001b[3m               \u001b[0m   ──────────────────────────────────────────────────────────────────────────────────────────────────    \n",
              " \u001b[3m                 \u001b[0m  \u001b[3m               \u001b[0m   \u001b[3m \u001b[0m\u001b[3mtable     \u001b[0m\u001b[3m \u001b[0m  table   The result value (of type 'table').                                             \n",
              " \u001b[3m                 \u001b[0m  \u001b[3m               \u001b[0m                                                                                                         \n",
              " \u001b[3m                 \u001b[0m                                                                                                                          \n",
              "                                                                                                                                            \n"
            ]
          },
          "execution_count": 19,
          "metadata": {},
          "output_type": "execute_result"
        }
      ],
      "source": [
        "kiara.retrieve_operation_info('create.table.from.file_bundle')"
      ]
    },
    {
      "attachments": {},
      "cell_type": "markdown",
      "metadata": {
        "id": "wJHdulFz0Ral"
      },
      "source": [
        "As you can see, *kiara* also provides us with meta information on each of its functions. This built-in documentation is also helpful for teaching purposes. Now that we know what `create.table.from.file_bundle` does, we can use it with our sources."
      ]
    },
    {
      "cell_type": "code",
      "execution_count": null,
      "metadata": {
        "colab": {
          "base_uri": "https://localhost:8080/",
          "height": 433
        },
        "id": "fjPsd11b033W",
        "outputId": "cb0e3151-469a-4ce6-8c49-b124b1bdc56c"
      },
      "outputs": [
        {
          "data": {
            "text/html": [
              "<pre style=\"white-space:pre;overflow-x:auto;line-height:normal;font-family:Menlo,'DejaVu Sans Mono',consolas,'Courier New',monospace\">╭──────────────────────────────────────────────────────────────────────────────────────────────────────────────────────────────────────────╮\n",
              "│                                                                                                                                          │\n",
              "│  <span style=\"font-weight: bold\"> field </span> <span style=\"font-weight: bold\"> value                                                                                                                        </span>  │\n",
              "│  ──────────────────────────────────────────────────────────────────────────────────────────────────────────────────────────────────────  │\n",
              "│  <span style=\"font-weight: bold\"> table </span> <span style=\"font-style: italic\">                                                                                                                              </span>  │\n",
              "│  <span style=\"font-weight: bold\">       </span> <span style=\"font-style: italic\">  </span><span style=\"font-weight: bold; font-style: italic\"> id </span><span style=\"font-style: italic\"> </span><span style=\"font-weight: bold; font-style: italic\"> rel_path                      </span><span style=\"font-style: italic\"> </span><span style=\"font-weight: bold; font-style: italic\"> mime_type  </span><span style=\"font-style: italic\"> </span><span style=\"font-weight: bold; font-style: italic\"> size  </span><span style=\"font-style: italic\"> </span><span style=\"font-weight: bold; font-style: italic\"> content                        </span><span style=\"font-style: italic\"> </span><span style=\"font-weight: bold; font-style: italic\"> file_name                     </span><span style=\"font-style: italic\">  </span>  │\n",
              "│  <span style=\"font-weight: bold\">       </span> <span style=\"font-style: italic\">  ──────────────────────────────────────────────────────────────────────────────────────────────────────────────────────────  </span>  │\n",
              "│  <span style=\"font-weight: bold\">       </span> <span style=\"font-style: italic\">   0    La_Ragione/sn84037024_1917-04   text/plain   16613   LA RAGIONE                       sn84037024_1917-04-25_ed-1_se   </span>  │\n",
              "│  <span style=\"font-weight: bold\">       </span> <span style=\"font-style: italic\">   1    La_Ragione/sn84037024_1917-04   text/plain   16679   LA RAG ONE                       sn84037024_1917-04-25_ed-2_se   </span>  │\n",
              "│  <span style=\"font-weight: bold\">       </span> <span style=\"font-style: italic\">   2    La_Ragione/sn84037024_1917-04   text/plain   16793   LA RAGIONE                       sn84037024_1917-04-25_ed-3_se   </span>  │\n",
              "│  <span style=\"font-weight: bold\">       </span> <span style=\"font-style: italic\">   3    La_Ragione/sn84037024_1917-04   text/plain   16235   contro i vili, i camorristi, i   sn84037024_1917-04-25_ed-4_se   </span>  │\n",
              "│  <span style=\"font-weight: bold\">       </span> <span style=\"font-style: italic\">   4    La_Ragione/sn84037024_1917-05   text/plain   18346   contro i vili, i camorristi, i   sn84037024_1917-05-05_ed-1_se   </span>  │\n",
              "│  <span style=\"font-weight: bold\">       </span> <span style=\"font-style: italic\">   5    La_Ragione/sn84037024_1917-05   text/plain   18474   LA RAGIONA                       sn84037024_1917-05-05_ed-2_se   </span>  │\n",
              "│  <span style=\"font-weight: bold\">       </span> <span style=\"font-style: italic\">   6    La_Ragione/sn84037024_1917-05   text/plain   18280   LA RAGIONE                       sn84037024_1917-05-05_ed-3_se   </span>  │\n",
              "│  <span style=\"font-weight: bold\">       </span> <span style=\"font-style: italic\">   7    La_Ragione/sn84037024_1917-05   text/plain   18481   LA RAGIONE                       sn84037024_1917-05-05_ed-4_se   </span>  │\n",
              "│  <span style=\"font-weight: bold\">       </span> <span style=\"font-style: italic\">   8    La_Ragione/sn84037024_1917-05   text/plain   18620   contro i vili, i camorristi, i   sn84037024_1917-05-16_ed-1_se   </span>  │\n",
              "│  <span style=\"font-weight: bold\">       </span> <span style=\"font-style: italic\">   9    La_Ragione/sn84037024_1917-05   text/plain   18698   LA RAG ONE                       sn84037024_1917-05-16_ed-2_se   </span>  │\n",
              "│  <span style=\"font-weight: bold\">       </span> <span style=\"font-style: italic\">   10   La_Ragione/sn84037024_1917-05   text/plain   18540   contro 1 vili, i camorristi, i   sn84037024_1917-05-16_ed-3_se   </span>  │\n",
              "│  <span style=\"font-weight: bold\">       </span> <span style=\"font-style: italic\">   11   La_Rassegna/sn84037025_1917-0   text/plain   19397   ■■■                              sn84037025_1917-04-07_ed-1_se   </span>  │\n",
              "│  <span style=\"font-weight: bold\">       </span> <span style=\"font-style: italic\">   12   La_Rassegna/sn84037025_1917-0   text/plain   20647   La Rassegna                      sn84037025_1917-04-14_ed-1_se   </span>  │\n",
              "│  <span style=\"font-weight: bold\">       </span> <span style=\"font-style: italic\">   13   La_Rassegna/sn84037025_1917-0   text/plain   20650   Both Phones                      sn84037025_1917-04-14_ed-2_se   </span>  │\n",
              "│  <span style=\"font-weight: bold\">       </span> <span style=\"font-style: italic\">   14   La_Rassegna/sn84037025_1917-0   text/plain   21017   ■ jSrìt** W?? iIK 38®f- i^M      sn84037025_1917-04-21_ed-1_se   </span>  │\n",
              "│  <span style=\"font-weight: bold\">       </span> <span style=\"font-style: italic\">   15   La_Rassegna/sn84037025_1917-0   text/plain   20982   ■Both Phones                     sn84037025_1917-04-21_ed-2_se   </span>  │\n",
              "│  <span style=\"font-weight: bold\">       </span> <span style=\"font-style: italic\">                                                                                                                              </span>  │\n",
              "│                                                                                                                                          │\n",
              "╰──────────────────────────────────────────────────────────────────────────────────────────────────────────────────────────────────────────╯\n",
              "</pre>\n"
            ],
            "text/plain": [
              "╭──────────────────────────────────────────────────────────────────────────────────────────────────────────────────────────────────────────╮\n",
              "│                                                                                                                                          │\n",
              "│  \u001b[1m \u001b[0m\u001b[1mfield\u001b[0m\u001b[1m \u001b[0m \u001b[1m \u001b[0m\u001b[1mvalue                                                                                                                       \u001b[0m\u001b[1m \u001b[0m  │\n",
              "│  ──────────────────────────────────────────────────────────────────────────────────────────────────────────────────────────────────────  │\n",
              "│  \u001b[1m \u001b[0m\u001b[1mtable\u001b[0m\u001b[1m \u001b[0m \u001b[3m \u001b[0m\u001b[3m                                                                                                                            \u001b[0m\u001b[3m \u001b[0m  │\n",
              "│  \u001b[1m       \u001b[0m \u001b[3m \u001b[0m\u001b[3m \u001b[0m\u001b[1;3m \u001b[0m\u001b[1;3mid\u001b[0m\u001b[1;3m \u001b[0m\u001b[3m \u001b[0m\u001b[1;3m \u001b[0m\u001b[1;3mrel_path\u001b[0m\u001b[1;3m                     \u001b[0m\u001b[1;3m \u001b[0m\u001b[3m \u001b[0m\u001b[1;3m \u001b[0m\u001b[1;3mmime_type\u001b[0m\u001b[1;3m \u001b[0m\u001b[1;3m \u001b[0m\u001b[3m \u001b[0m\u001b[1;3m \u001b[0m\u001b[1;3msize\u001b[0m\u001b[1;3m \u001b[0m\u001b[1;3m \u001b[0m\u001b[3m \u001b[0m\u001b[1;3m \u001b[0m\u001b[1;3mcontent\u001b[0m\u001b[1;3m                       \u001b[0m\u001b[1;3m \u001b[0m\u001b[3m \u001b[0m\u001b[1;3m \u001b[0m\u001b[1;3mfile_name\u001b[0m\u001b[1;3m                    \u001b[0m\u001b[1;3m \u001b[0m\u001b[3m \u001b[0m\u001b[3m \u001b[0m  │\n",
              "│  \u001b[1m       \u001b[0m \u001b[3m \u001b[0m\u001b[3m ────────────────────────────────────────────────────────────────────────────────────────────────────────────────────────── \u001b[0m\u001b[3m \u001b[0m  │\n",
              "│  \u001b[1m       \u001b[0m \u001b[3m \u001b[0m\u001b[3m \u001b[0m\u001b[3m \u001b[0m\u001b[3m0\u001b[0m\u001b[3m \u001b[0m\u001b[3m \u001b[0m\u001b[3m \u001b[0m\u001b[3m \u001b[0m\u001b[3mLa_Ragione/sn84037024_1917-04\u001b[0m\u001b[3m \u001b[0m\u001b[3m \u001b[0m\u001b[3m \u001b[0m\u001b[3mtext/plain\u001b[0m\u001b[3m \u001b[0m\u001b[3m \u001b[0m\u001b[3m \u001b[0m\u001b[3m16613\u001b[0m\u001b[3m \u001b[0m\u001b[3m \u001b[0m\u001b[3m \u001b[0m\u001b[3mLA RAGIONE\u001b[0m\u001b[3m                    \u001b[0m\u001b[3m \u001b[0m\u001b[3m \u001b[0m\u001b[3m \u001b[0m\u001b[3msn84037024_1917-04-25_ed-1_se\u001b[0m\u001b[3m \u001b[0m\u001b[3m \u001b[0m\u001b[3m \u001b[0m  │\n",
              "│  \u001b[1m       \u001b[0m \u001b[3m \u001b[0m\u001b[3m \u001b[0m\u001b[3m \u001b[0m\u001b[3m1\u001b[0m\u001b[3m \u001b[0m\u001b[3m \u001b[0m\u001b[3m \u001b[0m\u001b[3m \u001b[0m\u001b[3mLa_Ragione/sn84037024_1917-04\u001b[0m\u001b[3m \u001b[0m\u001b[3m \u001b[0m\u001b[3m \u001b[0m\u001b[3mtext/plain\u001b[0m\u001b[3m \u001b[0m\u001b[3m \u001b[0m\u001b[3m \u001b[0m\u001b[3m16679\u001b[0m\u001b[3m \u001b[0m\u001b[3m \u001b[0m\u001b[3m \u001b[0m\u001b[3mLA RAG ONE\u001b[0m\u001b[3m                    \u001b[0m\u001b[3m \u001b[0m\u001b[3m \u001b[0m\u001b[3m \u001b[0m\u001b[3msn84037024_1917-04-25_ed-2_se\u001b[0m\u001b[3m \u001b[0m\u001b[3m \u001b[0m\u001b[3m \u001b[0m  │\n",
              "│  \u001b[1m       \u001b[0m \u001b[3m \u001b[0m\u001b[3m \u001b[0m\u001b[3m \u001b[0m\u001b[3m2\u001b[0m\u001b[3m \u001b[0m\u001b[3m \u001b[0m\u001b[3m \u001b[0m\u001b[3m \u001b[0m\u001b[3mLa_Ragione/sn84037024_1917-04\u001b[0m\u001b[3m \u001b[0m\u001b[3m \u001b[0m\u001b[3m \u001b[0m\u001b[3mtext/plain\u001b[0m\u001b[3m \u001b[0m\u001b[3m \u001b[0m\u001b[3m \u001b[0m\u001b[3m16793\u001b[0m\u001b[3m \u001b[0m\u001b[3m \u001b[0m\u001b[3m \u001b[0m\u001b[3mLA RAGIONE\u001b[0m\u001b[3m                    \u001b[0m\u001b[3m \u001b[0m\u001b[3m \u001b[0m\u001b[3m \u001b[0m\u001b[3msn84037024_1917-04-25_ed-3_se\u001b[0m\u001b[3m \u001b[0m\u001b[3m \u001b[0m\u001b[3m \u001b[0m  │\n",
              "│  \u001b[1m       \u001b[0m \u001b[3m \u001b[0m\u001b[3m \u001b[0m\u001b[3m \u001b[0m\u001b[3m3\u001b[0m\u001b[3m \u001b[0m\u001b[3m \u001b[0m\u001b[3m \u001b[0m\u001b[3m \u001b[0m\u001b[3mLa_Ragione/sn84037024_1917-04\u001b[0m\u001b[3m \u001b[0m\u001b[3m \u001b[0m\u001b[3m \u001b[0m\u001b[3mtext/plain\u001b[0m\u001b[3m \u001b[0m\u001b[3m \u001b[0m\u001b[3m \u001b[0m\u001b[3m16235\u001b[0m\u001b[3m \u001b[0m\u001b[3m \u001b[0m\u001b[3m \u001b[0m\u001b[3mcontro i vili, i camorristi, i\u001b[0m\u001b[3m \u001b[0m\u001b[3m \u001b[0m\u001b[3m \u001b[0m\u001b[3msn84037024_1917-04-25_ed-4_se\u001b[0m\u001b[3m \u001b[0m\u001b[3m \u001b[0m\u001b[3m \u001b[0m  │\n",
              "│  \u001b[1m       \u001b[0m \u001b[3m \u001b[0m\u001b[3m \u001b[0m\u001b[3m \u001b[0m\u001b[3m4\u001b[0m\u001b[3m \u001b[0m\u001b[3m \u001b[0m\u001b[3m \u001b[0m\u001b[3m \u001b[0m\u001b[3mLa_Ragione/sn84037024_1917-05\u001b[0m\u001b[3m \u001b[0m\u001b[3m \u001b[0m\u001b[3m \u001b[0m\u001b[3mtext/plain\u001b[0m\u001b[3m \u001b[0m\u001b[3m \u001b[0m\u001b[3m \u001b[0m\u001b[3m18346\u001b[0m\u001b[3m \u001b[0m\u001b[3m \u001b[0m\u001b[3m \u001b[0m\u001b[3mcontro i vili, i camorristi, i\u001b[0m\u001b[3m \u001b[0m\u001b[3m \u001b[0m\u001b[3m \u001b[0m\u001b[3msn84037024_1917-05-05_ed-1_se\u001b[0m\u001b[3m \u001b[0m\u001b[3m \u001b[0m\u001b[3m \u001b[0m  │\n",
              "│  \u001b[1m       \u001b[0m \u001b[3m \u001b[0m\u001b[3m \u001b[0m\u001b[3m \u001b[0m\u001b[3m5\u001b[0m\u001b[3m \u001b[0m\u001b[3m \u001b[0m\u001b[3m \u001b[0m\u001b[3m \u001b[0m\u001b[3mLa_Ragione/sn84037024_1917-05\u001b[0m\u001b[3m \u001b[0m\u001b[3m \u001b[0m\u001b[3m \u001b[0m\u001b[3mtext/plain\u001b[0m\u001b[3m \u001b[0m\u001b[3m \u001b[0m\u001b[3m \u001b[0m\u001b[3m18474\u001b[0m\u001b[3m \u001b[0m\u001b[3m \u001b[0m\u001b[3m \u001b[0m\u001b[3mLA RAGIONA\u001b[0m\u001b[3m                    \u001b[0m\u001b[3m \u001b[0m\u001b[3m \u001b[0m\u001b[3m \u001b[0m\u001b[3msn84037024_1917-05-05_ed-2_se\u001b[0m\u001b[3m \u001b[0m\u001b[3m \u001b[0m\u001b[3m \u001b[0m  │\n",
              "│  \u001b[1m       \u001b[0m \u001b[3m \u001b[0m\u001b[3m \u001b[0m\u001b[3m \u001b[0m\u001b[3m6\u001b[0m\u001b[3m \u001b[0m\u001b[3m \u001b[0m\u001b[3m \u001b[0m\u001b[3m \u001b[0m\u001b[3mLa_Ragione/sn84037024_1917-05\u001b[0m\u001b[3m \u001b[0m\u001b[3m \u001b[0m\u001b[3m \u001b[0m\u001b[3mtext/plain\u001b[0m\u001b[3m \u001b[0m\u001b[3m \u001b[0m\u001b[3m \u001b[0m\u001b[3m18280\u001b[0m\u001b[3m \u001b[0m\u001b[3m \u001b[0m\u001b[3m \u001b[0m\u001b[3mLA RAGIONE\u001b[0m\u001b[3m                    \u001b[0m\u001b[3m \u001b[0m\u001b[3m \u001b[0m\u001b[3m \u001b[0m\u001b[3msn84037024_1917-05-05_ed-3_se\u001b[0m\u001b[3m \u001b[0m\u001b[3m \u001b[0m\u001b[3m \u001b[0m  │\n",
              "│  \u001b[1m       \u001b[0m \u001b[3m \u001b[0m\u001b[3m \u001b[0m\u001b[3m \u001b[0m\u001b[3m7\u001b[0m\u001b[3m \u001b[0m\u001b[3m \u001b[0m\u001b[3m \u001b[0m\u001b[3m \u001b[0m\u001b[3mLa_Ragione/sn84037024_1917-05\u001b[0m\u001b[3m \u001b[0m\u001b[3m \u001b[0m\u001b[3m \u001b[0m\u001b[3mtext/plain\u001b[0m\u001b[3m \u001b[0m\u001b[3m \u001b[0m\u001b[3m \u001b[0m\u001b[3m18481\u001b[0m\u001b[3m \u001b[0m\u001b[3m \u001b[0m\u001b[3m \u001b[0m\u001b[3mLA RAGIONE\u001b[0m\u001b[3m                    \u001b[0m\u001b[3m \u001b[0m\u001b[3m \u001b[0m\u001b[3m \u001b[0m\u001b[3msn84037024_1917-05-05_ed-4_se\u001b[0m\u001b[3m \u001b[0m\u001b[3m \u001b[0m\u001b[3m \u001b[0m  │\n",
              "│  \u001b[1m       \u001b[0m \u001b[3m \u001b[0m\u001b[3m \u001b[0m\u001b[3m \u001b[0m\u001b[3m8\u001b[0m\u001b[3m \u001b[0m\u001b[3m \u001b[0m\u001b[3m \u001b[0m\u001b[3m \u001b[0m\u001b[3mLa_Ragione/sn84037024_1917-05\u001b[0m\u001b[3m \u001b[0m\u001b[3m \u001b[0m\u001b[3m \u001b[0m\u001b[3mtext/plain\u001b[0m\u001b[3m \u001b[0m\u001b[3m \u001b[0m\u001b[3m \u001b[0m\u001b[3m18620\u001b[0m\u001b[3m \u001b[0m\u001b[3m \u001b[0m\u001b[3m \u001b[0m\u001b[3mcontro i vili, i camorristi, i\u001b[0m\u001b[3m \u001b[0m\u001b[3m \u001b[0m\u001b[3m \u001b[0m\u001b[3msn84037024_1917-05-16_ed-1_se\u001b[0m\u001b[3m \u001b[0m\u001b[3m \u001b[0m\u001b[3m \u001b[0m  │\n",
              "│  \u001b[1m       \u001b[0m \u001b[3m \u001b[0m\u001b[3m \u001b[0m\u001b[3m \u001b[0m\u001b[3m9\u001b[0m\u001b[3m \u001b[0m\u001b[3m \u001b[0m\u001b[3m \u001b[0m\u001b[3m \u001b[0m\u001b[3mLa_Ragione/sn84037024_1917-05\u001b[0m\u001b[3m \u001b[0m\u001b[3m \u001b[0m\u001b[3m \u001b[0m\u001b[3mtext/plain\u001b[0m\u001b[3m \u001b[0m\u001b[3m \u001b[0m\u001b[3m \u001b[0m\u001b[3m18698\u001b[0m\u001b[3m \u001b[0m\u001b[3m \u001b[0m\u001b[3m \u001b[0m\u001b[3mLA RAG ONE\u001b[0m\u001b[3m                    \u001b[0m\u001b[3m \u001b[0m\u001b[3m \u001b[0m\u001b[3m \u001b[0m\u001b[3msn84037024_1917-05-16_ed-2_se\u001b[0m\u001b[3m \u001b[0m\u001b[3m \u001b[0m\u001b[3m \u001b[0m  │\n",
              "│  \u001b[1m       \u001b[0m \u001b[3m \u001b[0m\u001b[3m \u001b[0m\u001b[3m \u001b[0m\u001b[3m10\u001b[0m\u001b[3m \u001b[0m\u001b[3m \u001b[0m\u001b[3m \u001b[0m\u001b[3mLa_Ragione/sn84037024_1917-05\u001b[0m\u001b[3m \u001b[0m\u001b[3m \u001b[0m\u001b[3m \u001b[0m\u001b[3mtext/plain\u001b[0m\u001b[3m \u001b[0m\u001b[3m \u001b[0m\u001b[3m \u001b[0m\u001b[3m18540\u001b[0m\u001b[3m \u001b[0m\u001b[3m \u001b[0m\u001b[3m \u001b[0m\u001b[3mcontro 1 vili, i camorristi, i\u001b[0m\u001b[3m \u001b[0m\u001b[3m \u001b[0m\u001b[3m \u001b[0m\u001b[3msn84037024_1917-05-16_ed-3_se\u001b[0m\u001b[3m \u001b[0m\u001b[3m \u001b[0m\u001b[3m \u001b[0m  │\n",
              "│  \u001b[1m       \u001b[0m \u001b[3m \u001b[0m\u001b[3m \u001b[0m\u001b[3m \u001b[0m\u001b[3m11\u001b[0m\u001b[3m \u001b[0m\u001b[3m \u001b[0m\u001b[3m \u001b[0m\u001b[3mLa_Rassegna/sn84037025_1917-0\u001b[0m\u001b[3m \u001b[0m\u001b[3m \u001b[0m\u001b[3m \u001b[0m\u001b[3mtext/plain\u001b[0m\u001b[3m \u001b[0m\u001b[3m \u001b[0m\u001b[3m \u001b[0m\u001b[3m19397\u001b[0m\u001b[3m \u001b[0m\u001b[3m \u001b[0m\u001b[3m \u001b[0m\u001b[3m■■■\u001b[0m\u001b[3m                           \u001b[0m\u001b[3m \u001b[0m\u001b[3m \u001b[0m\u001b[3m \u001b[0m\u001b[3msn84037025_1917-04-07_ed-1_se\u001b[0m\u001b[3m \u001b[0m\u001b[3m \u001b[0m\u001b[3m \u001b[0m  │\n",
              "│  \u001b[1m       \u001b[0m \u001b[3m \u001b[0m\u001b[3m \u001b[0m\u001b[3m \u001b[0m\u001b[3m12\u001b[0m\u001b[3m \u001b[0m\u001b[3m \u001b[0m\u001b[3m \u001b[0m\u001b[3mLa_Rassegna/sn84037025_1917-0\u001b[0m\u001b[3m \u001b[0m\u001b[3m \u001b[0m\u001b[3m \u001b[0m\u001b[3mtext/plain\u001b[0m\u001b[3m \u001b[0m\u001b[3m \u001b[0m\u001b[3m \u001b[0m\u001b[3m20647\u001b[0m\u001b[3m \u001b[0m\u001b[3m \u001b[0m\u001b[3m \u001b[0m\u001b[3mLa Rassegna\u001b[0m\u001b[3m                   \u001b[0m\u001b[3m \u001b[0m\u001b[3m \u001b[0m\u001b[3m \u001b[0m\u001b[3msn84037025_1917-04-14_ed-1_se\u001b[0m\u001b[3m \u001b[0m\u001b[3m \u001b[0m\u001b[3m \u001b[0m  │\n",
              "│  \u001b[1m       \u001b[0m \u001b[3m \u001b[0m\u001b[3m \u001b[0m\u001b[3m \u001b[0m\u001b[3m13\u001b[0m\u001b[3m \u001b[0m\u001b[3m \u001b[0m\u001b[3m \u001b[0m\u001b[3mLa_Rassegna/sn84037025_1917-0\u001b[0m\u001b[3m \u001b[0m\u001b[3m \u001b[0m\u001b[3m \u001b[0m\u001b[3mtext/plain\u001b[0m\u001b[3m \u001b[0m\u001b[3m \u001b[0m\u001b[3m \u001b[0m\u001b[3m20650\u001b[0m\u001b[3m \u001b[0m\u001b[3m \u001b[0m\u001b[3m \u001b[0m\u001b[3mBoth Phones\u001b[0m\u001b[3m                   \u001b[0m\u001b[3m \u001b[0m\u001b[3m \u001b[0m\u001b[3m \u001b[0m\u001b[3msn84037025_1917-04-14_ed-2_se\u001b[0m\u001b[3m \u001b[0m\u001b[3m \u001b[0m\u001b[3m \u001b[0m  │\n",
              "│  \u001b[1m       \u001b[0m \u001b[3m \u001b[0m\u001b[3m \u001b[0m\u001b[3m \u001b[0m\u001b[3m14\u001b[0m\u001b[3m \u001b[0m\u001b[3m \u001b[0m\u001b[3m \u001b[0m\u001b[3mLa_Rassegna/sn84037025_1917-0\u001b[0m\u001b[3m \u001b[0m\u001b[3m \u001b[0m\u001b[3m \u001b[0m\u001b[3mtext/plain\u001b[0m\u001b[3m \u001b[0m\u001b[3m \u001b[0m\u001b[3m \u001b[0m\u001b[3m21017\u001b[0m\u001b[3m \u001b[0m\u001b[3m \u001b[0m\u001b[3m \u001b[0m\u001b[3m■ jSrìt** W?? iIK 38®f- i^M\u001b[0m\u001b[3m   \u001b[0m\u001b[3m \u001b[0m\u001b[3m \u001b[0m\u001b[3m \u001b[0m\u001b[3msn84037025_1917-04-21_ed-1_se\u001b[0m\u001b[3m \u001b[0m\u001b[3m \u001b[0m\u001b[3m \u001b[0m  │\n",
              "│  \u001b[1m       \u001b[0m \u001b[3m \u001b[0m\u001b[3m \u001b[0m\u001b[3m \u001b[0m\u001b[3m15\u001b[0m\u001b[3m \u001b[0m\u001b[3m \u001b[0m\u001b[3m \u001b[0m\u001b[3mLa_Rassegna/sn84037025_1917-0\u001b[0m\u001b[3m \u001b[0m\u001b[3m \u001b[0m\u001b[3m \u001b[0m\u001b[3mtext/plain\u001b[0m\u001b[3m \u001b[0m\u001b[3m \u001b[0m\u001b[3m \u001b[0m\u001b[3m20982\u001b[0m\u001b[3m \u001b[0m\u001b[3m \u001b[0m\u001b[3m \u001b[0m\u001b[3m■Both Phones\u001b[0m\u001b[3m                  \u001b[0m\u001b[3m \u001b[0m\u001b[3m \u001b[0m\u001b[3m \u001b[0m\u001b[3msn84037025_1917-04-21_ed-2_se\u001b[0m\u001b[3m \u001b[0m\u001b[3m \u001b[0m\u001b[3m \u001b[0m  │\n",
              "│  \u001b[1m       \u001b[0m \u001b[3m \u001b[0m\u001b[3m                                                                                                                            \u001b[0m\u001b[3m \u001b[0m  │\n",
              "│                                                                                                                                          │\n",
              "╰──────────────────────────────────────────────────────────────────────────────────────────────────────────────────────────────────────────╯\n"
            ]
          },
          "execution_count": 6,
          "metadata": {},
          "output_type": "execute_result"
        }
      ],
      "source": [
        "inputs = {\n",
        "    'file_bundle' : file_bundle\n",
        "}\n",
        "\n",
        "outputs = kiara.run_job('create.table.from.file_bundle', inputs=inputs)\n",
        "outputs"
      ]
    },
    {
      "attachments": {},
      "cell_type": "markdown",
      "metadata": {
        "id": "C5uiIGQi08hM"
      },
      "source": [
        "*kiara* has taken all the information from our files and made it a bit easier to navigate. In order to process and analyse our sources, we need to work with the textual content in the column 'content' of the table we just created. Let's explore the available operations specific for tables by running `kiara.list_operation_ids('table')`."
      ]
    },
    {
      "cell_type": "code",
      "execution_count": null,
      "metadata": {
        "colab": {
          "base_uri": "https://localhost:8080/"
        },
        "id": "BcdCmxkH1p35",
        "outputId": "74d78a06-59fb-4af9-ca25-3935a93e2157"
      },
      "outputs": [
        {
          "data": {
            "text/plain": [
              "['assemble.network_data.from.tables',\n",
              " 'create.database.from.table',\n",
              " 'create.table.from.file',\n",
              " 'create.table.from.file_bundle',\n",
              " 'export.table.as.csv_file',\n",
              " 'extract.date_array.from.table',\n",
              " 'import.table.from.local_file_path',\n",
              " 'import.table.from.local_folder_path',\n",
              " 'query.table',\n",
              " 'table.pick.column',\n",
              " 'table_filter.drop_columns',\n",
              " 'table_filter.select_columns',\n",
              " 'table_filter.select_rows']"
            ]
          },
          "execution_count": 21,
          "metadata": {},
          "output_type": "execute_result"
        }
      ],
      "source": [
        "kiara.list_operation_ids('table')"
      ]
    },
    {
      "attachments": {},
      "cell_type": "markdown",
      "metadata": {
        "id": "LCYmIUT_11K_"
      },
      "source": [
        "As we are interested in one column, the `table.pick.column` operation seems like a good fit."
      ]
    },
    {
      "cell_type": "code",
      "execution_count": null,
      "metadata": {
        "colab": {
          "base_uri": "https://localhost:8080/",
          "height": 401
        },
        "id": "ZhOzyUyN19gz",
        "outputId": "16efe0cc-d785-4ae9-9ee9-650088d20b4b"
      },
      "outputs": [
        {
          "data": {
            "text/html": [
              "<pre style=\"white-space:pre;overflow-x:auto;line-height:normal;font-family:Menlo,'DejaVu Sans Mono',consolas,'Courier New',monospace\">╭──────────────────────────────────────────────────────────────────────────────────────────────────────────────────────────────────────────╮\n",
              "│                                                                                                                                          │\n",
              "│  <span style=\"font-weight: bold\"> field </span> <span style=\"font-weight: bold\"> value                                                                                    </span>                                      │\n",
              "│  ──────────────────────────────────────────────────────────────────────────────────────────────────                                      │\n",
              "│  <span style=\"font-weight: bold\"> array </span> <span style=\"font-style: italic\">                                                                                          </span>                                      │\n",
              "│  <span style=\"font-weight: bold\">       </span> <span style=\"font-style: italic\">   LA RAGIONE                                                                             </span>                                      │\n",
              "│  <span style=\"font-weight: bold\">       </span> <span style=\"font-style: italic\">   LA RAG ONE                                                                             </span>                                      │\n",
              "│  <span style=\"font-weight: bold\">       </span> <span style=\"font-style: italic\">   LA RAGIONE                                                                             </span>                                      │\n",
              "│  <span style=\"font-weight: bold\">       </span> <span style=\"font-style: italic\">   contro i vili, i camorristi, i sicari, i falsari e gli austriacanti, nemici dell ...   </span>                                      │\n",
              "│  <span style=\"font-weight: bold\">       </span> <span style=\"font-style: italic\">   contro i vili, i camorristi, i sicari, i falsari e gli austriacanti, nemici dell ...   </span>                                      │\n",
              "│  <span style=\"font-weight: bold\">       </span> <span style=\"font-style: italic\">   LA RAGIONA                                                                             </span>                                      │\n",
              "│  <span style=\"font-weight: bold\">       </span> <span style=\"font-style: italic\">   LA RAGIONE                                                                             </span>                                      │\n",
              "│  <span style=\"font-weight: bold\">       </span> <span style=\"font-style: italic\">   LA RAGIONE                                                                             </span>                                      │\n",
              "│  <span style=\"font-weight: bold\">       </span> <span style=\"font-style: italic\">   contro i vili, i camorristi, i sicari, i falsari e gli austriacanti, nemici dell ...   </span>                                      │\n",
              "│  <span style=\"font-weight: bold\">       </span> <span style=\"font-style: italic\">   LA RAG ONE                                                                             </span>                                      │\n",
              "│  <span style=\"font-weight: bold\">       </span> <span style=\"font-style: italic\">   contro 1 vili, i camorristi, i sicari, i falsari e gli austriacanti, nemici dell ...   </span>                                      │\n",
              "│  <span style=\"font-weight: bold\">       </span> <span style=\"font-style: italic\">   ■■■                                                                                    </span>                                      │\n",
              "│  <span style=\"font-weight: bold\">       </span> <span style=\"font-style: italic\">   La Rassegna                                                                            </span>                                      │\n",
              "│  <span style=\"font-weight: bold\">       </span> <span style=\"font-style: italic\">   Both Phones                                                                            </span>                                      │\n",
              "│  <span style=\"font-weight: bold\">       </span> <span style=\"font-style: italic\">   ■ jSrìt** W?? iIK 38®f- i^M                                                            </span>                                      │\n",
              "│  <span style=\"font-weight: bold\">       </span> <span style=\"font-style: italic\">   ■Both Phones                                                                           </span>                                      │\n",
              "│  <span style=\"font-weight: bold\">       </span> <span style=\"font-style: italic\">                                                                                          </span>                                      │\n",
              "│                                                                                                                                          │\n",
              "╰──────────────────────────────────────────────────────────────────────────────────────────────────────────────────────────────────────────╯\n",
              "</pre>\n"
            ],
            "text/plain": [
              "╭──────────────────────────────────────────────────────────────────────────────────────────────────────────────────────────────────────────╮\n",
              "│                                                                                                                                          │\n",
              "│  \u001b[1m \u001b[0m\u001b[1mfield\u001b[0m\u001b[1m \u001b[0m \u001b[1m \u001b[0m\u001b[1mvalue                                                                                   \u001b[0m\u001b[1m \u001b[0m                                      │\n",
              "│  ──────────────────────────────────────────────────────────────────────────────────────────────────                                      │\n",
              "│  \u001b[1m \u001b[0m\u001b[1marray\u001b[0m\u001b[1m \u001b[0m \u001b[3m \u001b[0m\u001b[3m                                                                                        \u001b[0m\u001b[3m \u001b[0m                                      │\n",
              "│  \u001b[1m       \u001b[0m \u001b[3m \u001b[0m\u001b[3m \u001b[0m\u001b[3m \u001b[0m\u001b[3mLA RAGIONE\u001b[0m\u001b[3m                                                                          \u001b[0m\u001b[3m \u001b[0m\u001b[3m \u001b[0m\u001b[3m \u001b[0m                                      │\n",
              "│  \u001b[1m       \u001b[0m \u001b[3m \u001b[0m\u001b[3m \u001b[0m\u001b[3m \u001b[0m\u001b[3mLA RAG ONE\u001b[0m\u001b[3m                                                                          \u001b[0m\u001b[3m \u001b[0m\u001b[3m \u001b[0m\u001b[3m \u001b[0m                                      │\n",
              "│  \u001b[1m       \u001b[0m \u001b[3m \u001b[0m\u001b[3m \u001b[0m\u001b[3m \u001b[0m\u001b[3mLA RAGIONE\u001b[0m\u001b[3m                                                                          \u001b[0m\u001b[3m \u001b[0m\u001b[3m \u001b[0m\u001b[3m \u001b[0m                                      │\n",
              "│  \u001b[1m       \u001b[0m \u001b[3m \u001b[0m\u001b[3m \u001b[0m\u001b[3m \u001b[0m\u001b[3mcontro i vili, i camorristi, i sicari, i falsari e gli austriacanti, nemici dell ...\u001b[0m\u001b[3m \u001b[0m\u001b[3m \u001b[0m\u001b[3m \u001b[0m                                      │\n",
              "│  \u001b[1m       \u001b[0m \u001b[3m \u001b[0m\u001b[3m \u001b[0m\u001b[3m \u001b[0m\u001b[3mcontro i vili, i camorristi, i sicari, i falsari e gli austriacanti, nemici dell ...\u001b[0m\u001b[3m \u001b[0m\u001b[3m \u001b[0m\u001b[3m \u001b[0m                                      │\n",
              "│  \u001b[1m       \u001b[0m \u001b[3m \u001b[0m\u001b[3m \u001b[0m\u001b[3m \u001b[0m\u001b[3mLA RAGIONA\u001b[0m\u001b[3m                                                                          \u001b[0m\u001b[3m \u001b[0m\u001b[3m \u001b[0m\u001b[3m \u001b[0m                                      │\n",
              "│  \u001b[1m       \u001b[0m \u001b[3m \u001b[0m\u001b[3m \u001b[0m\u001b[3m \u001b[0m\u001b[3mLA RAGIONE\u001b[0m\u001b[3m                                                                          \u001b[0m\u001b[3m \u001b[0m\u001b[3m \u001b[0m\u001b[3m \u001b[0m                                      │\n",
              "│  \u001b[1m       \u001b[0m \u001b[3m \u001b[0m\u001b[3m \u001b[0m\u001b[3m \u001b[0m\u001b[3mLA RAGIONE\u001b[0m\u001b[3m                                                                          \u001b[0m\u001b[3m \u001b[0m\u001b[3m \u001b[0m\u001b[3m \u001b[0m                                      │\n",
              "│  \u001b[1m       \u001b[0m \u001b[3m \u001b[0m\u001b[3m \u001b[0m\u001b[3m \u001b[0m\u001b[3mcontro i vili, i camorristi, i sicari, i falsari e gli austriacanti, nemici dell ...\u001b[0m\u001b[3m \u001b[0m\u001b[3m \u001b[0m\u001b[3m \u001b[0m                                      │\n",
              "│  \u001b[1m       \u001b[0m \u001b[3m \u001b[0m\u001b[3m \u001b[0m\u001b[3m \u001b[0m\u001b[3mLA RAG ONE\u001b[0m\u001b[3m                                                                          \u001b[0m\u001b[3m \u001b[0m\u001b[3m \u001b[0m\u001b[3m \u001b[0m                                      │\n",
              "│  \u001b[1m       \u001b[0m \u001b[3m \u001b[0m\u001b[3m \u001b[0m\u001b[3m \u001b[0m\u001b[3mcontro 1 vili, i camorristi, i sicari, i falsari e gli austriacanti, nemici dell ...\u001b[0m\u001b[3m \u001b[0m\u001b[3m \u001b[0m\u001b[3m \u001b[0m                                      │\n",
              "│  \u001b[1m       \u001b[0m \u001b[3m \u001b[0m\u001b[3m \u001b[0m\u001b[3m \u001b[0m\u001b[3m■■■\u001b[0m\u001b[3m                                                                                 \u001b[0m\u001b[3m \u001b[0m\u001b[3m \u001b[0m\u001b[3m \u001b[0m                                      │\n",
              "│  \u001b[1m       \u001b[0m \u001b[3m \u001b[0m\u001b[3m \u001b[0m\u001b[3m \u001b[0m\u001b[3mLa Rassegna\u001b[0m\u001b[3m                                                                         \u001b[0m\u001b[3m \u001b[0m\u001b[3m \u001b[0m\u001b[3m \u001b[0m                                      │\n",
              "│  \u001b[1m       \u001b[0m \u001b[3m \u001b[0m\u001b[3m \u001b[0m\u001b[3m \u001b[0m\u001b[3mBoth Phones\u001b[0m\u001b[3m                                                                         \u001b[0m\u001b[3m \u001b[0m\u001b[3m \u001b[0m\u001b[3m \u001b[0m                                      │\n",
              "│  \u001b[1m       \u001b[0m \u001b[3m \u001b[0m\u001b[3m \u001b[0m\u001b[3m \u001b[0m\u001b[3m■ jSrìt** W?? iIK 38®f- i^M\u001b[0m\u001b[3m                                                         \u001b[0m\u001b[3m \u001b[0m\u001b[3m \u001b[0m\u001b[3m \u001b[0m                                      │\n",
              "│  \u001b[1m       \u001b[0m \u001b[3m \u001b[0m\u001b[3m \u001b[0m\u001b[3m \u001b[0m\u001b[3m■Both Phones\u001b[0m\u001b[3m                                                                        \u001b[0m\u001b[3m \u001b[0m\u001b[3m \u001b[0m\u001b[3m \u001b[0m                                      │\n",
              "│  \u001b[1m       \u001b[0m \u001b[3m \u001b[0m\u001b[3m                                                                                        \u001b[0m\u001b[3m \u001b[0m                                      │\n",
              "│                                                                                                                                          │\n",
              "╰──────────────────────────────────────────────────────────────────────────────────────────────────────────────────────────────────────────╯\n"
            ]
          },
          "execution_count": 7,
          "metadata": {},
          "output_type": "execute_result"
        }
      ],
      "source": [
        "inputs = {\n",
        "    'table' : outputs['table'],\n",
        "    'column_name' : 'content'\n",
        "}\n",
        "\n",
        "outputs = kiara.run_job('table.pick.column', inputs=inputs)\n",
        "outputs"
      ]
    },
    {
      "attachments": {},
      "cell_type": "markdown",
      "metadata": {
        "id": "mrTXK3ko2Ajo"
      },
      "source": [
        "# **Natural Language Processing (Stage 1)**\n",
        "Now we are ready for preparing our texts for analysis, that would be stage 1. Let's see what operations are included in *kiara* for NLP in the `kiara_plugin.language_processing package`."
      ]
    },
    {
      "cell_type": "code",
      "execution_count": null,
      "metadata": {
        "colab": {
          "base_uri": "https://localhost:8080/"
        },
        "id": "cUFt_RVT2zDL",
        "outputId": "400d1c40-da66-4c2c-fb77-56cbe34298d5"
      },
      "outputs": [
        {
          "name": "stdout",
          "output_type": "stream",
          "text": [
            "dict_keys(['create.stopwords_list', 'generate.LDA.for.tokens_array', 'preprocess.tokens_array', 'tokenize.string', 'tokenize.texts_array'])\n"
          ]
        }
      ],
      "source": [
        "infos = metadata = kiara.retrieve_operations_info()\n",
        "operations = {}\n",
        "for op_id, info in infos.item_infos.items():\n",
        "    if info.context.labels.get(\"package\", None) == \"kiara_plugin.language_processing\":\n",
        "        operations[op_id] = info\n",
        "\n",
        "print(operations.keys())"
      ]
    },
    {
      "attachments": {},
      "cell_type": "markdown",
      "metadata": {
        "id": "5q_b84Me3CrN"
      },
      "source": [
        "Before performing any operation, we should start by tokenising our text. Tokenisation is a process that tells the machine at which level we want to perform our operations (e.g., character level, word level, sentence level). In other words, by tokenising we define the boundaries of the elements in our texts. \n",
        "\n",
        "If you're unsure about which ones of these operations you should run, you can refer to the in-built explanation in each *kiara* module or refer to this repository [here](https://github.com/DHARPA-Project/TopicModelling-) for further information about pros and cons of each pre-processing operation."
      ]
    },
    {
      "cell_type": "code",
      "execution_count": null,
      "metadata": {
        "colab": {
          "base_uri": "https://localhost:8080/",
          "height": 529
        },
        "id": "2cPRYa1z7bSd",
        "outputId": "23073a8e-98ce-4eb3-84c8-759be9877c19"
      },
      "outputs": [
        {
          "data": {
            "text/html": [
              "<pre style=\"white-space:pre;overflow-x:auto;line-height:normal;font-family:Menlo,'DejaVu Sans Mono',consolas,'Courier New',monospace\">                                                                                                                                            \n",
              " <span style=\"font-style: italic\">Author(s)        </span>                                                                                                                          \n",
              " <span style=\"font-style: italic\">                 </span>   Markus Binsteiner  <span style=\"font-style: italic\"> markus@frkl.io </span>                                                                                    \n",
              " <span style=\"font-style: italic\">                 </span>                                                                                                                          \n",
              " <span style=\"font-style: italic\">Context          </span>                                                                                                                          \n",
              " <span style=\"font-style: italic\">                 </span>  <span style=\"font-style: italic\"> Tags       </span>  language_processing, tokenize, tokens                                                                     \n",
              " <span style=\"font-style: italic\">                 </span>  <span style=\"font-style: italic\"> Labels     </span>  <span style=\"font-style: italic\">package</span>: kiara_plugin.language_processing                                                                 \n",
              " <span style=\"font-style: italic\">                 </span>  <span style=\"font-style: italic\"> References </span>  <span style=\"font-style: italic\">source_repo</span>: <a href=\"https://github.com/DHARPA-Project/kiara_plugin.language_processing\" target=\"_blank\">https://github.com/DHARPA-Project/kiara_plugin.language_processing</a>                           \n",
              " <span style=\"font-style: italic\">                 </span>  <span style=\"font-style: italic\">            </span>  <span style=\"font-style: italic\">documentation</span>: <a href=\"https://DHARPA-Project.github.io/kiara_plugin.language_processing/\" target=\"_blank\">https://DHARPA-Project.github.io/kiara_plugin.language_processing/</a>                         \n",
              " <span style=\"font-style: italic\">                 </span>                                                                                                                          \n",
              " <span style=\"font-style: italic\">Operation details</span>                                                                                                                          \n",
              " <span style=\"font-style: italic\">                 </span>  <span style=\"font-style: italic\"> Documentation </span>  Split sentences into words or words into characters.                                                   \n",
              " <span style=\"font-style: italic\">                 </span>  <span style=\"font-style: italic\">               </span>                                                                                                         \n",
              " <span style=\"font-style: italic\">                 </span>  <span style=\"font-style: italic\">               </span>  In other words, this operation establishes the word boundaries (i.e., tokens) a very helpful way of    \n",
              " <span style=\"font-style: italic\">                 </span>  <span style=\"font-style: italic\">               </span>  finding patterns. It is also the typical step prior to stemming and lemmatization                      \n",
              " <span style=\"font-style: italic\">                 </span>                                                                                                                          \n",
              " <span style=\"font-style: italic\">                 </span>  <span style=\"font-style: italic\"> Inputs        </span>                                                                                                         \n",
              " <span style=\"font-style: italic\">                 </span>  <span style=\"font-style: italic\">               </span>   <span style=\"font-weight: bold\"> field name       </span> <span style=\"font-weight: bold\"> type    </span> <span style=\"font-weight: bold\"> description                           </span> <span style=\"font-weight: bold\"> Required </span> <span style=\"font-weight: bold\"> Default          </span>    \n",
              " <span style=\"font-style: italic\">                 </span>  <span style=\"font-style: italic\">               </span>   ──────────────────────────────────────────────────────────────────────────────────────────────────    \n",
              " <span style=\"font-style: italic\">                 </span>  <span style=\"font-style: italic\">               </span>   <span style=\"font-style: italic\"> texts_array      </span>  array     An array of text items to be            <span style=\"font-weight: bold\">yes</span>        -- no default --     \n",
              " <span style=\"font-style: italic\">                 </span>  <span style=\"font-style: italic\">               </span>   <span style=\"font-style: italic\">                  </span>            tokenized.                                                              \n",
              " <span style=\"font-style: italic\">                 </span>  <span style=\"font-style: italic\">               </span>   <span style=\"font-style: italic\"> tokenize_by_word </span>  boolean   Whether to tokenize by word             no         True                 \n",
              " <span style=\"font-style: italic\">                 </span>  <span style=\"font-style: italic\">               </span>   <span style=\"font-style: italic\">                  </span>            (default), or character.                                                \n",
              " <span style=\"font-style: italic\">                 </span>  <span style=\"font-style: italic\">               </span>                                                                                                         \n",
              " <span style=\"font-style: italic\">                 </span>                                                                                                                          \n",
              " <span style=\"font-style: italic\">                 </span>  <span style=\"font-style: italic\"> Outputs       </span>                                                                                                         \n",
              " <span style=\"font-style: italic\">                 </span>  <span style=\"font-style: italic\">               </span>   <span style=\"font-weight: bold\"> field name   </span> <span style=\"font-weight: bold\"> type  </span> <span style=\"font-weight: bold\"> description                                                               </span>    \n",
              " <span style=\"font-style: italic\">                 </span>  <span style=\"font-style: italic\">               </span>   ──────────────────────────────────────────────────────────────────────────────────────────────────    \n",
              " <span style=\"font-style: italic\">                 </span>  <span style=\"font-style: italic\">               </span>   <span style=\"font-style: italic\"> tokens_array </span>  array   The tokenized content, as an array of lists of strings.                       \n",
              " <span style=\"font-style: italic\">                 </span>  <span style=\"font-style: italic\">               </span>                                                                                                         \n",
              " <span style=\"font-style: italic\">                 </span>                                                                                                                          \n",
              "                                                                                                                                            \n",
              "</pre>\n"
            ],
            "text/plain": [
              "                                                                                                                                            \n",
              " \u001b[3mAuthor(s)        \u001b[0m                                                                                                                          \n",
              " \u001b[3m                 \u001b[0m   Markus Binsteiner  \u001b[3m \u001b[0m\u001b[3mmarkus@frkl.io\u001b[0m\u001b[3m \u001b[0m                                                                                    \n",
              " \u001b[3m                 \u001b[0m                                                                                                                          \n",
              " \u001b[3mContext          \u001b[0m                                                                                                                          \n",
              " \u001b[3m                 \u001b[0m  \u001b[3m \u001b[0m\u001b[3mTags      \u001b[0m\u001b[3m \u001b[0m  language_processing, tokenize, tokens                                                                     \n",
              " \u001b[3m                 \u001b[0m  \u001b[3m \u001b[0m\u001b[3mLabels    \u001b[0m\u001b[3m \u001b[0m  \u001b[3mpackage\u001b[0m: kiara_plugin.language_processing                                                                 \n",
              " \u001b[3m                 \u001b[0m  \u001b[3m \u001b[0m\u001b[3mReferences\u001b[0m\u001b[3m \u001b[0m  \u001b[3msource_repo\u001b[0m: \u001b]8;id=45185;https://github.com/DHARPA-Project/kiara_plugin.language_processing\u001b\\https://github.com/DHARPA-Project/kiara_plugin.language_processing\u001b]8;;\u001b\\                           \n",
              " \u001b[3m                 \u001b[0m  \u001b[3m            \u001b[0m  \u001b[3mdocumentation\u001b[0m: \u001b]8;id=548421;https://DHARPA-Project.github.io/kiara_plugin.language_processing/\u001b\\https://DHARPA-Project.github.io/kiara_plugin.language_processing/\u001b]8;;\u001b\\                         \n",
              " \u001b[3m                 \u001b[0m                                                                                                                          \n",
              " \u001b[3mOperation details\u001b[0m                                                                                                                          \n",
              " \u001b[3m                 \u001b[0m  \u001b[3m \u001b[0m\u001b[3mDocumentation\u001b[0m\u001b[3m \u001b[0m  Split sentences into words or words into characters.                                                   \n",
              " \u001b[3m                 \u001b[0m  \u001b[3m               \u001b[0m                                                                                                         \n",
              " \u001b[3m                 \u001b[0m  \u001b[3m               \u001b[0m  In other words, this operation establishes the word boundaries (i.e., tokens) a very helpful way of    \n",
              " \u001b[3m                 \u001b[0m  \u001b[3m               \u001b[0m  finding patterns. It is also the typical step prior to stemming and lemmatization                      \n",
              " \u001b[3m                 \u001b[0m                                                                                                                          \n",
              " \u001b[3m                 \u001b[0m  \u001b[3m \u001b[0m\u001b[3mInputs       \u001b[0m\u001b[3m \u001b[0m                                                                                                         \n",
              " \u001b[3m                 \u001b[0m  \u001b[3m               \u001b[0m   \u001b[1m \u001b[0m\u001b[1mfield name      \u001b[0m\u001b[1m \u001b[0m \u001b[1m \u001b[0m\u001b[1mtype   \u001b[0m\u001b[1m \u001b[0m \u001b[1m \u001b[0m\u001b[1mdescription                          \u001b[0m\u001b[1m \u001b[0m \u001b[1m \u001b[0m\u001b[1mRequired\u001b[0m\u001b[1m \u001b[0m \u001b[1m \u001b[0m\u001b[1mDefault         \u001b[0m\u001b[1m \u001b[0m    \n",
              " \u001b[3m                 \u001b[0m  \u001b[3m               \u001b[0m   ──────────────────────────────────────────────────────────────────────────────────────────────────    \n",
              " \u001b[3m                 \u001b[0m  \u001b[3m               \u001b[0m   \u001b[3m \u001b[0m\u001b[3mtexts_array     \u001b[0m\u001b[3m \u001b[0m  array     An array of text items to be            \u001b[1myes\u001b[0m        -- no default --     \n",
              " \u001b[3m                 \u001b[0m  \u001b[3m               \u001b[0m   \u001b[3m                  \u001b[0m            tokenized.                                                              \n",
              " \u001b[3m                 \u001b[0m  \u001b[3m               \u001b[0m   \u001b[3m \u001b[0m\u001b[3mtokenize_by_word\u001b[0m\u001b[3m \u001b[0m  boolean   Whether to tokenize by word             no         True                 \n",
              " \u001b[3m                 \u001b[0m  \u001b[3m               \u001b[0m   \u001b[3m                  \u001b[0m            (default), or character.                                                \n",
              " \u001b[3m                 \u001b[0m  \u001b[3m               \u001b[0m                                                                                                         \n",
              " \u001b[3m                 \u001b[0m                                                                                                                          \n",
              " \u001b[3m                 \u001b[0m  \u001b[3m \u001b[0m\u001b[3mOutputs      \u001b[0m\u001b[3m \u001b[0m                                                                                                         \n",
              " \u001b[3m                 \u001b[0m  \u001b[3m               \u001b[0m   \u001b[1m \u001b[0m\u001b[1mfield name  \u001b[0m\u001b[1m \u001b[0m \u001b[1m \u001b[0m\u001b[1mtype \u001b[0m\u001b[1m \u001b[0m \u001b[1m \u001b[0m\u001b[1mdescription                                                              \u001b[0m\u001b[1m \u001b[0m    \n",
              " \u001b[3m                 \u001b[0m  \u001b[3m               \u001b[0m   ──────────────────────────────────────────────────────────────────────────────────────────────────    \n",
              " \u001b[3m                 \u001b[0m  \u001b[3m               \u001b[0m   \u001b[3m \u001b[0m\u001b[3mtokens_array\u001b[0m\u001b[3m \u001b[0m  array   The tokenized content, as an array of lists of strings.                       \n",
              " \u001b[3m                 \u001b[0m  \u001b[3m               \u001b[0m                                                                                                         \n",
              " \u001b[3m                 \u001b[0m                                                                                                                          \n",
              "                                                                                                                                            \n"
            ]
          },
          "execution_count": 23,
          "metadata": {},
          "output_type": "execute_result"
        }
      ],
      "source": [
        "kiara.retrieve_operation_info('tokenize.texts_array')"
      ]
    },
    {
      "attachments": {},
      "cell_type": "markdown",
      "metadata": {
        "id": "-C0gpNN3TvAM"
      },
      "source": [
        "As we will later perform topic modelling, let's tokenise our texts at word level."
      ]
    },
    {
      "cell_type": "code",
      "execution_count": null,
      "metadata": {
        "colab": {
          "base_uri": "https://localhost:8080/",
          "height": 401
        },
        "id": "FWweF-G6TeLN",
        "outputId": "0a49c5a7-0179-41c5-a9e6-755696dd564c"
      },
      "outputs": [
        {
          "data": {
            "text/html": [
              "<pre style=\"white-space:pre;overflow-x:auto;line-height:normal;font-family:Menlo,'DejaVu Sans Mono',consolas,'Courier New',monospace\">╭──────────────────────────────────────────────────────────────────────────────────────────────────────────────────────────────────────────╮\n",
              "│                                                                                                                                          │\n",
              "│  <span style=\"font-weight: bold\"> field        </span> <span style=\"font-weight: bold\"> value                                                                                    </span>                               │\n",
              "│  ─────────────────────────────────────────────────────────────────────────────────────────────────────────                               │\n",
              "│  <span style=\"font-weight: bold\"> tokens_array </span> <span style=\"font-style: italic\">                                                                                          </span>                               │\n",
              "│  <span style=\"font-weight: bold\">              </span> <span style=\"font-style: italic\">   ['LA', 'RAGIONE', 'ORGANO', 'DI', 'DIFESA', 'DELLA', \"ITALIANITÀ'\", 'contro', '1 ...   </span>                               │\n",
              "│  <span style=\"font-weight: bold\">              </span> <span style=\"font-style: italic\">   ['LA', 'RAG', 'ONE', 'contro', 'i', 'vili', ',', 'i', 'camorristi', ',', 'i', 's ...   </span>                               │\n",
              "│  <span style=\"font-weight: bold\">              </span> <span style=\"font-style: italic\">   ['LA', 'RAGIONE', 'ORGANO', 'DI', 'DIFESA', 'DELLA', 'ITALIANITÀ', 'contro', 'i' ...   </span>                               │\n",
              "│  <span style=\"font-weight: bold\">              </span> <span style=\"font-style: italic\">   ['contro', 'i', 'vili', ',', 'i', 'camorristi', ',', 'i', 'sicari', ',', 'i', 'f ...   </span>                               │\n",
              "│  <span style=\"font-weight: bold\">              </span> <span style=\"font-style: italic\">   ['contro', 'i', 'vili', ',', 'i', 'camorristi', ',', 'i', 'sicari', ',', 'i', 'f ...   </span>                               │\n",
              "│  <span style=\"font-weight: bold\">              </span> <span style=\"font-style: italic\">   ['LA', 'RAGIONA', 'ORGANO', 'DI', 'DIFESA', 'DELLA', 'ITALIANITÀ', 'contro', 'i' ...   </span>                               │\n",
              "│  <span style=\"font-weight: bold\">              </span> <span style=\"font-style: italic\">   ['LA', 'RAGIONE', 'ORGANO', 'DI', 'DIFESA', 'DELLA', \"ITALIANITÀ'\", 'contro', 'i ...   </span>                               │\n",
              "│  <span style=\"font-weight: bold\">              </span> <span style=\"font-style: italic\">   ['LA', 'RAGIONE', 'contro', 'i', 'vili', ',', '1', 'camorristi', ',', 'i', 'sica ...   </span>                               │\n",
              "│  <span style=\"font-weight: bold\">              </span> <span style=\"font-style: italic\">   ['contro', 'i', 'vili', ',', 'i', 'camorristi', ',', 'i', 'sicari', ',', 'i', 'f ...   </span>                               │\n",
              "│  <span style=\"font-weight: bold\">              </span> <span style=\"font-style: italic\">   ['LA', 'RAG', 'ONE', 'ORGANO', 'DI', 'DIFESA', 'DELLA', 'ITALIANITÀ', \"''\", 'con ...   </span>                               │\n",
              "│  <span style=\"font-weight: bold\">              </span> <span style=\"font-style: italic\">   ['contro', '1', 'vili', ',', 'i', 'camorristi', ',', 'i', 'sicari', ',', 'i', 'f ...   </span>                               │\n",
              "│  <span style=\"font-weight: bold\">              </span> <span style=\"font-style: italic\">   ['■■■', 'La', 'Rassegna', '_', 'I', 'Both', 'Phones', 'ANNO', 'L', 'No', '.', '1 ...   </span>                               │\n",
              "│  <span style=\"font-weight: bold\">              </span> <span style=\"font-style: italic\">   ['La', 'Rassegna', 'Jjoth', 'Phones', 'ANNO', 'L', 'No', '.', '2', 'BASTA', '!', ...   </span>                               │\n",
              "│  <span style=\"font-weight: bold\">              </span> <span style=\"font-style: italic\">   ['Both', 'Phones', 'ANNO', 'I', '.', 'No', '.', '2', 'BASTA', '!', '...', 'uà',  ...   </span>                               │\n",
              "│  <span style=\"font-weight: bold\">              </span> <span style=\"font-style: italic\">   ['■', 'jSrìt', '*', '*', 'W', '?', '?', 'iIK', '38®f-', 'i^M', 'F', '&lt;', '5É', ' ...   </span>                               │\n",
              "│  <span style=\"font-weight: bold\">              </span> <span style=\"font-style: italic\">   ['■Both', 'Phones', 'ANNO', '11', '.', 'No', '.', '5', 'LE', 'COSE', 'A', 'POSTO ...   </span>                               │\n",
              "│  <span style=\"font-weight: bold\">              </span> <span style=\"font-style: italic\">                                                                                          </span>                               │\n",
              "│                                                                                                                                          │\n",
              "╰──────────────────────────────────────────────────────────────────────────────────────────────────────────────────────────────────────────╯\n",
              "</pre>\n"
            ],
            "text/plain": [
              "╭──────────────────────────────────────────────────────────────────────────────────────────────────────────────────────────────────────────╮\n",
              "│                                                                                                                                          │\n",
              "│  \u001b[1m \u001b[0m\u001b[1mfield       \u001b[0m\u001b[1m \u001b[0m \u001b[1m \u001b[0m\u001b[1mvalue                                                                                   \u001b[0m\u001b[1m \u001b[0m                               │\n",
              "│  ─────────────────────────────────────────────────────────────────────────────────────────────────────────                               │\n",
              "│  \u001b[1m \u001b[0m\u001b[1mtokens_array\u001b[0m\u001b[1m \u001b[0m \u001b[3m \u001b[0m\u001b[3m                                                                                        \u001b[0m\u001b[3m \u001b[0m                               │\n",
              "│  \u001b[1m              \u001b[0m \u001b[3m \u001b[0m\u001b[3m \u001b[0m\u001b[3m \u001b[0m\u001b[3m['LA', 'RAGIONE', 'ORGANO', 'DI', 'DIFESA', 'DELLA', \"ITALIANITÀ'\", 'contro', '1 ...\u001b[0m\u001b[3m \u001b[0m\u001b[3m \u001b[0m\u001b[3m \u001b[0m                               │\n",
              "│  \u001b[1m              \u001b[0m \u001b[3m \u001b[0m\u001b[3m \u001b[0m\u001b[3m \u001b[0m\u001b[3m['LA', 'RAG', 'ONE', 'contro', 'i', 'vili', ',', 'i', 'camorristi', ',', 'i', 's ...\u001b[0m\u001b[3m \u001b[0m\u001b[3m \u001b[0m\u001b[3m \u001b[0m                               │\n",
              "│  \u001b[1m              \u001b[0m \u001b[3m \u001b[0m\u001b[3m \u001b[0m\u001b[3m \u001b[0m\u001b[3m['LA', 'RAGIONE', 'ORGANO', 'DI', 'DIFESA', 'DELLA', 'ITALIANITÀ', 'contro', 'i' ...\u001b[0m\u001b[3m \u001b[0m\u001b[3m \u001b[0m\u001b[3m \u001b[0m                               │\n",
              "│  \u001b[1m              \u001b[0m \u001b[3m \u001b[0m\u001b[3m \u001b[0m\u001b[3m \u001b[0m\u001b[3m['contro', 'i', 'vili', ',', 'i', 'camorristi', ',', 'i', 'sicari', ',', 'i', 'f ...\u001b[0m\u001b[3m \u001b[0m\u001b[3m \u001b[0m\u001b[3m \u001b[0m                               │\n",
              "│  \u001b[1m              \u001b[0m \u001b[3m \u001b[0m\u001b[3m \u001b[0m\u001b[3m \u001b[0m\u001b[3m['contro', 'i', 'vili', ',', 'i', 'camorristi', ',', 'i', 'sicari', ',', 'i', 'f ...\u001b[0m\u001b[3m \u001b[0m\u001b[3m \u001b[0m\u001b[3m \u001b[0m                               │\n",
              "│  \u001b[1m              \u001b[0m \u001b[3m \u001b[0m\u001b[3m \u001b[0m\u001b[3m \u001b[0m\u001b[3m['LA', 'RAGIONA', 'ORGANO', 'DI', 'DIFESA', 'DELLA', 'ITALIANITÀ', 'contro', 'i' ...\u001b[0m\u001b[3m \u001b[0m\u001b[3m \u001b[0m\u001b[3m \u001b[0m                               │\n",
              "│  \u001b[1m              \u001b[0m \u001b[3m \u001b[0m\u001b[3m \u001b[0m\u001b[3m \u001b[0m\u001b[3m['LA', 'RAGIONE', 'ORGANO', 'DI', 'DIFESA', 'DELLA', \"ITALIANITÀ'\", 'contro', 'i ...\u001b[0m\u001b[3m \u001b[0m\u001b[3m \u001b[0m\u001b[3m \u001b[0m                               │\n",
              "│  \u001b[1m              \u001b[0m \u001b[3m \u001b[0m\u001b[3m \u001b[0m\u001b[3m \u001b[0m\u001b[3m['LA', 'RAGIONE', 'contro', 'i', 'vili', ',', '1', 'camorristi', ',', 'i', 'sica ...\u001b[0m\u001b[3m \u001b[0m\u001b[3m \u001b[0m\u001b[3m \u001b[0m                               │\n",
              "│  \u001b[1m              \u001b[0m \u001b[3m \u001b[0m\u001b[3m \u001b[0m\u001b[3m \u001b[0m\u001b[3m['contro', 'i', 'vili', ',', 'i', 'camorristi', ',', 'i', 'sicari', ',', 'i', 'f ...\u001b[0m\u001b[3m \u001b[0m\u001b[3m \u001b[0m\u001b[3m \u001b[0m                               │\n",
              "│  \u001b[1m              \u001b[0m \u001b[3m \u001b[0m\u001b[3m \u001b[0m\u001b[3m \u001b[0m\u001b[3m['LA', 'RAG', 'ONE', 'ORGANO', 'DI', 'DIFESA', 'DELLA', 'ITALIANITÀ', \"''\", 'con ...\u001b[0m\u001b[3m \u001b[0m\u001b[3m \u001b[0m\u001b[3m \u001b[0m                               │\n",
              "│  \u001b[1m              \u001b[0m \u001b[3m \u001b[0m\u001b[3m \u001b[0m\u001b[3m \u001b[0m\u001b[3m['contro', '1', 'vili', ',', 'i', 'camorristi', ',', 'i', 'sicari', ',', 'i', 'f ...\u001b[0m\u001b[3m \u001b[0m\u001b[3m \u001b[0m\u001b[3m \u001b[0m                               │\n",
              "│  \u001b[1m              \u001b[0m \u001b[3m \u001b[0m\u001b[3m \u001b[0m\u001b[3m \u001b[0m\u001b[3m['■■■', 'La', 'Rassegna', '_', 'I', 'Both', 'Phones', 'ANNO', 'L', 'No', '.', '1 ...\u001b[0m\u001b[3m \u001b[0m\u001b[3m \u001b[0m\u001b[3m \u001b[0m                               │\n",
              "│  \u001b[1m              \u001b[0m \u001b[3m \u001b[0m\u001b[3m \u001b[0m\u001b[3m \u001b[0m\u001b[3m['La', 'Rassegna', 'Jjoth', 'Phones', 'ANNO', 'L', 'No', '.', '2', 'BASTA', '!', ...\u001b[0m\u001b[3m \u001b[0m\u001b[3m \u001b[0m\u001b[3m \u001b[0m                               │\n",
              "│  \u001b[1m              \u001b[0m \u001b[3m \u001b[0m\u001b[3m \u001b[0m\u001b[3m \u001b[0m\u001b[3m['Both', 'Phones', 'ANNO', 'I', '.', 'No', '.', '2', 'BASTA', '!', '...', 'uà',  ...\u001b[0m\u001b[3m \u001b[0m\u001b[3m \u001b[0m\u001b[3m \u001b[0m                               │\n",
              "│  \u001b[1m              \u001b[0m \u001b[3m \u001b[0m\u001b[3m \u001b[0m\u001b[3m \u001b[0m\u001b[3m['■', 'jSrìt', '*', '*', 'W', '?', '?', 'iIK', '38®f-', 'i^M', 'F', '<', '5É', ' ...\u001b[0m\u001b[3m \u001b[0m\u001b[3m \u001b[0m\u001b[3m \u001b[0m                               │\n",
              "│  \u001b[1m              \u001b[0m \u001b[3m \u001b[0m\u001b[3m \u001b[0m\u001b[3m \u001b[0m\u001b[3m['■Both', 'Phones', 'ANNO', '11', '.', 'No', '.', '5', 'LE', 'COSE', 'A', 'POSTO ...\u001b[0m\u001b[3m \u001b[0m\u001b[3m \u001b[0m\u001b[3m \u001b[0m                               │\n",
              "│  \u001b[1m              \u001b[0m \u001b[3m \u001b[0m\u001b[3m                                                                                        \u001b[0m\u001b[3m \u001b[0m                               │\n",
              "│                                                                                                                                          │\n",
              "╰──────────────────────────────────────────────────────────────────────────────────────────────────────────────────────────────────────────╯\n"
            ]
          },
          "execution_count": 9,
          "metadata": {},
          "output_type": "execute_result"
        }
      ],
      "source": [
        "inputs = {\n",
        "    'texts_array': outputs['array']\n",
        "}\n",
        "\n",
        "outputs = kiara.run_job('tokenize.texts_array', inputs=inputs)\n",
        "outputs"
      ]
    },
    {
      "attachments": {},
      "cell_type": "markdown",
      "metadata": {
        "id": "ZUmnutuNUfdj"
      },
      "source": [
        "Now that the text of our files is tokenised, we can experiment with different pre-processing operations. Again, we can use the `kiara.retrieve_operation_info` to explore what *kiara* can do."
      ]
    },
    {
      "cell_type": "code",
      "execution_count": null,
      "metadata": {
        "colab": {
          "base_uri": "https://localhost:8080/",
          "height": 945
        },
        "id": "6gd_sNu_VY68",
        "outputId": "8c528b70-94a2-4f6a-e048-dac2fe40b8de"
      },
      "outputs": [
        {
          "data": {
            "text/html": [
              "<pre style=\"white-space:pre;overflow-x:auto;line-height:normal;font-family:Menlo,'DejaVu Sans Mono',consolas,'Courier New',monospace\">                                                                                                                                            \n",
              " <span style=\"font-style: italic\">Author(s)        </span>                                                                                                                          \n",
              " <span style=\"font-style: italic\">                 </span>   Markus Binsteiner  <span style=\"font-style: italic\"> markus@frkl.io </span>                                                                                    \n",
              " <span style=\"font-style: italic\">                 </span>                                                                                                                          \n",
              " <span style=\"font-style: italic\">Context          </span>                                                                                                                          \n",
              " <span style=\"font-style: italic\">                 </span>  <span style=\"font-style: italic\"> Tags       </span>  language_processing, tokens, preprocess                                                                   \n",
              " <span style=\"font-style: italic\">                 </span>  <span style=\"font-style: italic\"> Labels     </span>  <span style=\"font-style: italic\">package</span>: kiara_plugin.language_processing                                                                 \n",
              " <span style=\"font-style: italic\">                 </span>  <span style=\"font-style: italic\"> References </span>  <span style=\"font-style: italic\">source_repo</span>: <a href=\"https://github.com/DHARPA-Project/kiara_plugin.language_processing\" target=\"_blank\">https://github.com/DHARPA-Project/kiara_plugin.language_processing</a>                           \n",
              " <span style=\"font-style: italic\">                 </span>  <span style=\"font-style: italic\">            </span>  <span style=\"font-style: italic\">documentation</span>: <a href=\"https://DHARPA-Project.github.io/kiara_plugin.language_processing/\" target=\"_blank\">https://DHARPA-Project.github.io/kiara_plugin.language_processing/</a>                         \n",
              " <span style=\"font-style: italic\">                 </span>                                                                                                                          \n",
              " <span style=\"font-style: italic\">Operation details</span>                                                                                                                          \n",
              " <span style=\"font-style: italic\">                 </span>  <span style=\"font-style: italic\"> Documentation </span>  Preprocess lists of tokens, incl. lowercasing, remove special characers, etc.                          \n",
              " <span style=\"font-style: italic\">                 </span>  <span style=\"font-style: italic\">               </span>                                                                                                         \n",
              " <span style=\"font-style: italic\">                 </span>  <span style=\"font-style: italic\">               </span>  Lowercasing: Lowercase the words. This operation is a double-edged sword. It can be effective at       \n",
              " <span style=\"font-style: italic\">                 </span>  <span style=\"font-style: italic\">               </span>  yielding potentially better results in the case of relatively small datasets or datatsets with a       \n",
              " <span style=\"font-style: italic\">                 </span>  <span style=\"font-style: italic\">               </span>  high percentage of OCR mistakes. For instance, if lowercasing is not performed, the algorithm will     \n",
              " <span style=\"font-style: italic\">                 </span>  <span style=\"font-style: italic\">               </span>  treat USA, Usa, usa, UsA, uSA, etc. as distinct tokens, even though they may all refer to the same     \n",
              " <span style=\"font-style: italic\">                 </span>  <span style=\"font-style: italic\">               </span>  entity. On the other hand, if the dataset does not contain such OCR mistakes, then it may become       \n",
              " <span style=\"font-style: italic\">                 </span>  <span style=\"font-style: italic\">               </span>  difficult to distinguish between homonyms and make interpreting the topics much harder.                \n",
              " <span style=\"font-style: italic\">                 </span>  <span style=\"font-style: italic\">               </span>                                                                                                         \n",
              " <span style=\"font-style: italic\">                 </span>  <span style=\"font-style: italic\">               </span>  Removing stopwords and words with less than three characters: Remove low information words. These      \n",
              " <span style=\"font-style: italic\">                 </span>  <span style=\"font-style: italic\">               </span>  are typically words such as articles, pronouns, prepositions, conjunctions, etc. which are not         \n",
              " <span style=\"font-style: italic\">                 </span>  <span style=\"font-style: italic\">               </span>  semantically salient. There are numerous stopword lists available for many, though not all,            \n",
              " <span style=\"font-style: italic\">                 </span>  <span style=\"font-style: italic\">               </span>  languages which can be easily adapted to the individual researcher's needs. Removing words with less   \n",
              " <span style=\"font-style: italic\">                 </span>  <span style=\"font-style: italic\">               </span>  than three characters may additionally remove many OCR mistakes. Both these operations have the dual   \n",
              " <span style=\"font-style: italic\">                 </span>  <span style=\"font-style: italic\">               </span>  advantage of yielding more reliable results while reducing the size of the dataset, thus in turn       \n",
              " <span style=\"font-style: italic\">                 </span>  <span style=\"font-style: italic\">               </span>  reducing the required processing power. This step can therefore hardly be considered optional in TM.   \n",
              " <span style=\"font-style: italic\">                 </span>  <span style=\"font-style: italic\">               </span>                                                                                                         \n",
              " <span style=\"font-style: italic\">                 </span>  <span style=\"font-style: italic\">               </span>  Noise removal: Remove elements such as punctuation marks, special characters, numbers, html            \n",
              " <span style=\"font-style: italic\">                 </span>  <span style=\"font-style: italic\">               </span>  formatting, etc. This operation is again concerned with removing elements that may not be relevant     \n",
              " <span style=\"font-style: italic\">                 </span>  <span style=\"font-style: italic\">               </span>  to the text analysis and in fact interfere with it. Depending on the dataset and research question,    \n",
              " <span style=\"font-style: italic\">                 </span>  <span style=\"font-style: italic\">               </span>  this operation can become essential.                                                                   \n",
              " <span style=\"font-style: italic\">                 </span>                                                                                                                          \n",
              " <span style=\"font-style: italic\">                 </span>  <span style=\"font-style: italic\"> Inputs        </span>                                                                                                         \n",
              " <span style=\"font-style: italic\">                 </span>  <span style=\"font-style: italic\">               </span>   <span style=\"font-weight: bold\"> field name          </span> <span style=\"font-weight: bold\"> type    </span> <span style=\"font-weight: bold\"> description                        </span> <span style=\"font-weight: bold\"> Required </span> <span style=\"font-weight: bold\"> Default          </span>    \n",
              " <span style=\"font-style: italic\">                 </span>  <span style=\"font-style: italic\">               </span>   ──────────────────────────────────────────────────────────────────────────────────────────────────    \n",
              " <span style=\"font-style: italic\">                 </span>  <span style=\"font-style: italic\">               </span>   <span style=\"font-style: italic\"> tokens_array        </span>  array     The tokens array to pre-process.     <span style=\"font-weight: bold\">yes</span>        -- no default --     \n",
              " <span style=\"font-style: italic\">                 </span>  <span style=\"font-style: italic\">               </span>   <span style=\"font-style: italic\"> to_lowercase        </span>  boolean   Apply lowercasing to the text.       no         False                \n",
              " <span style=\"font-style: italic\">                 </span>  <span style=\"font-style: italic\">               </span>   <span style=\"font-style: italic\"> remove_alphanumeric </span>  boolean   Remove all tokens that include       no         False                \n",
              " <span style=\"font-style: italic\">                 </span>  <span style=\"font-style: italic\">               </span>   <span style=\"font-style: italic\">                     </span>            numbers (e.g. ex1ample).                                             \n",
              " <span style=\"font-style: italic\">                 </span>  <span style=\"font-style: italic\">               </span>   <span style=\"font-style: italic\"> remove_non_alpha    </span>  boolean   Remove all tokens that include       no         False                \n",
              " <span style=\"font-style: italic\">                 </span>  <span style=\"font-style: italic\">               </span>   <span style=\"font-style: italic\">                     </span>            punctuation and numbers (e.g.                                        \n",
              " <span style=\"font-style: italic\">                 </span>  <span style=\"font-style: italic\">               </span>   <span style=\"font-style: italic\">                     </span>            ex1a.mple).                                                          \n",
              " <span style=\"font-style: italic\">                 </span>  <span style=\"font-style: italic\">               </span>   <span style=\"font-style: italic\"> remove_all_numeric  </span>  boolean   Remove all tokens that contain       no         False                \n",
              " <span style=\"font-style: italic\">                 </span>  <span style=\"font-style: italic\">               </span>   <span style=\"font-style: italic\">                     </span>            numbers only (e.g. 876).                                             \n",
              " <span style=\"font-style: italic\">                 </span>  <span style=\"font-style: italic\">               </span>   <span style=\"font-style: italic\"> remove_short_tokens </span>  integer   Remove tokens shorter or equal to    no         0                    \n",
              " <span style=\"font-style: italic\">                 </span>  <span style=\"font-style: italic\">               </span>   <span style=\"font-style: italic\">                     </span>            this value. If value is &lt;= 0, no                                     \n",
              " <span style=\"font-style: italic\">                 </span>  <span style=\"font-style: italic\">               </span>   <span style=\"font-style: italic\">                     </span>            filtering will be done.                                              \n",
              " <span style=\"font-style: italic\">                 </span>  <span style=\"font-style: italic\">               </span>   <span style=\"font-style: italic\"> remove_stopwords    </span>  list      Remove stopwords.                    no         -- no default --     \n",
              " <span style=\"font-style: italic\">                 </span>  <span style=\"font-style: italic\">               </span>                                                                                                         \n",
              " <span style=\"font-style: italic\">                 </span>                                                                                                                          \n",
              " <span style=\"font-style: italic\">                 </span>  <span style=\"font-style: italic\"> Outputs       </span>                                                                                                         \n",
              " <span style=\"font-style: italic\">                 </span>  <span style=\"font-style: italic\">               </span>   <span style=\"font-weight: bold\"> field name   </span> <span style=\"font-weight: bold\"> type  </span> <span style=\"font-weight: bold\"> description                                                               </span>    \n",
              " <span style=\"font-style: italic\">                 </span>  <span style=\"font-style: italic\">               </span>   ──────────────────────────────────────────────────────────────────────────────────────────────────    \n",
              " <span style=\"font-style: italic\">                 </span>  <span style=\"font-style: italic\">               </span>   <span style=\"font-style: italic\"> tokens_array </span>  array   The pre-processed content, as an array of lists of strings.                   \n",
              " <span style=\"font-style: italic\">                 </span>  <span style=\"font-style: italic\">               </span>                                                                                                         \n",
              " <span style=\"font-style: italic\">                 </span>                                                                                                                          \n",
              "                                                                                                                                            \n",
              "</pre>\n"
            ],
            "text/plain": [
              "                                                                                                                                            \n",
              " \u001b[3mAuthor(s)        \u001b[0m                                                                                                                          \n",
              " \u001b[3m                 \u001b[0m   Markus Binsteiner  \u001b[3m \u001b[0m\u001b[3mmarkus@frkl.io\u001b[0m\u001b[3m \u001b[0m                                                                                    \n",
              " \u001b[3m                 \u001b[0m                                                                                                                          \n",
              " \u001b[3mContext          \u001b[0m                                                                                                                          \n",
              " \u001b[3m                 \u001b[0m  \u001b[3m \u001b[0m\u001b[3mTags      \u001b[0m\u001b[3m \u001b[0m  language_processing, tokens, preprocess                                                                   \n",
              " \u001b[3m                 \u001b[0m  \u001b[3m \u001b[0m\u001b[3mLabels    \u001b[0m\u001b[3m \u001b[0m  \u001b[3mpackage\u001b[0m: kiara_plugin.language_processing                                                                 \n",
              " \u001b[3m                 \u001b[0m  \u001b[3m \u001b[0m\u001b[3mReferences\u001b[0m\u001b[3m \u001b[0m  \u001b[3msource_repo\u001b[0m: \u001b]8;id=375581;https://github.com/DHARPA-Project/kiara_plugin.language_processing\u001b\\https://github.com/DHARPA-Project/kiara_plugin.language_processing\u001b]8;;\u001b\\                           \n",
              " \u001b[3m                 \u001b[0m  \u001b[3m            \u001b[0m  \u001b[3mdocumentation\u001b[0m: \u001b]8;id=26161;https://DHARPA-Project.github.io/kiara_plugin.language_processing/\u001b\\https://DHARPA-Project.github.io/kiara_plugin.language_processing/\u001b]8;;\u001b\\                         \n",
              " \u001b[3m                 \u001b[0m                                                                                                                          \n",
              " \u001b[3mOperation details\u001b[0m                                                                                                                          \n",
              " \u001b[3m                 \u001b[0m  \u001b[3m \u001b[0m\u001b[3mDocumentation\u001b[0m\u001b[3m \u001b[0m  Preprocess lists of tokens, incl. lowercasing, remove special characers, etc.                          \n",
              " \u001b[3m                 \u001b[0m  \u001b[3m               \u001b[0m                                                                                                         \n",
              " \u001b[3m                 \u001b[0m  \u001b[3m               \u001b[0m  Lowercasing: Lowercase the words. This operation is a double-edged sword. It can be effective at       \n",
              " \u001b[3m                 \u001b[0m  \u001b[3m               \u001b[0m  yielding potentially better results in the case of relatively small datasets or datatsets with a       \n",
              " \u001b[3m                 \u001b[0m  \u001b[3m               \u001b[0m  high percentage of OCR mistakes. For instance, if lowercasing is not performed, the algorithm will     \n",
              " \u001b[3m                 \u001b[0m  \u001b[3m               \u001b[0m  treat USA, Usa, usa, UsA, uSA, etc. as distinct tokens, even though they may all refer to the same     \n",
              " \u001b[3m                 \u001b[0m  \u001b[3m               \u001b[0m  entity. On the other hand, if the dataset does not contain such OCR mistakes, then it may become       \n",
              " \u001b[3m                 \u001b[0m  \u001b[3m               \u001b[0m  difficult to distinguish between homonyms and make interpreting the topics much harder.                \n",
              " \u001b[3m                 \u001b[0m  \u001b[3m               \u001b[0m                                                                                                         \n",
              " \u001b[3m                 \u001b[0m  \u001b[3m               \u001b[0m  Removing stopwords and words with less than three characters: Remove low information words. These      \n",
              " \u001b[3m                 \u001b[0m  \u001b[3m               \u001b[0m  are typically words such as articles, pronouns, prepositions, conjunctions, etc. which are not         \n",
              " \u001b[3m                 \u001b[0m  \u001b[3m               \u001b[0m  semantically salient. There are numerous stopword lists available for many, though not all,            \n",
              " \u001b[3m                 \u001b[0m  \u001b[3m               \u001b[0m  languages which can be easily adapted to the individual researcher's needs. Removing words with less   \n",
              " \u001b[3m                 \u001b[0m  \u001b[3m               \u001b[0m  than three characters may additionally remove many OCR mistakes. Both these operations have the dual   \n",
              " \u001b[3m                 \u001b[0m  \u001b[3m               \u001b[0m  advantage of yielding more reliable results while reducing the size of the dataset, thus in turn       \n",
              " \u001b[3m                 \u001b[0m  \u001b[3m               \u001b[0m  reducing the required processing power. This step can therefore hardly be considered optional in TM.   \n",
              " \u001b[3m                 \u001b[0m  \u001b[3m               \u001b[0m                                                                                                         \n",
              " \u001b[3m                 \u001b[0m  \u001b[3m               \u001b[0m  Noise removal: Remove elements such as punctuation marks, special characters, numbers, html            \n",
              " \u001b[3m                 \u001b[0m  \u001b[3m               \u001b[0m  formatting, etc. This operation is again concerned with removing elements that may not be relevant     \n",
              " \u001b[3m                 \u001b[0m  \u001b[3m               \u001b[0m  to the text analysis and in fact interfere with it. Depending on the dataset and research question,    \n",
              " \u001b[3m                 \u001b[0m  \u001b[3m               \u001b[0m  this operation can become essential.                                                                   \n",
              " \u001b[3m                 \u001b[0m                                                                                                                          \n",
              " \u001b[3m                 \u001b[0m  \u001b[3m \u001b[0m\u001b[3mInputs       \u001b[0m\u001b[3m \u001b[0m                                                                                                         \n",
              " \u001b[3m                 \u001b[0m  \u001b[3m               \u001b[0m   \u001b[1m \u001b[0m\u001b[1mfield name         \u001b[0m\u001b[1m \u001b[0m \u001b[1m \u001b[0m\u001b[1mtype   \u001b[0m\u001b[1m \u001b[0m \u001b[1m \u001b[0m\u001b[1mdescription                       \u001b[0m\u001b[1m \u001b[0m \u001b[1m \u001b[0m\u001b[1mRequired\u001b[0m\u001b[1m \u001b[0m \u001b[1m \u001b[0m\u001b[1mDefault         \u001b[0m\u001b[1m \u001b[0m    \n",
              " \u001b[3m                 \u001b[0m  \u001b[3m               \u001b[0m   ──────────────────────────────────────────────────────────────────────────────────────────────────    \n",
              " \u001b[3m                 \u001b[0m  \u001b[3m               \u001b[0m   \u001b[3m \u001b[0m\u001b[3mtokens_array       \u001b[0m\u001b[3m \u001b[0m  array     The tokens array to pre-process.     \u001b[1myes\u001b[0m        -- no default --     \n",
              " \u001b[3m                 \u001b[0m  \u001b[3m               \u001b[0m   \u001b[3m \u001b[0m\u001b[3mto_lowercase       \u001b[0m\u001b[3m \u001b[0m  boolean   Apply lowercasing to the text.       no         False                \n",
              " \u001b[3m                 \u001b[0m  \u001b[3m               \u001b[0m   \u001b[3m \u001b[0m\u001b[3mremove_alphanumeric\u001b[0m\u001b[3m \u001b[0m  boolean   Remove all tokens that include       no         False                \n",
              " \u001b[3m                 \u001b[0m  \u001b[3m               \u001b[0m   \u001b[3m                     \u001b[0m            numbers (e.g. ex1ample).                                             \n",
              " \u001b[3m                 \u001b[0m  \u001b[3m               \u001b[0m   \u001b[3m \u001b[0m\u001b[3mremove_non_alpha   \u001b[0m\u001b[3m \u001b[0m  boolean   Remove all tokens that include       no         False                \n",
              " \u001b[3m                 \u001b[0m  \u001b[3m               \u001b[0m   \u001b[3m                     \u001b[0m            punctuation and numbers (e.g.                                        \n",
              " \u001b[3m                 \u001b[0m  \u001b[3m               \u001b[0m   \u001b[3m                     \u001b[0m            ex1a.mple).                                                          \n",
              " \u001b[3m                 \u001b[0m  \u001b[3m               \u001b[0m   \u001b[3m \u001b[0m\u001b[3mremove_all_numeric \u001b[0m\u001b[3m \u001b[0m  boolean   Remove all tokens that contain       no         False                \n",
              " \u001b[3m                 \u001b[0m  \u001b[3m               \u001b[0m   \u001b[3m                     \u001b[0m            numbers only (e.g. 876).                                             \n",
              " \u001b[3m                 \u001b[0m  \u001b[3m               \u001b[0m   \u001b[3m \u001b[0m\u001b[3mremove_short_tokens\u001b[0m\u001b[3m \u001b[0m  integer   Remove tokens shorter or equal to    no         0                    \n",
              " \u001b[3m                 \u001b[0m  \u001b[3m               \u001b[0m   \u001b[3m                     \u001b[0m            this value. If value is <= 0, no                                     \n",
              " \u001b[3m                 \u001b[0m  \u001b[3m               \u001b[0m   \u001b[3m                     \u001b[0m            filtering will be done.                                              \n",
              " \u001b[3m                 \u001b[0m  \u001b[3m               \u001b[0m   \u001b[3m \u001b[0m\u001b[3mremove_stopwords   \u001b[0m\u001b[3m \u001b[0m  list      Remove stopwords.                    no         -- no default --     \n",
              " \u001b[3m                 \u001b[0m  \u001b[3m               \u001b[0m                                                                                                         \n",
              " \u001b[3m                 \u001b[0m                                                                                                                          \n",
              " \u001b[3m                 \u001b[0m  \u001b[3m \u001b[0m\u001b[3mOutputs      \u001b[0m\u001b[3m \u001b[0m                                                                                                         \n",
              " \u001b[3m                 \u001b[0m  \u001b[3m               \u001b[0m   \u001b[1m \u001b[0m\u001b[1mfield name  \u001b[0m\u001b[1m \u001b[0m \u001b[1m \u001b[0m\u001b[1mtype \u001b[0m\u001b[1m \u001b[0m \u001b[1m \u001b[0m\u001b[1mdescription                                                              \u001b[0m\u001b[1m \u001b[0m    \n",
              " \u001b[3m                 \u001b[0m  \u001b[3m               \u001b[0m   ──────────────────────────────────────────────────────────────────────────────────────────────────    \n",
              " \u001b[3m                 \u001b[0m  \u001b[3m               \u001b[0m   \u001b[3m \u001b[0m\u001b[3mtokens_array\u001b[0m\u001b[3m \u001b[0m  array   The pre-processed content, as an array of lists of strings.                   \n",
              " \u001b[3m                 \u001b[0m  \u001b[3m               \u001b[0m                                                                                                         \n",
              " \u001b[3m                 \u001b[0m                                                                                                                          \n",
              "                                                                                                                                            \n"
            ]
          },
          "execution_count": 10,
          "metadata": {},
          "output_type": "execute_result"
        }
      ],
      "source": [
        "kiara.retrieve_operation_info('preprocess.tokens_array')"
      ]
    },
    {
      "attachments": {},
      "cell_type": "markdown",
      "metadata": {
        "id": "Xd12S2DvVjGn"
      },
      "source": [
        "*kiara* includes the most widely used text analysis pre-processing operations. Let's try some of them and take a few moments to notice how they change our texts.\n",
        "\n",
        "Let's start by removing stopwords. These are low information words, i.e., not semantically salient such as articles, pronouns, prepositions, conjunctions, etc. There are numerous stopword lists available for many, though not all, languages which can be easily adapted to the individual researcher's needs. Here we are defining our stopword list but feel free to experiment with your own."
      ]
    },
    {
      "cell_type": "code",
      "execution_count": null,
      "metadata": {
        "id": "PjR1TCPnWYi9"
      },
      "outputs": [],
      "source": [
        "import pandas as pd\n",
        "custom_stopword_list = list(pd.read_csv('stop_words.csv')['stopword'])"
      ]
    },
    {
      "attachments": {},
      "cell_type": "markdown",
      "metadata": {
        "id": "cFJ3U8-9aGde"
      },
      "source": [
        "Now that we have defined our stopword list, let's tell *kiara* to use it. "
      ]
    },
    {
      "cell_type": "code",
      "execution_count": null,
      "metadata": {
        "colab": {
          "base_uri": "https://localhost:8080/"
        },
        "id": "JsRNVD28aN_T",
        "outputId": "af2e1d0f-2d09-4144-fbfd-4c9f2287111b"
      },
      "outputs": [
        {
          "data": {
            "text/plain": [
              "ListModel(list_data=['Indiana', 'Not', 'Which', 'Who', 'a', 'ab', 'abbastanza', 'abbia', 'abbiamo', 'abbiano', 'abbiate', 'about', 'above', 'ac', 'accidenti', 'ad', 'adesso', 'af', 'affinche', 'after', 'again', 'against', 'agl', 'agli', 'ahime', 'ahimã¨', 'ahimè', 'ai', 'ain', 'al', 'alcuna', 'alcuni', 'alcuno', 'ali', 'alio', 'all', 'alla', 'alle', 'allo', 'allora', 'altre', 'altri', 'altrimenti', 'altro', 'altrove', 'altrui', 'am', 'ami', 'an', 'anche', 'ancho', 'anco', 'ancora', 'and', 'ani', 'anni', 'anno', 'ano', 'ansa', 'anticipo', 'any', 'aono', 'ap', 'ar', 'are', 'aren', \"aren't\", 'as', 'assai', 'at', 'attesa', 'attraverso', 'au', 'avanti', 'avemmo', 'avendo', 'avente', 'aver', 'avere', 'averlo', 'avesse', 'avessero', 'avessi', 'avessimo', 'aveste', 'avesti', 'avete', 'aveva', 'avevamo', 'avevano', 'avevate', 'avevi', 'avevo', 'avrai', 'avranno', 'avrebbe', 'avrebbero', 'avrei', 'avremmo', 'avremo', 'avreste', 'avresti', 'avrete', 'avrà', 'avrò', 'avuta', 'avute', 'avuti', 'avuto', 'b', 'ba', 'basta', 'be', 'because', 'been', 'before', 'being', 'below', 'ben', 'bene', 'benissimo', 'berlusconi', 'between', 'both', 'box', 'brava', 'bravo', 'buono', 'but', 'by', 'c', 'ca', 'cai', 'can', 'casa', 'caso', 'cav', 'cento', 'certa', 'certe', 'certi', 'certo', 'che', 'chi', 'chicchessia', 'chiunque', 'cho', 'ci', 'ciascuna', 'ciascuno', 'cima', 'cinque', 'cio', 'cioe', 'cioã¨', 'cioè', 'circa', 'citta', 'città', 'cittã', 'ciã²', 'ciò', 'cl', 'clic', 'co', 'codesta', 'codesti', 'codesto', 'cogli', 'coi', 'col', 'colei', 'coll', 'coloro', 'colui', 'com', 'come', 'cominci', 'comprare', 'comunque', 'con', 'concernente', 'conciliarsi', 'conclusione', 'coni', 'consecutivi', 'consecutivo', 'consiglio', 'contro', 'cortesia', 'cos', 'cosa', 'cosi', 'cosã¬', 'così', 'cou', 'couldn', \"couldn't\", 'county', 'cui', 'd', 'da', 'dagl', 'dagli', 'dai', 'daily', 'dal', 'dall', 'dalla', 'dalle', 'dallo', 'dappertutto', 'davanti', 'degl', 'degli', 'dei', 'del', 'dell', 'della', 'delle', 'dello', 'dentro', 'detto', 'deve', 'devo', 'di', 'dice', 'did', 'didn', \"didn't\", 'die', 'dietro', 'dii', 'dire', 'dirimpetto', 'diventa', 'diventare', 'diventato', 'dl', 'do', 'does', 'doesn', \"doesn't\", 'dogli', 'doi', 'doing', 'dol', 'dolio', 'dolla', 'don', \"don't\", 'dopo', 'doppio', 'dov', 'dove', 'dovo', 'dovra', 'dovrà', 'dovrã', 'dovunque', 'down', 'due', 'dunque', 'duo', 'durante', 'during', 'e', 'each', 'ebbe', 'ebbero', 'ebbi', 'ecc', 'ecco', 'ed', 'effettivamente', 'egli', 'ehe', 'eli', 'elio', 'ella', 'elle', 'entrambi', 'eon', 'eppure', 'era', 'erano', 'eravamo', 'eravate', 'eri', 'ero', 'es', 'esempio', 'esse', 'essendo', 'esser', 'essere', 'essi', 'ex', 'f', 'fa', 'faccia', 'facciamo', 'facciano', 'facciate', 'faccio', 'facemmo', 'facendo', 'facesse', 'facessero', 'facessi', 'facessimo', 'faceste', 'facesti', 'faceva', 'facevamo', 'facevano', 'facevate', 'facevi', 'facevo', 'fai', 'fanno', 'farai', 'faranno', 'fare', 'farebbe', 'farebbero', 'farei', 'faremmo', 'faremo', 'fareste', 'faresti', 'farete', 'farà', 'farò', 'fatto', 'favore', 'fe', 'fece', 'fecero', 'feci', 'few', 'fi', 'fin', 'finalmente', 'finche', 'fine', 'fino', 'for', 'forse', 'forza', 'fosse', 'fossero', 'fossi', 'fossimo', 'foste', 'fosti', 'fra', 'francisco.cal', 'frattempo', 'from', 'ft', 'fu', 'fui', 'fummo', 'fuori', 'furono', 'further', 'futuro', 'g', 'ge', 'generale', 'gente', 'gi', 'gia', 'giacche', 'giorni', 'giorno', 'giu', 'già', 'giã', 'gl', 'gli', 'gliela', 'gliele', 'glieli', 'glielo', 'gliene', 'go', 'governo', 'grande', 'grazie', 'gruppo', 'h', 'ha', 'had', 'hadn', \"hadn't\", 'haha', 'hai', 'hanno', 'has', 'hasn', \"hasn't\", 'have', 'haven', \"haven't\", 'having', 'he', 'her', 'here', 'hers', 'herself', 'hi', 'him', 'himself', 'his', 'ho', 'how', 'i', 'ia', 'ie', 'iella', 'ielle', 'ieri', 'if', 'ih', 'ii', 'iii', 'il', 'ila', 'ile', 'ilei', 'ili', 'ilio', 'ilo', 'im', 'ima', 'imi', 'imo', 'improvviso', 'in', 'ina', 'inc', 'indietro', 'infatti', 'ing', 'ini', 'ino', 'inoltre', 'insieme', 'intanto', 'into', 'intorno', 'invece', 'io', 'ione', 'ioni', 'ir', 'is', 'isn', \"isn't\", 'it', \"it's\", 'ita', 'ite', 'iti', 'ito', 'its', 'itself', 'iu', 'ix', 'j', 'just', 'k', 'l', 'la', 'lai', 'lasciato', 'last', 'lato', 'lavoro', 'le', 'lei', 'li', 'll', 'lo', 'lolla', 'lontano', 'loro', 'lu', 'lui', 'lungo', 'luogo', 'là', 'lã', 'm', 'ma', 'macche', 'made', 'magari', 'maggior', 'mai', 'male', 'malgrado', 'malissimo', 'mancanza', 'mar', 'marche', 'me', 'medesimo', 'mediante', 'meglio', 'men', 'meno', 'mentre', 'mesi', 'mezzo', 'mi', 'mia', 'mie', 'miei', 'mightn', \"mightn't\", 'mila', 'miliardi', 'milioni', 'min', 'minimi', 'ministro', 'mio', 'miss', 'modo', 'molta', 'molti', 'moltissimo', 'molto', 'momento', 'mondo', 'more', 'most', 'mosto', 'mrs', 'murrl', 'mustn', \"mustn't\", 'my', 'myself', 'n', 'na', 'nazionale', 'ne', 'needn', \"needn't\", 'negl', 'negli', 'nei', 'nel', 'nell', 'nella', 'nelle', 'nello', 'nemmeno', 'neppure', 'nessun', 'nessuna', 'nessuno', 'new', 'ni', 'niente', 'nini', 'nn', 'nna', 'no', 'noi', 'nolla', 'nome', 'nomo', 'non', 'nondimeno', 'nonostante', 'nonsia', 'nor', 'nostra', 'nostre', 'nostri', 'nostro', 'not', 'novanta', 'nove', 'now', 'nulla', 'nuovi', 'nuovo', 'nè', 'o', 'oc', 'od', 'of', 'off', 'oggi', 'ogni', 'ognuna', 'ognuno', 'ohe', 'oho', 'oli', 'oltre', 'on', 'once', 'one', 'only', 'oppure', 'or', 'ora', 'ore', 'osi', 'ossia', 'other', 'ottanta', 'otto', 'our', 'ours', 'ourselves', 'out', 'over', 'own', 'pa', 'paese', 'pag', 'parecchi', 'parecchie', 'parecchio', 'parte', 'partendo', 'peccato', 'peggio', 'pei', 'pel', 'per', 'perche', 'perchã¨', 'perchè', 'perché', 'percio', 'perciã²', 'perciò', 'perfino', 'pero', 'persino', 'persone', 'perã²', 'però', 'pi', 'piedi', 'pieno', 'piglia', 'pii', 'piu', 'piuttosto', 'piã¹', 'più', 'po', 'pochissimo', 'poco', 'poi', 'poiche', 'por', 'possa', 'possedere', 'posteriore', 'posto', 'potrebbe', 'pre', 'preferibilmente', 'presa', 'press', 'prima', 'primo', 'principalmente', 'probabilmente', 'promesso', 'proprio', 'prò', 'puo', 'pure', 'purtroppo', 'puã²', 'può', 'qua', 'qualche', 'qualcosa', 'qualcuna', 'qualcuno', 'quale', 'quali', 'qualo', 'qualunque', 'quando', 'quanta', 'quante', 'quanti', 'quanto', 'quantunque', 'quarto', 'quasi', 'quattro', 'que', 'quel', 'quella', 'quelle', 'quelli', 'quello', 'quest', 'questa', 'queste', 'questi', 'questo', 'qui', 'quindi', 'quinto', 'quosto', 'r', 'ra', 're', 'realmente', 'recente', 'recentemente', 'registrazione', 'relativo', 'ria', 'riecco', 'rii', 'rio', 'rispetto', 'ro', 's', 'salvo', 'same', 'san', 'sara', 'sarai', 'saranno', 'sarebbe', 'sarebbero', 'sarei', 'saremmo', 'saremo', 'sareste', 'saresti', 'sarete', 'sarà', 'sarã', 'sarò', 'scola', 'scopo', 'scorso', 'se', 'secondo', 'seguente', 'seguito', 'sei', 'sembra', 'sembrare', 'sembrato', 'sembrava', 'sembri', 'sempre', 'senza', 'sette', 'shan', \"shan't\", 'she', \"she's\", 'should', \"should've\", 'shouldn', \"shouldn't\", 'si', 'sia', 'siamo', 'siano', 'siate', 'siete', 'sig', 'sii', 'sin', 'so', 'solito', 'solo', 'soltanto', 'some', 'sono', 'sopra', 'soprattutto', 'sotto', 'spesso', 'srl', 'ss', 'sta', 'stai', 'stali', 'stalo', 'stando', 'stanno', 'starai', 'staranno', 'starebbe', 'starebbero', 'starei', 'staremmo', 'staremo', 'stareste', 'staresti', 'starete', 'starà', 'starò', 'stata', 'state', 'stati', 'stato', 'stava', 'stavamo', 'stavano', 'stavate', 'stavi', 'stavo', 'stemmo', 'stessa', 'stesse', 'stessero', 'stessi', 'stessimo', 'stesso', 'steste', 'stesti', 'stette', 'stettero', 'stetti', 'stia', 'stiamo', 'stiano', 'stiate', 'sto', 'su', 'sua', 'subito', 'successivamente', 'successivo', 'such', 'sue', 'sugl', 'sugli', 'sui', 'sul', 'sull', 'sulla', 'sulle', 'sullo', 'suo', 'suoi', 't', 'ta', 'taft', 'tale', 'tali', 'talvolta', 'tanto', 'te', 'tempo', 'terzo', 'th', 'than', 'that', \"that'll\", 'the', 'their', 'theirs', 'them', 'themselves', 'then', 'there', 'these', 'they', 'this', 'those', 'through', 'thè', 'ti', 'titolo', 'tl', 'to', 'too', 'tore', 'torino', 'tra', 'tranne', 'tre', 'trenta', 'tri', 'triplo', 'tro', 'troppo', 'trovato', 'tu', 'tua', 'tue', 'tulli', 'tuo', 'tuoi', 'tut', 'tutta', 'tuttavia', 'tutte', 'tutti', 'tutto', 'tà', 'u', 'uguali', 'ul', 'ulteriore', 'ultimo', 'un', 'una', 'under', 'uni', 'uno', 'until', 'uomo', 'up', 'ut', 'v', 'va', 'vai', 'vale', 'vari', 'varia', 'varie', 'vario', 've', 'verso', 'very', 'vi', 'via', 'vicino', 'vii', 'visto', 'vita', 'voi', 'volta', 'volte', 'vostra', 'vostre', 'vostri', 'vostro', 'w', 'war', 'was', 'wasn', \"wasn't\", 'we', 'were', 'weren', \"weren't\", 'what', 'when', 'where', 'which', 'while', 'who', 'whom', 'why', 'will', 'with', 'won', \"won't\", 'wouldn', \"wouldn't\", 'x', 'y', 'you', \"you'd\", \"you'll\", \"you're\", \"you've\", 'your', 'yours', 'yourself', 'yourselves', 'za', 'à', 'ã¨', 'è', 'ì', 'ò'], item_schema={'title': 'list', 'type': 'object'}, python_class=PythonClass(model_id=list, category=instance.wrapped_python_class, fields=[python_class_name, python_module_name, full_name]))"
            ]
          },
          "execution_count": 16,
          "metadata": {},
          "output_type": "execute_result"
        }
      ],
      "source": [
        "inputs = {\n",
        "    \"languages\": [\"italian\", \"english\"],\n",
        "    \"stopwords\": custom_stopword_list\n",
        "}\n",
        "\n",
        "stopwords_outputs = kiara.run_job('create.stopwords_list', inputs=inputs)\n",
        "my_stopwords_list = stopwords_outputs['stopwords_list']\n",
        "my_stopwords_list.data"
      ]
    },
    {
      "attachments": {},
      "cell_type": "markdown",
      "metadata": {
        "id": "IhDI9Qayan25"
      },
      "source": [
        "As you can see, our customed stopword list contains Italian and English. This is tailored to the specificity of our sources, newspapers written by Italian Americans that are mostly in Italian but also some English content. Using a customed list is preferable in most cases as it likely improves the quality of the results. We can now go ahead and ask *kiara* to remove the stopwords from our texts."
      ]
    },
    {
      "cell_type": "code",
      "execution_count": null,
      "metadata": {
        "colab": {
          "base_uri": "https://localhost:8080/",
          "height": 401
        },
        "id": "z4c6HfTbaS7L",
        "outputId": "c9994163-3ba0-48c3-eebe-90f0c8c2f0e6"
      },
      "outputs": [
        {
          "data": {
            "text/html": [
              "<pre style=\"white-space:pre;overflow-x:auto;line-height:normal;font-family:Menlo,'DejaVu Sans Mono',consolas,'Courier New',monospace\">╭──────────────────────────────────────────────────────────────────────────────────────────────────────────────────────────────────────────╮\n",
              "│                                                                                                                                          │\n",
              "│  <span style=\"font-weight: bold\"> field        </span> <span style=\"font-weight: bold\"> value                                                                                    </span>                               │\n",
              "│  ─────────────────────────────────────────────────────────────────────────────────────────────────────────                               │\n",
              "│  <span style=\"font-weight: bold\"> tokens_array </span> <span style=\"font-style: italic\">                                                                                          </span>                               │\n",
              "│  <span style=\"font-weight: bold\">              </span> <span style=\"font-style: italic\">   ['ragione', 'organo', 'difesa', 'vili', 'camorristi', 'sicari', 'falsari', 'aust ...   </span>                               │\n",
              "│  <span style=\"font-weight: bold\">              </span> <span style=\"font-style: italic\">   ['rag', 'vili', 'camorristi', 'sicari', 'falsari', 'austriacanti', 'nemici', 'pa ...   </span>                               │\n",
              "│  <span style=\"font-weight: bold\">              </span> <span style=\"font-style: italic\">   ['ragione', 'organo', 'difesa', 'italianità', 'vili', 'camorristi', 'sicari', 'f ...   </span>                               │\n",
              "│  <span style=\"font-weight: bold\">              </span> <span style=\"font-style: italic\">   ['vili', 'camorristi', 'sicari', 'falsari', 'austriacanti', 'nemici', 'patria',  ...   </span>                               │\n",
              "│  <span style=\"font-weight: bold\">              </span> <span style=\"font-style: italic\">   ['vili', 'camorristi', 'sicari', 'falsari', 'austriacanti', 'nemici', 'patria',  ...   </span>                               │\n",
              "│  <span style=\"font-weight: bold\">              </span> <span style=\"font-style: italic\">   ['ragiona', 'organo', 'difesa', 'italianità', 'vili', 'camorristi', 'sicari', 'f ...   </span>                               │\n",
              "│  <span style=\"font-weight: bold\">              </span> <span style=\"font-style: italic\">   ['ragione', 'organo', 'difesa', 'vili', 'camorristi', 'sicari', 'falsari', 'aust ...   </span>                               │\n",
              "│  <span style=\"font-weight: bold\">              </span> <span style=\"font-style: italic\">   ['ragione', 'vili', 'camorristi', 'sicari', 'falsari', 'austriacanti', 'nemici', ...   </span>                               │\n",
              "│  <span style=\"font-weight: bold\">              </span> <span style=\"font-style: italic\">   ['vili', 'camorristi', 'sicari', 'falsari', 'austriacanti', 'nemici', 'patria',  ...   </span>                               │\n",
              "│  <span style=\"font-weight: bold\">              </span> <span style=\"font-style: italic\">   ['rag', 'organo', 'difesa', 'italianità', 'vili', 'camorristi', 'sicari', 'falsa ...   </span>                               │\n",
              "│  <span style=\"font-weight: bold\">              </span> <span style=\"font-style: italic\">   ['vili', 'camorristi', 'sicari', 'falsari', 'austriacanti', 'nemici', 'patria',  ...   </span>                               │\n",
              "│  <span style=\"font-weight: bold\">              </span> <span style=\"font-style: italic\">   ['rassegna', 'phones', 'rassegna', 'colonia', 'risentita', 'necessità', 'giornal ...   </span>                               │\n",
              "│  <span style=\"font-weight: bold\">              </span> <span style=\"font-style: italic\">   ['rassegna', 'jjoth', 'phones', 'arte', 'amo', 'andati', 'assistendo', 'colo', ' ...   </span>                               │\n",
              "│  <span style=\"font-weight: bold\">              </span> <span style=\"font-style: italic\">   ['phones', 'quaiene', 'parie', 'uue', 'ama', 'maino', 'anelati', 'asaisienuo', ' ...   </span>                               │\n",
              "│  <span style=\"font-weight: bold\">              </span> <span style=\"font-style: italic\">   ['jsrìt', 'iik', 'phones', 'cose', 'ibi', 'dicendo', 'insinuando', 'colonia', 'g ...   </span>                               │\n",
              "│  <span style=\"font-weight: bold\">              </span> <span style=\"font-style: italic\">   ['phones', 'cose', 'dicendo', 'susurran', 'insinuando', 'colonia', 'gran', 'dose ...   </span>                               │\n",
              "│  <span style=\"font-weight: bold\">              </span> <span style=\"font-style: italic\">                                                                                          </span>                               │\n",
              "│                                                                                                                                          │\n",
              "╰──────────────────────────────────────────────────────────────────────────────────────────────────────────────────────────────────────────╯\n",
              "</pre>\n"
            ],
            "text/plain": [
              "╭──────────────────────────────────────────────────────────────────────────────────────────────────────────────────────────────────────────╮\n",
              "│                                                                                                                                          │\n",
              "│  \u001b[1m \u001b[0m\u001b[1mfield       \u001b[0m\u001b[1m \u001b[0m \u001b[1m \u001b[0m\u001b[1mvalue                                                                                   \u001b[0m\u001b[1m \u001b[0m                               │\n",
              "│  ─────────────────────────────────────────────────────────────────────────────────────────────────────────                               │\n",
              "│  \u001b[1m \u001b[0m\u001b[1mtokens_array\u001b[0m\u001b[1m \u001b[0m \u001b[3m \u001b[0m\u001b[3m                                                                                        \u001b[0m\u001b[3m \u001b[0m                               │\n",
              "│  \u001b[1m              \u001b[0m \u001b[3m \u001b[0m\u001b[3m \u001b[0m\u001b[3m \u001b[0m\u001b[3m['ragione', 'organo', 'difesa', 'vili', 'camorristi', 'sicari', 'falsari', 'aust ...\u001b[0m\u001b[3m \u001b[0m\u001b[3m \u001b[0m\u001b[3m \u001b[0m                               │\n",
              "│  \u001b[1m              \u001b[0m \u001b[3m \u001b[0m\u001b[3m \u001b[0m\u001b[3m \u001b[0m\u001b[3m['rag', 'vili', 'camorristi', 'sicari', 'falsari', 'austriacanti', 'nemici', 'pa ...\u001b[0m\u001b[3m \u001b[0m\u001b[3m \u001b[0m\u001b[3m \u001b[0m                               │\n",
              "│  \u001b[1m              \u001b[0m \u001b[3m \u001b[0m\u001b[3m \u001b[0m\u001b[3m \u001b[0m\u001b[3m['ragione', 'organo', 'difesa', 'italianità', 'vili', 'camorristi', 'sicari', 'f ...\u001b[0m\u001b[3m \u001b[0m\u001b[3m \u001b[0m\u001b[3m \u001b[0m                               │\n",
              "│  \u001b[1m              \u001b[0m \u001b[3m \u001b[0m\u001b[3m \u001b[0m\u001b[3m \u001b[0m\u001b[3m['vili', 'camorristi', 'sicari', 'falsari', 'austriacanti', 'nemici', 'patria',  ...\u001b[0m\u001b[3m \u001b[0m\u001b[3m \u001b[0m\u001b[3m \u001b[0m                               │\n",
              "│  \u001b[1m              \u001b[0m \u001b[3m \u001b[0m\u001b[3m \u001b[0m\u001b[3m \u001b[0m\u001b[3m['vili', 'camorristi', 'sicari', 'falsari', 'austriacanti', 'nemici', 'patria',  ...\u001b[0m\u001b[3m \u001b[0m\u001b[3m \u001b[0m\u001b[3m \u001b[0m                               │\n",
              "│  \u001b[1m              \u001b[0m \u001b[3m \u001b[0m\u001b[3m \u001b[0m\u001b[3m \u001b[0m\u001b[3m['ragiona', 'organo', 'difesa', 'italianità', 'vili', 'camorristi', 'sicari', 'f ...\u001b[0m\u001b[3m \u001b[0m\u001b[3m \u001b[0m\u001b[3m \u001b[0m                               │\n",
              "│  \u001b[1m              \u001b[0m \u001b[3m \u001b[0m\u001b[3m \u001b[0m\u001b[3m \u001b[0m\u001b[3m['ragione', 'organo', 'difesa', 'vili', 'camorristi', 'sicari', 'falsari', 'aust ...\u001b[0m\u001b[3m \u001b[0m\u001b[3m \u001b[0m\u001b[3m \u001b[0m                               │\n",
              "│  \u001b[1m              \u001b[0m \u001b[3m \u001b[0m\u001b[3m \u001b[0m\u001b[3m \u001b[0m\u001b[3m['ragione', 'vili', 'camorristi', 'sicari', 'falsari', 'austriacanti', 'nemici', ...\u001b[0m\u001b[3m \u001b[0m\u001b[3m \u001b[0m\u001b[3m \u001b[0m                               │\n",
              "│  \u001b[1m              \u001b[0m \u001b[3m \u001b[0m\u001b[3m \u001b[0m\u001b[3m \u001b[0m\u001b[3m['vili', 'camorristi', 'sicari', 'falsari', 'austriacanti', 'nemici', 'patria',  ...\u001b[0m\u001b[3m \u001b[0m\u001b[3m \u001b[0m\u001b[3m \u001b[0m                               │\n",
              "│  \u001b[1m              \u001b[0m \u001b[3m \u001b[0m\u001b[3m \u001b[0m\u001b[3m \u001b[0m\u001b[3m['rag', 'organo', 'difesa', 'italianità', 'vili', 'camorristi', 'sicari', 'falsa ...\u001b[0m\u001b[3m \u001b[0m\u001b[3m \u001b[0m\u001b[3m \u001b[0m                               │\n",
              "│  \u001b[1m              \u001b[0m \u001b[3m \u001b[0m\u001b[3m \u001b[0m\u001b[3m \u001b[0m\u001b[3m['vili', 'camorristi', 'sicari', 'falsari', 'austriacanti', 'nemici', 'patria',  ...\u001b[0m\u001b[3m \u001b[0m\u001b[3m \u001b[0m\u001b[3m \u001b[0m                               │\n",
              "│  \u001b[1m              \u001b[0m \u001b[3m \u001b[0m\u001b[3m \u001b[0m\u001b[3m \u001b[0m\u001b[3m['rassegna', 'phones', 'rassegna', 'colonia', 'risentita', 'necessità', 'giornal ...\u001b[0m\u001b[3m \u001b[0m\u001b[3m \u001b[0m\u001b[3m \u001b[0m                               │\n",
              "│  \u001b[1m              \u001b[0m \u001b[3m \u001b[0m\u001b[3m \u001b[0m\u001b[3m \u001b[0m\u001b[3m['rassegna', 'jjoth', 'phones', 'arte', 'amo', 'andati', 'assistendo', 'colo', ' ...\u001b[0m\u001b[3m \u001b[0m\u001b[3m \u001b[0m\u001b[3m \u001b[0m                               │\n",
              "│  \u001b[1m              \u001b[0m \u001b[3m \u001b[0m\u001b[3m \u001b[0m\u001b[3m \u001b[0m\u001b[3m['phones', 'quaiene', 'parie', 'uue', 'ama', 'maino', 'anelati', 'asaisienuo', ' ...\u001b[0m\u001b[3m \u001b[0m\u001b[3m \u001b[0m\u001b[3m \u001b[0m                               │\n",
              "│  \u001b[1m              \u001b[0m \u001b[3m \u001b[0m\u001b[3m \u001b[0m\u001b[3m \u001b[0m\u001b[3m['jsrìt', 'iik', 'phones', 'cose', 'ibi', 'dicendo', 'insinuando', 'colonia', 'g ...\u001b[0m\u001b[3m \u001b[0m\u001b[3m \u001b[0m\u001b[3m \u001b[0m                               │\n",
              "│  \u001b[1m              \u001b[0m \u001b[3m \u001b[0m\u001b[3m \u001b[0m\u001b[3m \u001b[0m\u001b[3m['phones', 'cose', 'dicendo', 'susurran', 'insinuando', 'colonia', 'gran', 'dose ...\u001b[0m\u001b[3m \u001b[0m\u001b[3m \u001b[0m\u001b[3m \u001b[0m                               │\n",
              "│  \u001b[1m              \u001b[0m \u001b[3m \u001b[0m\u001b[3m                                                                                        \u001b[0m\u001b[3m \u001b[0m                               │\n",
              "│                                                                                                                                          │\n",
              "╰──────────────────────────────────────────────────────────────────────────────────────────────────────────────────────────────────────────╯\n"
            ]
          },
          "execution_count": 17,
          "metadata": {},
          "output_type": "execute_result"
        }
      ],
      "source": [
        "inputs = {\n",
        "    'tokens_array': outputs['tokens_array'],\n",
        "    'remove_stopwords' : my_stopwords_list,\n",
        "    'to_lowercase': True,\n",
        "    'remove_non_alpha': True,\n",
        "    'remove_short_tokens': 2\n",
        "}\n",
        "\n",
        "outputs = kiara.run_job('preprocess.tokens_array', inputs=inputs)\n",
        "outputs"
      ]
    },
    {
      "attachments": {},
      "cell_type": "markdown",
      "metadata": {
        "id": "qHZS9zy-cUkp"
      },
      "source": [
        "Another pre-processing operation that is often performed is lowercasing. Again, it is impotant to keep in mind that each intervention on our sources heavily transforms them and as such, it has pros and cons. For this reason, although it is possible to combine more operations into one function, it is a good idea to proceed step-by-step and see how our choices are impacting on the material. For the purposes of this tutorial, let's combine lowercasing with removing any words with non-alpha tokens, that is removing all tokens that include punctuation and numbers (e.g., ex1a.mple)."
      ]
    },
    {
      "cell_type": "code",
      "execution_count": null,
      "metadata": {
        "colab": {
          "base_uri": "https://localhost:8080/",
          "height": 401
        },
        "id": "ZZZWv8useAu5",
        "outputId": "bce9cff3-b1ad-499d-e13b-5a51983330d7"
      },
      "outputs": [
        {
          "data": {
            "text/html": [
              "<pre style=\"white-space:pre;overflow-x:auto;line-height:normal;font-family:Menlo,'DejaVu Sans Mono',consolas,'Courier New',monospace\">╭──────────────────────────────────────────────────────────────────────────────────────────────────────────────────────────────────────────╮\n",
              "│                                                                                                                                          │\n",
              "│  <span style=\"font-weight: bold\"> field        </span> <span style=\"font-weight: bold\"> value                                                                                    </span>                               │\n",
              "│  ─────────────────────────────────────────────────────────────────────────────────────────────────────────                               │\n",
              "│  <span style=\"font-weight: bold\"> tokens_array </span> <span style=\"font-style: italic\">                                                                                          </span>                               │\n",
              "│  <span style=\"font-weight: bold\">              </span> <span style=\"font-style: italic\">   ['ragione', 'organo', 'difesa', 'vili', 'camorristi', 'sicari', 'falsari', 'aust ...   </span>                               │\n",
              "│  <span style=\"font-weight: bold\">              </span> <span style=\"font-style: italic\">   ['rag', 'vili', 'camorristi', 'sicari', 'falsari', 'austriacanti', 'nemici', 'pa ...   </span>                               │\n",
              "│  <span style=\"font-weight: bold\">              </span> <span style=\"font-style: italic\">   ['ragione', 'organo', 'difesa', 'italianità', 'vili', 'camorristi', 'sicari', 'f ...   </span>                               │\n",
              "│  <span style=\"font-weight: bold\">              </span> <span style=\"font-style: italic\">   ['vili', 'camorristi', 'sicari', 'falsari', 'austriacanti', 'nemici', 'patria',  ...   </span>                               │\n",
              "│  <span style=\"font-weight: bold\">              </span> <span style=\"font-style: italic\">   ['vili', 'camorristi', 'sicari', 'falsari', 'austriacanti', 'nemici', 'patria',  ...   </span>                               │\n",
              "│  <span style=\"font-weight: bold\">              </span> <span style=\"font-style: italic\">   ['ragiona', 'organo', 'difesa', 'italianità', 'vili', 'camorristi', 'sicari', 'f ...   </span>                               │\n",
              "│  <span style=\"font-weight: bold\">              </span> <span style=\"font-style: italic\">   ['ragione', 'organo', 'difesa', 'vili', 'camorristi', 'sicari', 'falsari', 'aust ...   </span>                               │\n",
              "│  <span style=\"font-weight: bold\">              </span> <span style=\"font-style: italic\">   ['ragione', 'vili', 'camorristi', 'sicari', 'falsari', 'austriacanti', 'nemici', ...   </span>                               │\n",
              "│  <span style=\"font-weight: bold\">              </span> <span style=\"font-style: italic\">   ['vili', 'camorristi', 'sicari', 'falsari', 'austriacanti', 'nemici', 'patria',  ...   </span>                               │\n",
              "│  <span style=\"font-weight: bold\">              </span> <span style=\"font-style: italic\">   ['rag', 'organo', 'difesa', 'italianità', 'vili', 'camorristi', 'sicari', 'falsa ...   </span>                               │\n",
              "│  <span style=\"font-weight: bold\">              </span> <span style=\"font-style: italic\">   ['vili', 'camorristi', 'sicari', 'falsari', 'austriacanti', 'nemici', 'patria',  ...   </span>                               │\n",
              "│  <span style=\"font-weight: bold\">              </span> <span style=\"font-style: italic\">   ['rassegna', 'phones', 'rassegna', 'colonia', 'risentita', 'necessità', 'giornal ...   </span>                               │\n",
              "│  <span style=\"font-weight: bold\">              </span> <span style=\"font-style: italic\">   ['rassegna', 'jjoth', 'phones', 'arte', 'amo', 'andati', 'assistendo', 'colo', ' ...   </span>                               │\n",
              "│  <span style=\"font-weight: bold\">              </span> <span style=\"font-style: italic\">   ['phones', 'quaiene', 'parie', 'uue', 'ama', 'maino', 'anelati', 'asaisienuo', ' ...   </span>                               │\n",
              "│  <span style=\"font-weight: bold\">              </span> <span style=\"font-style: italic\">   ['jsrìt', 'iik', 'phones', 'cose', 'ibi', 'dicendo', 'insinuando', 'colonia', 'g ...   </span>                               │\n",
              "│  <span style=\"font-weight: bold\">              </span> <span style=\"font-style: italic\">   ['phones', 'cose', 'dicendo', 'susurran', 'insinuando', 'colonia', 'gran', 'dose ...   </span>                               │\n",
              "│  <span style=\"font-weight: bold\">              </span> <span style=\"font-style: italic\">                                                                                          </span>                               │\n",
              "│                                                                                                                                          │\n",
              "╰──────────────────────────────────────────────────────────────────────────────────────────────────────────────────────────────────────────╯\n",
              "</pre>\n"
            ],
            "text/plain": [
              "╭──────────────────────────────────────────────────────────────────────────────────────────────────────────────────────────────────────────╮\n",
              "│                                                                                                                                          │\n",
              "│  \u001b[1m \u001b[0m\u001b[1mfield       \u001b[0m\u001b[1m \u001b[0m \u001b[1m \u001b[0m\u001b[1mvalue                                                                                   \u001b[0m\u001b[1m \u001b[0m                               │\n",
              "│  ─────────────────────────────────────────────────────────────────────────────────────────────────────────                               │\n",
              "│  \u001b[1m \u001b[0m\u001b[1mtokens_array\u001b[0m\u001b[1m \u001b[0m \u001b[3m \u001b[0m\u001b[3m                                                                                        \u001b[0m\u001b[3m \u001b[0m                               │\n",
              "│  \u001b[1m              \u001b[0m \u001b[3m \u001b[0m\u001b[3m \u001b[0m\u001b[3m \u001b[0m\u001b[3m['ragione', 'organo', 'difesa', 'vili', 'camorristi', 'sicari', 'falsari', 'aust ...\u001b[0m\u001b[3m \u001b[0m\u001b[3m \u001b[0m\u001b[3m \u001b[0m                               │\n",
              "│  \u001b[1m              \u001b[0m \u001b[3m \u001b[0m\u001b[3m \u001b[0m\u001b[3m \u001b[0m\u001b[3m['rag', 'vili', 'camorristi', 'sicari', 'falsari', 'austriacanti', 'nemici', 'pa ...\u001b[0m\u001b[3m \u001b[0m\u001b[3m \u001b[0m\u001b[3m \u001b[0m                               │\n",
              "│  \u001b[1m              \u001b[0m \u001b[3m \u001b[0m\u001b[3m \u001b[0m\u001b[3m \u001b[0m\u001b[3m['ragione', 'organo', 'difesa', 'italianità', 'vili', 'camorristi', 'sicari', 'f ...\u001b[0m\u001b[3m \u001b[0m\u001b[3m \u001b[0m\u001b[3m \u001b[0m                               │\n",
              "│  \u001b[1m              \u001b[0m \u001b[3m \u001b[0m\u001b[3m \u001b[0m\u001b[3m \u001b[0m\u001b[3m['vili', 'camorristi', 'sicari', 'falsari', 'austriacanti', 'nemici', 'patria',  ...\u001b[0m\u001b[3m \u001b[0m\u001b[3m \u001b[0m\u001b[3m \u001b[0m                               │\n",
              "│  \u001b[1m              \u001b[0m \u001b[3m \u001b[0m\u001b[3m \u001b[0m\u001b[3m \u001b[0m\u001b[3m['vili', 'camorristi', 'sicari', 'falsari', 'austriacanti', 'nemici', 'patria',  ...\u001b[0m\u001b[3m \u001b[0m\u001b[3m \u001b[0m\u001b[3m \u001b[0m                               │\n",
              "│  \u001b[1m              \u001b[0m \u001b[3m \u001b[0m\u001b[3m \u001b[0m\u001b[3m \u001b[0m\u001b[3m['ragiona', 'organo', 'difesa', 'italianità', 'vili', 'camorristi', 'sicari', 'f ...\u001b[0m\u001b[3m \u001b[0m\u001b[3m \u001b[0m\u001b[3m \u001b[0m                               │\n",
              "│  \u001b[1m              \u001b[0m \u001b[3m \u001b[0m\u001b[3m \u001b[0m\u001b[3m \u001b[0m\u001b[3m['ragione', 'organo', 'difesa', 'vili', 'camorristi', 'sicari', 'falsari', 'aust ...\u001b[0m\u001b[3m \u001b[0m\u001b[3m \u001b[0m\u001b[3m \u001b[0m                               │\n",
              "│  \u001b[1m              \u001b[0m \u001b[3m \u001b[0m\u001b[3m \u001b[0m\u001b[3m \u001b[0m\u001b[3m['ragione', 'vili', 'camorristi', 'sicari', 'falsari', 'austriacanti', 'nemici', ...\u001b[0m\u001b[3m \u001b[0m\u001b[3m \u001b[0m\u001b[3m \u001b[0m                               │\n",
              "│  \u001b[1m              \u001b[0m \u001b[3m \u001b[0m\u001b[3m \u001b[0m\u001b[3m \u001b[0m\u001b[3m['vili', 'camorristi', 'sicari', 'falsari', 'austriacanti', 'nemici', 'patria',  ...\u001b[0m\u001b[3m \u001b[0m\u001b[3m \u001b[0m\u001b[3m \u001b[0m                               │\n",
              "│  \u001b[1m              \u001b[0m \u001b[3m \u001b[0m\u001b[3m \u001b[0m\u001b[3m \u001b[0m\u001b[3m['rag', 'organo', 'difesa', 'italianità', 'vili', 'camorristi', 'sicari', 'falsa ...\u001b[0m\u001b[3m \u001b[0m\u001b[3m \u001b[0m\u001b[3m \u001b[0m                               │\n",
              "│  \u001b[1m              \u001b[0m \u001b[3m \u001b[0m\u001b[3m \u001b[0m\u001b[3m \u001b[0m\u001b[3m['vili', 'camorristi', 'sicari', 'falsari', 'austriacanti', 'nemici', 'patria',  ...\u001b[0m\u001b[3m \u001b[0m\u001b[3m \u001b[0m\u001b[3m \u001b[0m                               │\n",
              "│  \u001b[1m              \u001b[0m \u001b[3m \u001b[0m\u001b[3m \u001b[0m\u001b[3m \u001b[0m\u001b[3m['rassegna', 'phones', 'rassegna', 'colonia', 'risentita', 'necessità', 'giornal ...\u001b[0m\u001b[3m \u001b[0m\u001b[3m \u001b[0m\u001b[3m \u001b[0m                               │\n",
              "│  \u001b[1m              \u001b[0m \u001b[3m \u001b[0m\u001b[3m \u001b[0m\u001b[3m \u001b[0m\u001b[3m['rassegna', 'jjoth', 'phones', 'arte', 'amo', 'andati', 'assistendo', 'colo', ' ...\u001b[0m\u001b[3m \u001b[0m\u001b[3m \u001b[0m\u001b[3m \u001b[0m                               │\n",
              "│  \u001b[1m              \u001b[0m \u001b[3m \u001b[0m\u001b[3m \u001b[0m\u001b[3m \u001b[0m\u001b[3m['phones', 'quaiene', 'parie', 'uue', 'ama', 'maino', 'anelati', 'asaisienuo', ' ...\u001b[0m\u001b[3m \u001b[0m\u001b[3m \u001b[0m\u001b[3m \u001b[0m                               │\n",
              "│  \u001b[1m              \u001b[0m \u001b[3m \u001b[0m\u001b[3m \u001b[0m\u001b[3m \u001b[0m\u001b[3m['jsrìt', 'iik', 'phones', 'cose', 'ibi', 'dicendo', 'insinuando', 'colonia', 'g ...\u001b[0m\u001b[3m \u001b[0m\u001b[3m \u001b[0m\u001b[3m \u001b[0m                               │\n",
              "│  \u001b[1m              \u001b[0m \u001b[3m \u001b[0m\u001b[3m \u001b[0m\u001b[3m \u001b[0m\u001b[3m['phones', 'cose', 'dicendo', 'susurran', 'insinuando', 'colonia', 'gran', 'dose ...\u001b[0m\u001b[3m \u001b[0m\u001b[3m \u001b[0m\u001b[3m \u001b[0m                               │\n",
              "│  \u001b[1m              \u001b[0m \u001b[3m \u001b[0m\u001b[3m                                                                                        \u001b[0m\u001b[3m \u001b[0m                               │\n",
              "│                                                                                                                                          │\n",
              "╰──────────────────────────────────────────────────────────────────────────────────────────────────────────────────────────────────────────╯\n"
            ]
          },
          "execution_count": 18,
          "metadata": {},
          "output_type": "execute_result"
        }
      ],
      "source": [
        "inputs = {\n",
        "    'tokens_array': outputs['tokens_array'],\n",
        "    'to_lowercase' : True,\n",
        "    'remove_non_alpha' : True\n",
        "}\n",
        "\n",
        "outputs = kiara.run_job('preprocess.tokens_array', inputs=inputs)\n",
        "outputs"
      ]
    },
    {
      "attachments": {},
      "cell_type": "markdown",
      "metadata": {
        "id": "6WrDplnkfI1A"
      },
      "source": [
        "Another operations that we can perform to potentially improve the quality of our results is to remove all the tokens shorter or equal to a value that we set. Again, this is another example of an intervention on the sources that depends on the researcher's choices and that is based on the specificity of the sources. In this case, as we are working with historical newspapers, the quality of the OCR content is not optimal, meaning that our texts contain several errors. Removing tokens shorter than or equal to X characters may remove many of such errors. Here we are definining this value at 2 but feel free to experiment with different options based on your sources."
      ]
    },
    {
      "cell_type": "code",
      "execution_count": null,
      "metadata": {
        "colab": {
          "base_uri": "https://localhost:8080/",
          "height": 401
        },
        "id": "6iWgcR-OezFB",
        "outputId": "8e94c879-f456-4f4c-de78-a4b81b2fa7f8"
      },
      "outputs": [
        {
          "data": {
            "text/html": [
              "<pre style=\"white-space:pre;overflow-x:auto;line-height:normal;font-family:Menlo,'DejaVu Sans Mono',consolas,'Courier New',monospace\">╭──────────────────────────────────────────────────────────────────────────────────────────────────────────────────────────────────────────╮\n",
              "│                                                                                                                                          │\n",
              "│  <span style=\"font-weight: bold\"> field        </span> <span style=\"font-weight: bold\"> value                                                                                    </span>                               │\n",
              "│  ─────────────────────────────────────────────────────────────────────────────────────────────────────────                               │\n",
              "│  <span style=\"font-weight: bold\"> tokens_array </span> <span style=\"font-style: italic\">                                                                                          </span>                               │\n",
              "│  <span style=\"font-weight: bold\">              </span> <span style=\"font-style: italic\">   ['ragione', 'organo', 'difesa', 'vili', 'camorristi', 'sicari', 'falsari', 'aust ...   </span>                               │\n",
              "│  <span style=\"font-weight: bold\">              </span> <span style=\"font-style: italic\">   ['rag', 'vili', 'camorristi', 'sicari', 'falsari', 'austriacanti', 'nemici', 'pa ...   </span>                               │\n",
              "│  <span style=\"font-weight: bold\">              </span> <span style=\"font-style: italic\">   ['ragione', 'organo', 'difesa', 'italianità', 'vili', 'camorristi', 'sicari', 'f ...   </span>                               │\n",
              "│  <span style=\"font-weight: bold\">              </span> <span style=\"font-style: italic\">   ['vili', 'camorristi', 'sicari', 'falsari', 'austriacanti', 'nemici', 'patria',  ...   </span>                               │\n",
              "│  <span style=\"font-weight: bold\">              </span> <span style=\"font-style: italic\">   ['vili', 'camorristi', 'sicari', 'falsari', 'austriacanti', 'nemici', 'patria',  ...   </span>                               │\n",
              "│  <span style=\"font-weight: bold\">              </span> <span style=\"font-style: italic\">   ['ragiona', 'organo', 'difesa', 'italianità', 'vili', 'camorristi', 'sicari', 'f ...   </span>                               │\n",
              "│  <span style=\"font-weight: bold\">              </span> <span style=\"font-style: italic\">   ['ragione', 'organo', 'difesa', 'vili', 'camorristi', 'sicari', 'falsari', 'aust ...   </span>                               │\n",
              "│  <span style=\"font-weight: bold\">              </span> <span style=\"font-style: italic\">   ['ragione', 'vili', 'camorristi', 'sicari', 'falsari', 'austriacanti', 'nemici', ...   </span>                               │\n",
              "│  <span style=\"font-weight: bold\">              </span> <span style=\"font-style: italic\">   ['vili', 'camorristi', 'sicari', 'falsari', 'austriacanti', 'nemici', 'patria',  ...   </span>                               │\n",
              "│  <span style=\"font-weight: bold\">              </span> <span style=\"font-style: italic\">   ['rag', 'organo', 'difesa', 'italianità', 'vili', 'camorristi', 'sicari', 'falsa ...   </span>                               │\n",
              "│  <span style=\"font-weight: bold\">              </span> <span style=\"font-style: italic\">   ['vili', 'camorristi', 'sicari', 'falsari', 'austriacanti', 'nemici', 'patria',  ...   </span>                               │\n",
              "│  <span style=\"font-weight: bold\">              </span> <span style=\"font-style: italic\">   ['rassegna', 'phones', 'rassegna', 'colonia', 'risentita', 'necessità', 'giornal ...   </span>                               │\n",
              "│  <span style=\"font-weight: bold\">              </span> <span style=\"font-style: italic\">   ['rassegna', 'jjoth', 'phones', 'arte', 'amo', 'andati', 'assistendo', 'colo', ' ...   </span>                               │\n",
              "│  <span style=\"font-weight: bold\">              </span> <span style=\"font-style: italic\">   ['phones', 'quaiene', 'parie', 'uue', 'ama', 'maino', 'anelati', 'asaisienuo', ' ...   </span>                               │\n",
              "│  <span style=\"font-weight: bold\">              </span> <span style=\"font-style: italic\">   ['jsrìt', 'iik', 'phones', 'cose', 'ibi', 'dicendo', 'insinuando', 'colonia', 'g ...   </span>                               │\n",
              "│  <span style=\"font-weight: bold\">              </span> <span style=\"font-style: italic\">   ['phones', 'cose', 'dicendo', 'susurran', 'insinuando', 'colonia', 'gran', 'dose ...   </span>                               │\n",
              "│  <span style=\"font-weight: bold\">              </span> <span style=\"font-style: italic\">                                                                                          </span>                               │\n",
              "│                                                                                                                                          │\n",
              "╰──────────────────────────────────────────────────────────────────────────────────────────────────────────────────────────────────────────╯\n",
              "</pre>\n"
            ],
            "text/plain": [
              "╭──────────────────────────────────────────────────────────────────────────────────────────────────────────────────────────────────────────╮\n",
              "│                                                                                                                                          │\n",
              "│  \u001b[1m \u001b[0m\u001b[1mfield       \u001b[0m\u001b[1m \u001b[0m \u001b[1m \u001b[0m\u001b[1mvalue                                                                                   \u001b[0m\u001b[1m \u001b[0m                               │\n",
              "│  ─────────────────────────────────────────────────────────────────────────────────────────────────────────                               │\n",
              "│  \u001b[1m \u001b[0m\u001b[1mtokens_array\u001b[0m\u001b[1m \u001b[0m \u001b[3m \u001b[0m\u001b[3m                                                                                        \u001b[0m\u001b[3m \u001b[0m                               │\n",
              "│  \u001b[1m              \u001b[0m \u001b[3m \u001b[0m\u001b[3m \u001b[0m\u001b[3m \u001b[0m\u001b[3m['ragione', 'organo', 'difesa', 'vili', 'camorristi', 'sicari', 'falsari', 'aust ...\u001b[0m\u001b[3m \u001b[0m\u001b[3m \u001b[0m\u001b[3m \u001b[0m                               │\n",
              "│  \u001b[1m              \u001b[0m \u001b[3m \u001b[0m\u001b[3m \u001b[0m\u001b[3m \u001b[0m\u001b[3m['rag', 'vili', 'camorristi', 'sicari', 'falsari', 'austriacanti', 'nemici', 'pa ...\u001b[0m\u001b[3m \u001b[0m\u001b[3m \u001b[0m\u001b[3m \u001b[0m                               │\n",
              "│  \u001b[1m              \u001b[0m \u001b[3m \u001b[0m\u001b[3m \u001b[0m\u001b[3m \u001b[0m\u001b[3m['ragione', 'organo', 'difesa', 'italianità', 'vili', 'camorristi', 'sicari', 'f ...\u001b[0m\u001b[3m \u001b[0m\u001b[3m \u001b[0m\u001b[3m \u001b[0m                               │\n",
              "│  \u001b[1m              \u001b[0m \u001b[3m \u001b[0m\u001b[3m \u001b[0m\u001b[3m \u001b[0m\u001b[3m['vili', 'camorristi', 'sicari', 'falsari', 'austriacanti', 'nemici', 'patria',  ...\u001b[0m\u001b[3m \u001b[0m\u001b[3m \u001b[0m\u001b[3m \u001b[0m                               │\n",
              "│  \u001b[1m              \u001b[0m \u001b[3m \u001b[0m\u001b[3m \u001b[0m\u001b[3m \u001b[0m\u001b[3m['vili', 'camorristi', 'sicari', 'falsari', 'austriacanti', 'nemici', 'patria',  ...\u001b[0m\u001b[3m \u001b[0m\u001b[3m \u001b[0m\u001b[3m \u001b[0m                               │\n",
              "│  \u001b[1m              \u001b[0m \u001b[3m \u001b[0m\u001b[3m \u001b[0m\u001b[3m \u001b[0m\u001b[3m['ragiona', 'organo', 'difesa', 'italianità', 'vili', 'camorristi', 'sicari', 'f ...\u001b[0m\u001b[3m \u001b[0m\u001b[3m \u001b[0m\u001b[3m \u001b[0m                               │\n",
              "│  \u001b[1m              \u001b[0m \u001b[3m \u001b[0m\u001b[3m \u001b[0m\u001b[3m \u001b[0m\u001b[3m['ragione', 'organo', 'difesa', 'vili', 'camorristi', 'sicari', 'falsari', 'aust ...\u001b[0m\u001b[3m \u001b[0m\u001b[3m \u001b[0m\u001b[3m \u001b[0m                               │\n",
              "│  \u001b[1m              \u001b[0m \u001b[3m \u001b[0m\u001b[3m \u001b[0m\u001b[3m \u001b[0m\u001b[3m['ragione', 'vili', 'camorristi', 'sicari', 'falsari', 'austriacanti', 'nemici', ...\u001b[0m\u001b[3m \u001b[0m\u001b[3m \u001b[0m\u001b[3m \u001b[0m                               │\n",
              "│  \u001b[1m              \u001b[0m \u001b[3m \u001b[0m\u001b[3m \u001b[0m\u001b[3m \u001b[0m\u001b[3m['vili', 'camorristi', 'sicari', 'falsari', 'austriacanti', 'nemici', 'patria',  ...\u001b[0m\u001b[3m \u001b[0m\u001b[3m \u001b[0m\u001b[3m \u001b[0m                               │\n",
              "│  \u001b[1m              \u001b[0m \u001b[3m \u001b[0m\u001b[3m \u001b[0m\u001b[3m \u001b[0m\u001b[3m['rag', 'organo', 'difesa', 'italianità', 'vili', 'camorristi', 'sicari', 'falsa ...\u001b[0m\u001b[3m \u001b[0m\u001b[3m \u001b[0m\u001b[3m \u001b[0m                               │\n",
              "│  \u001b[1m              \u001b[0m \u001b[3m \u001b[0m\u001b[3m \u001b[0m\u001b[3m \u001b[0m\u001b[3m['vili', 'camorristi', 'sicari', 'falsari', 'austriacanti', 'nemici', 'patria',  ...\u001b[0m\u001b[3m \u001b[0m\u001b[3m \u001b[0m\u001b[3m \u001b[0m                               │\n",
              "│  \u001b[1m              \u001b[0m \u001b[3m \u001b[0m\u001b[3m \u001b[0m\u001b[3m \u001b[0m\u001b[3m['rassegna', 'phones', 'rassegna', 'colonia', 'risentita', 'necessità', 'giornal ...\u001b[0m\u001b[3m \u001b[0m\u001b[3m \u001b[0m\u001b[3m \u001b[0m                               │\n",
              "│  \u001b[1m              \u001b[0m \u001b[3m \u001b[0m\u001b[3m \u001b[0m\u001b[3m \u001b[0m\u001b[3m['rassegna', 'jjoth', 'phones', 'arte', 'amo', 'andati', 'assistendo', 'colo', ' ...\u001b[0m\u001b[3m \u001b[0m\u001b[3m \u001b[0m\u001b[3m \u001b[0m                               │\n",
              "│  \u001b[1m              \u001b[0m \u001b[3m \u001b[0m\u001b[3m \u001b[0m\u001b[3m \u001b[0m\u001b[3m['phones', 'quaiene', 'parie', 'uue', 'ama', 'maino', 'anelati', 'asaisienuo', ' ...\u001b[0m\u001b[3m \u001b[0m\u001b[3m \u001b[0m\u001b[3m \u001b[0m                               │\n",
              "│  \u001b[1m              \u001b[0m \u001b[3m \u001b[0m\u001b[3m \u001b[0m\u001b[3m \u001b[0m\u001b[3m['jsrìt', 'iik', 'phones', 'cose', 'ibi', 'dicendo', 'insinuando', 'colonia', 'g ...\u001b[0m\u001b[3m \u001b[0m\u001b[3m \u001b[0m\u001b[3m \u001b[0m                               │\n",
              "│  \u001b[1m              \u001b[0m \u001b[3m \u001b[0m\u001b[3m \u001b[0m\u001b[3m \u001b[0m\u001b[3m['phones', 'cose', 'dicendo', 'susurran', 'insinuando', 'colonia', 'gran', 'dose ...\u001b[0m\u001b[3m \u001b[0m\u001b[3m \u001b[0m\u001b[3m \u001b[0m                               │\n",
              "│  \u001b[1m              \u001b[0m \u001b[3m \u001b[0m\u001b[3m                                                                                        \u001b[0m\u001b[3m \u001b[0m                               │\n",
              "│                                                                                                                                          │\n",
              "╰──────────────────────────────────────────────────────────────────────────────────────────────────────────────────────────────────────────╯\n"
            ]
          },
          "execution_count": 19,
          "metadata": {},
          "output_type": "execute_result"
        }
      ],
      "source": [
        "inputs = {\n",
        "    'tokens_array': outputs['tokens_array'],\n",
        "    'remove_short_tokens' : 2\n",
        "}\n",
        "\n",
        "outputs = kiara.run_job('preprocess.tokens_array', inputs=inputs)\n",
        "outputs "
      ]
    }
  ],
  "metadata": {
    "colab": {
      "provenance": []
    },
    "kernelspec": {
      "display_name": "Python 3",
      "name": "python3"
    },
    "language_info": {
      "name": "python"
    }
  },
  "nbformat": 4,
  "nbformat_minor": 0
}
